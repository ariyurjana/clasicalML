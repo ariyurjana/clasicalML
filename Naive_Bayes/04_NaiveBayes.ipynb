{
 "cells": [
  {
   "cell_type": "markdown",
   "metadata": {
    "colab_type": "text",
    "id": "UIn1GsFNJkjH"
   },
   "source": [
    "# Amazon Fine Food Reviews Analysis\n",
    "\n",
    "\n",
    "Data Source: https://www.kaggle.com/snap/amazon-fine-food-reviews <br>\n",
    "\n",
    "EDA: https://nycdatascience.com/blog/student-works/amazon-fine-foods-visualization/\n",
    "\n",
    "\n",
    "The Amazon Fine Food Reviews dataset consists of reviews of fine foods from Amazon.<br>\n",
    "\n",
    "Number of reviews: 568,454<br>\n",
    "Number of users: 256,059<br>\n",
    "Number of products: 74,258<br>\n",
    "Timespan: Oct 1999 - Oct 2012<br>\n",
    "Number of Attributes/Columns in data: 10 \n",
    "\n",
    "Attribute Information:\n",
    "\n",
    "1. Id\n",
    "2. ProductId - unique identifier for the product\n",
    "3. UserId - unqiue identifier for the user\n",
    "4. ProfileName\n",
    "5. HelpfulnessNumerator - number of users who found the review helpful\n",
    "6. HelpfulnessDenominator - number of users who indicated whether they found the review helpful or not\n",
    "7. Score - rating between 1 and 5\n",
    "8. Time - timestamp for the review\n",
    "9. Summary - brief summary of the review\n",
    "10. Text - text of the review\n",
    "\n",
    "\n",
    "#### Objective:\n",
    "Given a review, determine whether the review is positive (rating of 4 or 5) or negative (rating of 1 or 2).\n",
    "\n",
    "<br>\n",
    "[Q] How to determine if a review is positive or negative?<br>\n",
    "<br> \n",
    "[Ans] We could use Score/Rating. A rating of 4 or 5 can be cosnidered as a positive review. A rating of 1 or 2 can be considered as negative one. A review of rating 3 is considered nuetral and such reviews are ignored from our analysis. This is an approximate and proxy way of determining the polarity (positivity/negativity) of a review.\n",
    "\n",
    "\n"
   ]
  },
  {
   "cell_type": "markdown",
   "metadata": {
    "colab_type": "text",
    "id": "5Uf26aoLJkjJ"
   },
   "source": [
    "# [1]. Reading Data"
   ]
  },
  {
   "cell_type": "markdown",
   "metadata": {
    "colab_type": "text",
    "id": "yo-LaJg3JkjK"
   },
   "source": [
    "## [1.1] Loading the data\n",
    "\n",
    "The dataset is available in two forms\n",
    "1. .csv file\n",
    "2. SQLite Database\n",
    "\n",
    "In order to load the data, We have used the SQLITE dataset as it is easier to query the data and visualise the data efficiently.\n",
    "<br> \n",
    "\n",
    "Here as we only want to get the global sentiment of the recommendations (positive or negative), we will purposefully ignore all Scores equal to 3. If the score is above 3, then the recommendation wil be set to \"positive\". Otherwise, it will be set to \"negative\"."
   ]
  },
  {
   "cell_type": "code",
   "execution_count": 19,
   "metadata": {
    "colab": {},
    "colab_type": "code",
    "id": "dLYq3BkfJkjL"
   },
   "outputs": [],
   "source": [
    "%matplotlib inline\n",
    "import warnings\n",
    "warnings.filterwarnings(\"ignore\")\n",
    "\n",
    "\n",
    "import sqlite3\n",
    "import pandas as pd\n",
    "import numpy as np\n",
    "import nltk\n",
    "import string\n",
    "import matplotlib.pyplot as plt\n",
    "from sklearn.feature_extraction.text import TfidfTransformer\n",
    "from sklearn.feature_extraction.text import TfidfVectorizer\n",
    "\n",
    "from sklearn.feature_extraction.text import CountVectorizer\n",
    "from sklearn.metrics import confusion_matrix\n",
    "from sklearn import metrics\n",
    "from sklearn.metrics import roc_curve, auc\n",
    "from nltk.stem.porter import PorterStemmer\n",
    "from nltk.stem.snowball import SnowballStemmer\n",
    "\n",
    "from bs4 import BeautifulSoup\n",
    "import re\n",
    "# Tutorial about Python regular expressions: https://pymotw.com/2/re/\n",
    "import string\n",
    "from nltk import word_tokenize, sent_tokenize\n",
    "from nltk.corpus import stopwords\n",
    "from nltk.stem import PorterStemmer\n",
    "from nltk.stem.wordnet import WordNetLemmatizer\n",
    "\n",
    "from gensim.models import Word2Vec\n",
    "from gensim.models import KeyedVectors\n",
    "import pickle\n",
    "\n",
    "from tqdm import tqdm\n",
    "import os"
   ]
  },
  {
   "cell_type": "code",
   "execution_count": 20,
   "metadata": {
    "colab": {},
    "colab_type": "code",
    "id": "rXVxnx_NJkjO",
    "outputId": "98628980-4d6e-4c53-913f-2d207932d2d0"
   },
   "outputs": [
    {
     "name": "stdout",
     "output_type": "stream",
     "text": [
      "Number of data points in our data (525814, 10)\n"
     ]
    },
    {
     "data": {
      "text/html": [
       "<div>\n",
       "<style scoped>\n",
       "    .dataframe tbody tr th:only-of-type {\n",
       "        vertical-align: middle;\n",
       "    }\n",
       "\n",
       "    .dataframe tbody tr th {\n",
       "        vertical-align: top;\n",
       "    }\n",
       "\n",
       "    .dataframe thead th {\n",
       "        text-align: right;\n",
       "    }\n",
       "</style>\n",
       "<table border=\"1\" class=\"dataframe\">\n",
       "  <thead>\n",
       "    <tr style=\"text-align: right;\">\n",
       "      <th></th>\n",
       "      <th>Id</th>\n",
       "      <th>ProductId</th>\n",
       "      <th>UserId</th>\n",
       "      <th>ProfileName</th>\n",
       "      <th>HelpfulnessNumerator</th>\n",
       "      <th>HelpfulnessDenominator</th>\n",
       "      <th>Score</th>\n",
       "      <th>Time</th>\n",
       "      <th>Summary</th>\n",
       "      <th>Text</th>\n",
       "    </tr>\n",
       "  </thead>\n",
       "  <tbody>\n",
       "    <tr>\n",
       "      <th>0</th>\n",
       "      <td>1</td>\n",
       "      <td>B001E4KFG0</td>\n",
       "      <td>A3SGXH7AUHU8GW</td>\n",
       "      <td>delmartian</td>\n",
       "      <td>1</td>\n",
       "      <td>1</td>\n",
       "      <td>1</td>\n",
       "      <td>1303862400</td>\n",
       "      <td>Good Quality Dog Food</td>\n",
       "      <td>I have bought several of the Vitality canned d...</td>\n",
       "    </tr>\n",
       "    <tr>\n",
       "      <th>1</th>\n",
       "      <td>2</td>\n",
       "      <td>B00813GRG4</td>\n",
       "      <td>A1D87F6ZCVE5NK</td>\n",
       "      <td>dll pa</td>\n",
       "      <td>0</td>\n",
       "      <td>0</td>\n",
       "      <td>0</td>\n",
       "      <td>1346976000</td>\n",
       "      <td>Not as Advertised</td>\n",
       "      <td>Product arrived labeled as Jumbo Salted Peanut...</td>\n",
       "    </tr>\n",
       "    <tr>\n",
       "      <th>2</th>\n",
       "      <td>3</td>\n",
       "      <td>B000LQOCH0</td>\n",
       "      <td>ABXLMWJIXXAIN</td>\n",
       "      <td>Natalia Corres \"Natalia Corres\"</td>\n",
       "      <td>1</td>\n",
       "      <td>1</td>\n",
       "      <td>1</td>\n",
       "      <td>1219017600</td>\n",
       "      <td>\"Delight\" says it all</td>\n",
       "      <td>This is a confection that has been around a fe...</td>\n",
       "    </tr>\n",
       "  </tbody>\n",
       "</table>\n",
       "</div>"
      ],
      "text/plain": [
       "   Id   ProductId          UserId                      ProfileName  \\\n",
       "0   1  B001E4KFG0  A3SGXH7AUHU8GW                       delmartian   \n",
       "1   2  B00813GRG4  A1D87F6ZCVE5NK                           dll pa   \n",
       "2   3  B000LQOCH0   ABXLMWJIXXAIN  Natalia Corres \"Natalia Corres\"   \n",
       "\n",
       "   HelpfulnessNumerator  HelpfulnessDenominator  Score        Time  \\\n",
       "0                     1                       1      1  1303862400   \n",
       "1                     0                       0      0  1346976000   \n",
       "2                     1                       1      1  1219017600   \n",
       "\n",
       "                 Summary                                               Text  \n",
       "0  Good Quality Dog Food  I have bought several of the Vitality canned d...  \n",
       "1      Not as Advertised  Product arrived labeled as Jumbo Salted Peanut...  \n",
       "2  \"Delight\" says it all  This is a confection that has been around a fe...  "
      ]
     },
     "execution_count": 20,
     "metadata": {},
     "output_type": "execute_result"
    }
   ],
   "source": [
    "# using SQLite Table to read data.\n",
    "con = sqlite3.connect('E:/appliedaiacourse/assignments/dblite/database.sqlite') \n",
    "\n",
    "# filtering only positive and negative reviews i.e. \n",
    "# not taking into consideration those reviews with Score=3\n",
    "# SELECT * FROM Reviews WHERE Score != 3 LIMIT 500000, will give top 500000 data points\n",
    "# you can change the number to any other number based on your computing power\n",
    "\n",
    "# filtered_data = pd.read_sql_query(\"\"\" SELECT * FROM Reviews WHERE Score != 3 LIMIT 500000\"\"\", con) \n",
    "# for tsne assignment you can take 5k data points\n",
    "\n",
    "#filtered_data = pd.read_sql_query(\"\"\" SELECT * FROM Reviews WHERE Score != 3 LIMIT 5000\"\"\", con) \n",
    "filtered_data = pd.read_sql_query(\"\"\" SELECT * FROM Reviews WHERE Score != 3 \"\"\", con) \n",
    "\n",
    "# Give reviews with Score>3 a positive rating(1), and reviews with a score<3 a negative rating(0).\n",
    "def partition(x):\n",
    "    if x < 3:\n",
    "        return 0\n",
    "    return 1\n",
    "\n",
    "#changing reviews with score less than 3 to be positive and vice-versa\n",
    "actualScore = filtered_data['Score']\n",
    "positiveNegative = actualScore.map(partition) \n",
    "filtered_data['Score'] = positiveNegative\n",
    "print(\"Number of data points in our data\", filtered_data.shape)\n",
    "filtered_data.head(3)"
   ]
  },
  {
   "cell_type": "code",
   "execution_count": 21,
   "metadata": {
    "colab": {},
    "colab_type": "code",
    "id": "ZLasp3QxJkjS"
   },
   "outputs": [],
   "source": [
    "display = pd.read_sql_query(\"\"\"\n",
    "SELECT UserId, ProductId, ProfileName, Time, Score, Text, COUNT(*)\n",
    "FROM Reviews\n",
    "GROUP BY UserId\n",
    "HAVING COUNT(*)>1\n",
    "\"\"\", con)"
   ]
  },
  {
   "cell_type": "code",
   "execution_count": 22,
   "metadata": {
    "colab": {},
    "colab_type": "code",
    "id": "pHzk_lUkJkjW",
    "outputId": "3461f626-dc72-4b0d-af37-c3625e7e81b2",
    "scrolled": true
   },
   "outputs": [
    {
     "name": "stdout",
     "output_type": "stream",
     "text": [
      "(80668, 7)\n"
     ]
    },
    {
     "data": {
      "text/html": [
       "<div>\n",
       "<style scoped>\n",
       "    .dataframe tbody tr th:only-of-type {\n",
       "        vertical-align: middle;\n",
       "    }\n",
       "\n",
       "    .dataframe tbody tr th {\n",
       "        vertical-align: top;\n",
       "    }\n",
       "\n",
       "    .dataframe thead th {\n",
       "        text-align: right;\n",
       "    }\n",
       "</style>\n",
       "<table border=\"1\" class=\"dataframe\">\n",
       "  <thead>\n",
       "    <tr style=\"text-align: right;\">\n",
       "      <th></th>\n",
       "      <th>UserId</th>\n",
       "      <th>ProductId</th>\n",
       "      <th>ProfileName</th>\n",
       "      <th>Time</th>\n",
       "      <th>Score</th>\n",
       "      <th>Text</th>\n",
       "      <th>COUNT(*)</th>\n",
       "    </tr>\n",
       "  </thead>\n",
       "  <tbody>\n",
       "    <tr>\n",
       "      <th>0</th>\n",
       "      <td>#oc-R115TNMSPFT9I7</td>\n",
       "      <td>B005ZBZLT4</td>\n",
       "      <td>Breyton</td>\n",
       "      <td>1331510400</td>\n",
       "      <td>2</td>\n",
       "      <td>Overall its just OK when considering the price...</td>\n",
       "      <td>2</td>\n",
       "    </tr>\n",
       "    <tr>\n",
       "      <th>1</th>\n",
       "      <td>#oc-R11D9D7SHXIJB9</td>\n",
       "      <td>B005HG9ESG</td>\n",
       "      <td>Louis E. Emory \"hoppy\"</td>\n",
       "      <td>1342396800</td>\n",
       "      <td>5</td>\n",
       "      <td>My wife has recurring extreme muscle spasms, u...</td>\n",
       "      <td>3</td>\n",
       "    </tr>\n",
       "    <tr>\n",
       "      <th>2</th>\n",
       "      <td>#oc-R11DNU2NBKQ23Z</td>\n",
       "      <td>B005ZBZLT4</td>\n",
       "      <td>Kim Cieszykowski</td>\n",
       "      <td>1348531200</td>\n",
       "      <td>1</td>\n",
       "      <td>This coffee is horrible and unfortunately not ...</td>\n",
       "      <td>2</td>\n",
       "    </tr>\n",
       "    <tr>\n",
       "      <th>3</th>\n",
       "      <td>#oc-R11O5J5ZVQE25C</td>\n",
       "      <td>B005HG9ESG</td>\n",
       "      <td>Penguin Chick</td>\n",
       "      <td>1346889600</td>\n",
       "      <td>5</td>\n",
       "      <td>This will be the bottle that you grab from the...</td>\n",
       "      <td>3</td>\n",
       "    </tr>\n",
       "    <tr>\n",
       "      <th>4</th>\n",
       "      <td>#oc-R12KPBODL2B5ZD</td>\n",
       "      <td>B007OSBEV0</td>\n",
       "      <td>Christopher P. Presta</td>\n",
       "      <td>1348617600</td>\n",
       "      <td>1</td>\n",
       "      <td>I didnt like this coffee. Instead of telling y...</td>\n",
       "      <td>2</td>\n",
       "    </tr>\n",
       "  </tbody>\n",
       "</table>\n",
       "</div>"
      ],
      "text/plain": [
       "               UserId   ProductId             ProfileName        Time  Score  \\\n",
       "0  #oc-R115TNMSPFT9I7  B005ZBZLT4                 Breyton  1331510400      2   \n",
       "1  #oc-R11D9D7SHXIJB9  B005HG9ESG  Louis E. Emory \"hoppy\"  1342396800      5   \n",
       "2  #oc-R11DNU2NBKQ23Z  B005ZBZLT4        Kim Cieszykowski  1348531200      1   \n",
       "3  #oc-R11O5J5ZVQE25C  B005HG9ESG           Penguin Chick  1346889600      5   \n",
       "4  #oc-R12KPBODL2B5ZD  B007OSBEV0   Christopher P. Presta  1348617600      1   \n",
       "\n",
       "                                                Text  COUNT(*)  \n",
       "0  Overall its just OK when considering the price...         2  \n",
       "1  My wife has recurring extreme muscle spasms, u...         3  \n",
       "2  This coffee is horrible and unfortunately not ...         2  \n",
       "3  This will be the bottle that you grab from the...         3  \n",
       "4  I didnt like this coffee. Instead of telling y...         2  "
      ]
     },
     "execution_count": 22,
     "metadata": {},
     "output_type": "execute_result"
    }
   ],
   "source": [
    "print(display.shape)\n",
    "display.head()"
   ]
  },
  {
   "cell_type": "code",
   "execution_count": 23,
   "metadata": {
    "colab": {},
    "colab_type": "code",
    "id": "HUsn2lg8Jkjb",
    "outputId": "76e2e98e-b728-46ba-d619-c2008134a3b7"
   },
   "outputs": [
    {
     "data": {
      "text/html": [
       "<div>\n",
       "<style scoped>\n",
       "    .dataframe tbody tr th:only-of-type {\n",
       "        vertical-align: middle;\n",
       "    }\n",
       "\n",
       "    .dataframe tbody tr th {\n",
       "        vertical-align: top;\n",
       "    }\n",
       "\n",
       "    .dataframe thead th {\n",
       "        text-align: right;\n",
       "    }\n",
       "</style>\n",
       "<table border=\"1\" class=\"dataframe\">\n",
       "  <thead>\n",
       "    <tr style=\"text-align: right;\">\n",
       "      <th></th>\n",
       "      <th>UserId</th>\n",
       "      <th>ProductId</th>\n",
       "      <th>ProfileName</th>\n",
       "      <th>Time</th>\n",
       "      <th>Score</th>\n",
       "      <th>Text</th>\n",
       "      <th>COUNT(*)</th>\n",
       "    </tr>\n",
       "  </thead>\n",
       "  <tbody>\n",
       "    <tr>\n",
       "      <th>80638</th>\n",
       "      <td>AZY10LLTJ71NX</td>\n",
       "      <td>B001ATMQK2</td>\n",
       "      <td>undertheshrine \"undertheshrine\"</td>\n",
       "      <td>1296691200</td>\n",
       "      <td>5</td>\n",
       "      <td>I bought this 6 pack because for the price tha...</td>\n",
       "      <td>5</td>\n",
       "    </tr>\n",
       "  </tbody>\n",
       "</table>\n",
       "</div>"
      ],
      "text/plain": [
       "              UserId   ProductId                      ProfileName        Time  \\\n",
       "80638  AZY10LLTJ71NX  B001ATMQK2  undertheshrine \"undertheshrine\"  1296691200   \n",
       "\n",
       "       Score                                               Text  COUNT(*)  \n",
       "80638      5  I bought this 6 pack because for the price tha...         5  "
      ]
     },
     "execution_count": 23,
     "metadata": {},
     "output_type": "execute_result"
    }
   ],
   "source": [
    "display[display['UserId']=='AZY10LLTJ71NX']"
   ]
  },
  {
   "cell_type": "code",
   "execution_count": 24,
   "metadata": {
    "colab": {},
    "colab_type": "code",
    "id": "CyPhzHZKJkjf",
    "outputId": "28b60f13-e2e6-4960-e5ba-3467e16dbd03"
   },
   "outputs": [
    {
     "data": {
      "text/plain": [
       "393063"
      ]
     },
     "execution_count": 24,
     "metadata": {},
     "output_type": "execute_result"
    }
   ],
   "source": [
    "display['COUNT(*)'].sum()"
   ]
  },
  {
   "cell_type": "markdown",
   "metadata": {
    "colab_type": "text",
    "id": "y22fy_WtJkji"
   },
   "source": [
    "#  [2] Exploratory Data Analysis"
   ]
  },
  {
   "cell_type": "markdown",
   "metadata": {
    "colab_type": "text",
    "id": "ZqpW3tWPJkjl"
   },
   "source": [
    "## [2.1] Data Cleaning: Deduplication\n",
    "\n",
    "It is observed (as shown in the table below) that the reviews data had many duplicate entries. Hence it was necessary to remove duplicates in order to get unbiased results for the analysis of the data.  Following is an example:"
   ]
  },
  {
   "cell_type": "code",
   "execution_count": 25,
   "metadata": {
    "colab": {},
    "colab_type": "code",
    "id": "fmlu_oooJkjl",
    "outputId": "9ae82f65-ed65-425a-ad4d-b96091e37940",
    "scrolled": false
   },
   "outputs": [
    {
     "data": {
      "text/html": [
       "<div>\n",
       "<style scoped>\n",
       "    .dataframe tbody tr th:only-of-type {\n",
       "        vertical-align: middle;\n",
       "    }\n",
       "\n",
       "    .dataframe tbody tr th {\n",
       "        vertical-align: top;\n",
       "    }\n",
       "\n",
       "    .dataframe thead th {\n",
       "        text-align: right;\n",
       "    }\n",
       "</style>\n",
       "<table border=\"1\" class=\"dataframe\">\n",
       "  <thead>\n",
       "    <tr style=\"text-align: right;\">\n",
       "      <th></th>\n",
       "      <th>Id</th>\n",
       "      <th>ProductId</th>\n",
       "      <th>UserId</th>\n",
       "      <th>ProfileName</th>\n",
       "      <th>HelpfulnessNumerator</th>\n",
       "      <th>HelpfulnessDenominator</th>\n",
       "      <th>Score</th>\n",
       "      <th>Time</th>\n",
       "      <th>Summary</th>\n",
       "      <th>Text</th>\n",
       "    </tr>\n",
       "  </thead>\n",
       "  <tbody>\n",
       "    <tr>\n",
       "      <th>0</th>\n",
       "      <td>78445</td>\n",
       "      <td>B000HDL1RQ</td>\n",
       "      <td>AR5J8UI46CURR</td>\n",
       "      <td>Geetha Krishnan</td>\n",
       "      <td>2</td>\n",
       "      <td>2</td>\n",
       "      <td>5</td>\n",
       "      <td>1199577600</td>\n",
       "      <td>LOACKER QUADRATINI VANILLA WAFERS</td>\n",
       "      <td>DELICIOUS WAFERS. I FIND THAT EUROPEAN WAFERS ...</td>\n",
       "    </tr>\n",
       "    <tr>\n",
       "      <th>1</th>\n",
       "      <td>138317</td>\n",
       "      <td>B000HDOPYC</td>\n",
       "      <td>AR5J8UI46CURR</td>\n",
       "      <td>Geetha Krishnan</td>\n",
       "      <td>2</td>\n",
       "      <td>2</td>\n",
       "      <td>5</td>\n",
       "      <td>1199577600</td>\n",
       "      <td>LOACKER QUADRATINI VANILLA WAFERS</td>\n",
       "      <td>DELICIOUS WAFERS. I FIND THAT EUROPEAN WAFERS ...</td>\n",
       "    </tr>\n",
       "    <tr>\n",
       "      <th>2</th>\n",
       "      <td>138277</td>\n",
       "      <td>B000HDOPYM</td>\n",
       "      <td>AR5J8UI46CURR</td>\n",
       "      <td>Geetha Krishnan</td>\n",
       "      <td>2</td>\n",
       "      <td>2</td>\n",
       "      <td>5</td>\n",
       "      <td>1199577600</td>\n",
       "      <td>LOACKER QUADRATINI VANILLA WAFERS</td>\n",
       "      <td>DELICIOUS WAFERS. I FIND THAT EUROPEAN WAFERS ...</td>\n",
       "    </tr>\n",
       "    <tr>\n",
       "      <th>3</th>\n",
       "      <td>73791</td>\n",
       "      <td>B000HDOPZG</td>\n",
       "      <td>AR5J8UI46CURR</td>\n",
       "      <td>Geetha Krishnan</td>\n",
       "      <td>2</td>\n",
       "      <td>2</td>\n",
       "      <td>5</td>\n",
       "      <td>1199577600</td>\n",
       "      <td>LOACKER QUADRATINI VANILLA WAFERS</td>\n",
       "      <td>DELICIOUS WAFERS. I FIND THAT EUROPEAN WAFERS ...</td>\n",
       "    </tr>\n",
       "    <tr>\n",
       "      <th>4</th>\n",
       "      <td>155049</td>\n",
       "      <td>B000PAQ75C</td>\n",
       "      <td>AR5J8UI46CURR</td>\n",
       "      <td>Geetha Krishnan</td>\n",
       "      <td>2</td>\n",
       "      <td>2</td>\n",
       "      <td>5</td>\n",
       "      <td>1199577600</td>\n",
       "      <td>LOACKER QUADRATINI VANILLA WAFERS</td>\n",
       "      <td>DELICIOUS WAFERS. I FIND THAT EUROPEAN WAFERS ...</td>\n",
       "    </tr>\n",
       "  </tbody>\n",
       "</table>\n",
       "</div>"
      ],
      "text/plain": [
       "       Id   ProductId         UserId      ProfileName  HelpfulnessNumerator  \\\n",
       "0   78445  B000HDL1RQ  AR5J8UI46CURR  Geetha Krishnan                     2   \n",
       "1  138317  B000HDOPYC  AR5J8UI46CURR  Geetha Krishnan                     2   \n",
       "2  138277  B000HDOPYM  AR5J8UI46CURR  Geetha Krishnan                     2   \n",
       "3   73791  B000HDOPZG  AR5J8UI46CURR  Geetha Krishnan                     2   \n",
       "4  155049  B000PAQ75C  AR5J8UI46CURR  Geetha Krishnan                     2   \n",
       "\n",
       "   HelpfulnessDenominator  Score        Time  \\\n",
       "0                       2      5  1199577600   \n",
       "1                       2      5  1199577600   \n",
       "2                       2      5  1199577600   \n",
       "3                       2      5  1199577600   \n",
       "4                       2      5  1199577600   \n",
       "\n",
       "                             Summary  \\\n",
       "0  LOACKER QUADRATINI VANILLA WAFERS   \n",
       "1  LOACKER QUADRATINI VANILLA WAFERS   \n",
       "2  LOACKER QUADRATINI VANILLA WAFERS   \n",
       "3  LOACKER QUADRATINI VANILLA WAFERS   \n",
       "4  LOACKER QUADRATINI VANILLA WAFERS   \n",
       "\n",
       "                                                Text  \n",
       "0  DELICIOUS WAFERS. I FIND THAT EUROPEAN WAFERS ...  \n",
       "1  DELICIOUS WAFERS. I FIND THAT EUROPEAN WAFERS ...  \n",
       "2  DELICIOUS WAFERS. I FIND THAT EUROPEAN WAFERS ...  \n",
       "3  DELICIOUS WAFERS. I FIND THAT EUROPEAN WAFERS ...  \n",
       "4  DELICIOUS WAFERS. I FIND THAT EUROPEAN WAFERS ...  "
      ]
     },
     "execution_count": 25,
     "metadata": {},
     "output_type": "execute_result"
    }
   ],
   "source": [
    "display= pd.read_sql_query(\"\"\"\n",
    "SELECT *\n",
    "FROM Reviews\n",
    "WHERE Score != 3 AND UserId=\"AR5J8UI46CURR\"\n",
    "ORDER BY ProductID\n",
    "\"\"\", con)\n",
    "display.head()"
   ]
  },
  {
   "cell_type": "markdown",
   "metadata": {
    "colab_type": "text",
    "id": "pvogJHEyJkjq"
   },
   "source": [
    "As it can be seen above that same user has multiple reviews with same values for HelpfulnessNumerator, HelpfulnessDenominator, Score, Time, Summary and Text and on doing analysis it was found that <br>\n",
    "<br> \n",
    "ProductId=B000HDOPZG was Loacker Quadratini Vanilla Wafer Cookies, 8.82-Ounce Packages (Pack of 8)<br>\n",
    "<br> \n",
    "ProductId=B000HDL1RQ was Loacker Quadratini Lemon Wafer Cookies, 8.82-Ounce Packages (Pack of 8) and so on<br>\n",
    "\n",
    "It was inferred after analysis that reviews with same parameters other than ProductId belonged to the same product just having different flavour or quantity. Hence in order to reduce redundancy it was decided to eliminate the rows having same parameters.<br>\n",
    "\n",
    "The method used for the same was that we first sort the data according to ProductId and then just keep the first similar product review and delelte the others. for eg. in the above just the review for ProductId=B000HDL1RQ remains. This method ensures that there is only one representative for each product and deduplication without sorting would lead to possibility of different representatives still existing for the same product."
   ]
  },
  {
   "cell_type": "code",
   "execution_count": 26,
   "metadata": {
    "colab": {},
    "colab_type": "code",
    "id": "LAWOrfBaJkjr"
   },
   "outputs": [],
   "source": [
    "#Sorting data according to ProductId in ascending order\n",
    "sorted_data=filtered_data.sort_values('ProductId', axis=0, ascending=True, inplace=False, kind='quicksort', na_position='last')"
   ]
  },
  {
   "cell_type": "code",
   "execution_count": 27,
   "metadata": {
    "colab": {},
    "colab_type": "code",
    "id": "dfaQob28Jkju",
    "outputId": "21104e4f-cd18-4353-a54a-5b4638fc552b"
   },
   "outputs": [
    {
     "data": {
      "text/plain": [
       "(364173, 10)"
      ]
     },
     "execution_count": 27,
     "metadata": {},
     "output_type": "execute_result"
    }
   ],
   "source": [
    "#Deduplication of entries\n",
    "final=sorted_data.drop_duplicates(subset={\"UserId\",\"ProfileName\",\"Time\",\"Text\"}, keep='first', inplace=False)\n",
    "final.shape"
   ]
  },
  {
   "cell_type": "code",
   "execution_count": 28,
   "metadata": {
    "colab": {},
    "colab_type": "code",
    "id": "9QVxT6oxJkjx",
    "outputId": "f292b9fe-6065-4979-830d-c79bc6785a3d"
   },
   "outputs": [
    {
     "data": {
      "text/plain": [
       "69.25890143662969"
      ]
     },
     "execution_count": 28,
     "metadata": {},
     "output_type": "execute_result"
    }
   ],
   "source": [
    "#Checking to see how much % of data still remains\n",
    "(final['Id'].size*1.0)/(filtered_data['Id'].size*1.0)*100"
   ]
  },
  {
   "cell_type": "markdown",
   "metadata": {
    "colab_type": "text",
    "id": "qVaxONHLJkj1"
   },
   "source": [
    "<b>Observation:-</b> It was also seen that in two rows given below the value of HelpfulnessNumerator is greater than HelpfulnessDenominator which is not practically possible hence these two rows too are removed from calcualtions"
   ]
  },
  {
   "cell_type": "code",
   "execution_count": 29,
   "metadata": {
    "colab": {},
    "colab_type": "code",
    "id": "vLoqfOjcJkj1",
    "outputId": "db3448f8-fbda-4205-a7cc-5048e0f1fd19"
   },
   "outputs": [
    {
     "data": {
      "text/html": [
       "<div>\n",
       "<style scoped>\n",
       "    .dataframe tbody tr th:only-of-type {\n",
       "        vertical-align: middle;\n",
       "    }\n",
       "\n",
       "    .dataframe tbody tr th {\n",
       "        vertical-align: top;\n",
       "    }\n",
       "\n",
       "    .dataframe thead th {\n",
       "        text-align: right;\n",
       "    }\n",
       "</style>\n",
       "<table border=\"1\" class=\"dataframe\">\n",
       "  <thead>\n",
       "    <tr style=\"text-align: right;\">\n",
       "      <th></th>\n",
       "      <th>Id</th>\n",
       "      <th>ProductId</th>\n",
       "      <th>UserId</th>\n",
       "      <th>ProfileName</th>\n",
       "      <th>HelpfulnessNumerator</th>\n",
       "      <th>HelpfulnessDenominator</th>\n",
       "      <th>Score</th>\n",
       "      <th>Time</th>\n",
       "      <th>Summary</th>\n",
       "      <th>Text</th>\n",
       "    </tr>\n",
       "  </thead>\n",
       "  <tbody>\n",
       "    <tr>\n",
       "      <th>0</th>\n",
       "      <td>64422</td>\n",
       "      <td>B000MIDROQ</td>\n",
       "      <td>A161DK06JJMCYF</td>\n",
       "      <td>J. E. Stephens \"Jeanne\"</td>\n",
       "      <td>3</td>\n",
       "      <td>1</td>\n",
       "      <td>5</td>\n",
       "      <td>1224892800</td>\n",
       "      <td>Bought This for My Son at College</td>\n",
       "      <td>My son loves spaghetti so I didn't hesitate or...</td>\n",
       "    </tr>\n",
       "    <tr>\n",
       "      <th>1</th>\n",
       "      <td>44737</td>\n",
       "      <td>B001EQ55RW</td>\n",
       "      <td>A2V0I904FH7ABY</td>\n",
       "      <td>Ram</td>\n",
       "      <td>3</td>\n",
       "      <td>2</td>\n",
       "      <td>4</td>\n",
       "      <td>1212883200</td>\n",
       "      <td>Pure cocoa taste with crunchy almonds inside</td>\n",
       "      <td>It was almost a 'love at first bite' - the per...</td>\n",
       "    </tr>\n",
       "  </tbody>\n",
       "</table>\n",
       "</div>"
      ],
      "text/plain": [
       "      Id   ProductId          UserId              ProfileName  \\\n",
       "0  64422  B000MIDROQ  A161DK06JJMCYF  J. E. Stephens \"Jeanne\"   \n",
       "1  44737  B001EQ55RW  A2V0I904FH7ABY                      Ram   \n",
       "\n",
       "   HelpfulnessNumerator  HelpfulnessDenominator  Score        Time  \\\n",
       "0                     3                       1      5  1224892800   \n",
       "1                     3                       2      4  1212883200   \n",
       "\n",
       "                                        Summary  \\\n",
       "0             Bought This for My Son at College   \n",
       "1  Pure cocoa taste with crunchy almonds inside   \n",
       "\n",
       "                                                Text  \n",
       "0  My son loves spaghetti so I didn't hesitate or...  \n",
       "1  It was almost a 'love at first bite' - the per...  "
      ]
     },
     "execution_count": 29,
     "metadata": {},
     "output_type": "execute_result"
    }
   ],
   "source": [
    "display= pd.read_sql_query(\"\"\"\n",
    "SELECT *\n",
    "FROM Reviews\n",
    "WHERE Score != 3 AND Id=44737 OR Id=64422\n",
    "ORDER BY ProductID\n",
    "\"\"\", con)\n",
    "\n",
    "display.head()"
   ]
  },
  {
   "cell_type": "code",
   "execution_count": 30,
   "metadata": {
    "colab": {},
    "colab_type": "code",
    "id": "f_185ozFJkj9"
   },
   "outputs": [],
   "source": [
    "final=final[final.HelpfulnessNumerator<=final.HelpfulnessDenominator]"
   ]
  },
  {
   "cell_type": "markdown",
   "metadata": {
    "colab_type": "text",
    "id": "-fEWeywxJkkI"
   },
   "source": [
    "#  [3] Preprocessing"
   ]
  },
  {
   "cell_type": "markdown",
   "metadata": {
    "colab_type": "text",
    "id": "tzpbt9aOJkkJ"
   },
   "source": [
    "## [3.1].  Preprocessing Review Text\n",
    "\n",
    "Now that we have finished deduplication our data requires some preprocessing before we go on further with analysis and making the prediction model.\n",
    "\n",
    "Hence in the Preprocessing phase we do the following in the order below:-\n",
    "\n",
    "1. Begin by removing the html tags\n",
    "2. Remove any punctuations or limited set of special characters like , or . or # etc.\n",
    "3. Check if the word is made up of english letters and is not alpha-numeric\n",
    "4. Check to see if the length of the word is greater than 2 (as it was researched that there is no adjective in 2-letters)\n",
    "5. Convert the word to lowercase\n",
    "6. Remove Stopwords\n",
    "7. Finally Snowball Stemming the word (it was obsereved to be better than Porter Stemming)<br>\n",
    "\n",
    "After which we collect the words used to describe positive and negative reviews"
   ]
  },
  {
   "cell_type": "code",
   "execution_count": 15,
   "metadata": {
    "colab": {},
    "colab_type": "code",
    "id": "YqxBeLk8JkkL",
    "outputId": "1819632d-0129-4a13-d7ff-4e7bbf129dff"
   },
   "outputs": [
    {
     "name": "stdout",
     "output_type": "stream",
     "text": [
      "Why is this $[...] when the same product is available for $[...] here?<br />http://www.amazon.com/VICTOR-FLY-MAGNET-BAIT-REFILL/dp/B00004RBDY<br /><br />The Victor M380 and M502 traps are unreal, of course -- total fly genocide. Pretty stinky, but only right nearby.\n",
      "==================================================\n",
      "I recently tried this flavor/brand and was surprised at how delicious these chips are.  The best thing was that there were a lot of \"brown\" chips in the bsg (my favorite), so I bought some more through amazon and shared with family and friends.  I am a little disappointed that there are not, so far, very many brown chips in these bags, but the flavor is still very good.  I like them better than the yogurt and green onion flavor because they do not seem to be as salty, and the onion flavor is better.  If you haven't eaten Kettle chips before, I recommend that you try a bag before buying bulk.  They are thicker and crunchier than Lays but just as fresh out of the bag.\n",
      "==================================================\n",
      "Wow.  So far, two two-star reviews.  One obviously had no idea what they were ordering; the other wants crispy cookies.  Hey, I'm sorry; but these reviews do nobody any good beyond reminding us to look  before ordering.<br /><br />These are chocolate-oatmeal cookies.  If you don't like that combination, don't order this type of cookie.  I find the combo quite nice, really.  The oatmeal sort of \"calms\" the rich chocolate flavor and gives the cookie sort of a coconut-type consistency.  Now let's also remember that tastes differ; so, I've given my opinion.<br /><br />Then, these are soft, chewy cookies -- as advertised.  They are not \"crispy\" cookies, or the blurb would say \"crispy,\" rather than \"chewy.\"  I happen to like raw cookie dough; however, I don't see where these taste like raw cookie dough.  Both are soft, however, so is this the confusion?  And, yes, they stick together.  Soft cookies tend to do that.  They aren't individually wrapped, which would add to the cost.  Oh yeah, chocolate chip cookies tend to be somewhat sweet.<br /><br />So, if you want something hard and crisp, I suggest Nabiso's Ginger Snaps.  If you want a cookie that's soft, chewy and tastes like a combination of chocolate and oatmeal, give these a try.  I'm here to place my second order.\n",
      "==================================================\n",
      "love to order my coffee on amazon.  easy and shows up quickly.<br />This k cup is great coffee.  dcaf is very good as well\n",
      "==================================================\n"
     ]
    }
   ],
   "source": [
    "# printing some random reviews\n",
    "sent_0 = final['Text'].values[0]\n",
    "print(sent_0)\n",
    "print(\"=\"*50)\n",
    "\n",
    "sent_1000 = final['Text'].values[1000]\n",
    "print(sent_1000)\n",
    "print(\"=\"*50)\n",
    "\n",
    "sent_1500 = final['Text'].values[1500]\n",
    "print(sent_1500)\n",
    "print(\"=\"*50)\n",
    "\n",
    "sent_4900 = final['Text'].values[4900]\n",
    "print(sent_4900)\n",
    "print(\"=\"*50)"
   ]
  },
  {
   "cell_type": "code",
   "execution_count": 16,
   "metadata": {
    "colab": {},
    "colab_type": "code",
    "id": "lWiJ2_9gJkkP",
    "outputId": "08234806-3657-4d8f-c6d2-020dc9cda61c"
   },
   "outputs": [
    {
     "name": "stdout",
     "output_type": "stream",
     "text": [
      "Why is this $[...] when the same product is available for $[...] here?<br /> /><br />The Victor M380 and M502 traps are unreal, of course -- total fly genocide. Pretty stinky, but only right nearby.\n"
     ]
    }
   ],
   "source": [
    "# remove urls from text python: https://stackoverflow.com/a/40823105/4084039\n",
    "sent_0 = re.sub(r\"http\\S+\", \"\", sent_0)\n",
    "sent_1000 = re.sub(r\"http\\S+\", \"\", sent_1000)\n",
    "sent_150 = re.sub(r\"http\\S+\", \"\", sent_1500)\n",
    "sent_4900 = re.sub(r\"http\\S+\", \"\", sent_4900)\n",
    "\n",
    "print(sent_0)"
   ]
  },
  {
   "cell_type": "code",
   "execution_count": 17,
   "metadata": {
    "colab": {},
    "colab_type": "code",
    "id": "cpLtZ-lAJkkR",
    "outputId": "7e0bf159-4db4-4ffe-d72e-6d5952d453f1"
   },
   "outputs": [
    {
     "name": "stdout",
     "output_type": "stream",
     "text": [
      "Why is this $[...] when the same product is available for $[...] here? />The Victor M380 and M502 traps are unreal, of course -- total fly genocide. Pretty stinky, but only right nearby.\n",
      "==================================================\n",
      "I recently tried this flavor/brand and was surprised at how delicious these chips are.  The best thing was that there were a lot of \"brown\" chips in the bsg (my favorite), so I bought some more through amazon and shared with family and friends.  I am a little disappointed that there are not, so far, very many brown chips in these bags, but the flavor is still very good.  I like them better than the yogurt and green onion flavor because they do not seem to be as salty, and the onion flavor is better.  If you haven't eaten Kettle chips before, I recommend that you try a bag before buying bulk.  They are thicker and crunchier than Lays but just as fresh out of the bag.\n",
      "==================================================\n",
      "Wow.  So far, two two-star reviews.  One obviously had no idea what they were ordering; the other wants crispy cookies.  Hey, I'm sorry; but these reviews do nobody any good beyond reminding us to look  before ordering.These are chocolate-oatmeal cookies.  If you don't like that combination, don't order this type of cookie.  I find the combo quite nice, really.  The oatmeal sort of \"calms\" the rich chocolate flavor and gives the cookie sort of a coconut-type consistency.  Now let's also remember that tastes differ; so, I've given my opinion.Then, these are soft, chewy cookies -- as advertised.  They are not \"crispy\" cookies, or the blurb would say \"crispy,\" rather than \"chewy.\"  I happen to like raw cookie dough; however, I don't see where these taste like raw cookie dough.  Both are soft, however, so is this the confusion?  And, yes, they stick together.  Soft cookies tend to do that.  They aren't individually wrapped, which would add to the cost.  Oh yeah, chocolate chip cookies tend to be somewhat sweet.So, if you want something hard and crisp, I suggest Nabiso's Ginger Snaps.  If you want a cookie that's soft, chewy and tastes like a combination of chocolate and oatmeal, give these a try.  I'm here to place my second order.\n",
      "==================================================\n",
      "love to order my coffee on amazon.  easy and shows up quickly.This k cup is great coffee.  dcaf is very good as well\n"
     ]
    }
   ],
   "source": [
    "# https://stackoverflow.com/questions/16206380/python-beautifulsoup-how-to-remove-all-tags-from-an-element\n",
    "from bs4 import BeautifulSoup\n",
    "\n",
    "soup = BeautifulSoup(sent_0, 'lxml')\n",
    "text = soup.get_text()\n",
    "print(text)\n",
    "print(\"=\"*50)\n",
    "\n",
    "soup = BeautifulSoup(sent_1000, 'lxml')\n",
    "text = soup.get_text()\n",
    "print(text)\n",
    "print(\"=\"*50)\n",
    "\n",
    "soup = BeautifulSoup(sent_1500, 'lxml')\n",
    "text = soup.get_text()\n",
    "print(text)\n",
    "print(\"=\"*50)\n",
    "\n",
    "soup = BeautifulSoup(sent_4900, 'lxml')\n",
    "text = soup.get_text()\n",
    "print(text)"
   ]
  },
  {
   "cell_type": "code",
   "execution_count": 18,
   "metadata": {
    "colab": {},
    "colab_type": "code",
    "id": "HYBbtiCMJkkW"
   },
   "outputs": [],
   "source": [
    "# https://stackoverflow.com/a/47091490/4084039\n",
    "import re\n",
    "\n",
    "def decontracted(phrase):\n",
    "    # specific\n",
    "    phrase = re.sub(r\"won't\", \"will not\", phrase)\n",
    "    phrase = re.sub(r\"can\\'t\", \"can not\", phrase)\n",
    "\n",
    "    # general\n",
    "    phrase = re.sub(r\"n\\'t\", \" not\", phrase)\n",
    "    phrase = re.sub(r\"\\'re\", \" are\", phrase)\n",
    "    phrase = re.sub(r\"\\'s\", \" is\", phrase)\n",
    "    phrase = re.sub(r\"\\'d\", \" would\", phrase)\n",
    "    phrase = re.sub(r\"\\'ll\", \" will\", phrase)\n",
    "    phrase = re.sub(r\"\\'t\", \" not\", phrase)\n",
    "    phrase = re.sub(r\"\\'ve\", \" have\", phrase)\n",
    "    phrase = re.sub(r\"\\'m\", \" am\", phrase)\n",
    "    return phrase"
   ]
  },
  {
   "cell_type": "code",
   "execution_count": 19,
   "metadata": {
    "colab": {},
    "colab_type": "code",
    "id": "WPQSZurTJkkY",
    "outputId": "6d91fc9f-8f77-497c-95bb-96bfc9781196"
   },
   "outputs": [
    {
     "name": "stdout",
     "output_type": "stream",
     "text": [
      "Wow.  So far, two two-star reviews.  One obviously had no idea what they were ordering; the other wants crispy cookies.  Hey, I am sorry; but these reviews do nobody any good beyond reminding us to look  before ordering.<br /><br />These are chocolate-oatmeal cookies.  If you do not like that combination, do not order this type of cookie.  I find the combo quite nice, really.  The oatmeal sort of \"calms\" the rich chocolate flavor and gives the cookie sort of a coconut-type consistency.  Now let is also remember that tastes differ; so, I have given my opinion.<br /><br />Then, these are soft, chewy cookies -- as advertised.  They are not \"crispy\" cookies, or the blurb would say \"crispy,\" rather than \"chewy.\"  I happen to like raw cookie dough; however, I do not see where these taste like raw cookie dough.  Both are soft, however, so is this the confusion?  And, yes, they stick together.  Soft cookies tend to do that.  They are not individually wrapped, which would add to the cost.  Oh yeah, chocolate chip cookies tend to be somewhat sweet.<br /><br />So, if you want something hard and crisp, I suggest Nabiso is Ginger Snaps.  If you want a cookie that is soft, chewy and tastes like a combination of chocolate and oatmeal, give these a try.  I am here to place my second order.\n",
      "==================================================\n"
     ]
    }
   ],
   "source": [
    "sent_1500 = decontracted(sent_1500)\n",
    "print(sent_1500)\n",
    "print(\"=\"*50)"
   ]
  },
  {
   "cell_type": "code",
   "execution_count": 20,
   "metadata": {
    "colab": {},
    "colab_type": "code",
    "id": "6bakeyaQJkkb",
    "outputId": "f7cf0096-0b7b-4ec1-84df-01e838621d62"
   },
   "outputs": [
    {
     "name": "stdout",
     "output_type": "stream",
     "text": [
      "Why is this $[...] when the same product is available for $[...] here?<br /> /><br />The Victor  and  traps are unreal, of course -- total fly genocide. Pretty stinky, but only right nearby.\n"
     ]
    }
   ],
   "source": [
    "#remove words with numbers python: https://stackoverflow.com/a/18082370/4084039\n",
    "sent_0 = re.sub(\"\\S*\\d\\S*\", \"\", sent_0).strip()\n",
    "print(sent_0)"
   ]
  },
  {
   "cell_type": "code",
   "execution_count": 21,
   "metadata": {
    "colab": {},
    "colab_type": "code",
    "id": "dMqqVqadJkkg",
    "outputId": "e4a6bd28-9d39-4dd2-9483-0406dd3dff50"
   },
   "outputs": [
    {
     "name": "stdout",
     "output_type": "stream",
     "text": [
      "Wow So far two two star reviews One obviously had no idea what they were ordering the other wants crispy cookies Hey I am sorry but these reviews do nobody any good beyond reminding us to look before ordering br br These are chocolate oatmeal cookies If you do not like that combination do not order this type of cookie I find the combo quite nice really The oatmeal sort of calms the rich chocolate flavor and gives the cookie sort of a coconut type consistency Now let is also remember that tastes differ so I have given my opinion br br Then these are soft chewy cookies as advertised They are not crispy cookies or the blurb would say crispy rather than chewy I happen to like raw cookie dough however I do not see where these taste like raw cookie dough Both are soft however so is this the confusion And yes they stick together Soft cookies tend to do that They are not individually wrapped which would add to the cost Oh yeah chocolate chip cookies tend to be somewhat sweet br br So if you want something hard and crisp I suggest Nabiso is Ginger Snaps If you want a cookie that is soft chewy and tastes like a combination of chocolate and oatmeal give these a try I am here to place my second order \n"
     ]
    }
   ],
   "source": [
    "#remove spacial character: https://stackoverflow.com/a/5843547/4084039\n",
    "sent_1500 = re.sub('[^A-Za-z0-9]+', ' ', sent_1500)\n",
    "print(sent_1500)"
   ]
  },
  {
   "cell_type": "code",
   "execution_count": 22,
   "metadata": {
    "colab": {},
    "colab_type": "code",
    "id": "bvEoXB5NJkkk"
   },
   "outputs": [],
   "source": [
    "# https://gist.github.com/sebleier/554280\n",
    "# we are removing the words from the stop words list: 'no', 'nor', 'not'\n",
    "# <br /><br /> ==> after the above steps, we are getting \"br br\"\n",
    "# we are including them into stop words list\n",
    "# instead of <br /> if we have <br/> these tags would have revmoved in the 1st step\n",
    "\n",
    "stopwords= set(['br', 'the', 'i', 'me', 'my', 'myself', 'we', 'our', 'ours', 'ourselves', 'you', \"you're\", \"you've\",\\\n",
    "            \"you'll\", \"you'd\", 'your', 'yours', 'yourself', 'yourselves', 'he', 'him', 'his', 'himself', \\\n",
    "            'she', \"she's\", 'her', 'hers', 'herself', 'it', \"it's\", 'its', 'itself', 'they', 'them', 'their',\\\n",
    "            'theirs', 'themselves', 'what', 'which', 'who', 'whom', 'this', 'that', \"that'll\", 'these', 'those', \\\n",
    "            'am', 'is', 'are', 'was', 'were', 'be', 'been', 'being', 'have', 'has', 'had', 'having', 'do', 'does', \\\n",
    "            'did', 'doing', 'a', 'an', 'the', 'and', 'but', 'if', 'or', 'because', 'as', 'until', 'while', 'of', \\\n",
    "            'at', 'by', 'for', 'with', 'about', 'against', 'between', 'into', 'through', 'during', 'before', 'after',\\\n",
    "            'above', 'below', 'to', 'from', 'up', 'down', 'in', 'out', 'on', 'off', 'over', 'under', 'again', 'further',\\\n",
    "            'then', 'once', 'here', 'there', 'when', 'where', 'why', 'how', 'all', 'any', 'both', 'each', 'few', 'more',\\\n",
    "            'most', 'other', 'some', 'such', 'only', 'own', 'same', 'so', 'than', 'too', 'very', \\\n",
    "            's', 't', 'can', 'will', 'just', 'don', \"don't\", 'should', \"should've\", 'now', 'd', 'll', 'm', 'o', 're', \\\n",
    "            've', 'y', 'ain', 'aren', \"aren't\", 'couldn', \"couldn't\", 'didn', \"didn't\", 'doesn', \"doesn't\", 'hadn',\\\n",
    "            \"hadn't\", 'hasn', \"hasn't\", 'haven', \"haven't\", 'isn', \"isn't\", 'ma', 'mightn', \"mightn't\", 'mustn',\\\n",
    "            \"mustn't\", 'needn', \"needn't\", 'shan', \"shan't\", 'shouldn', \"shouldn't\", 'wasn', \"wasn't\", 'weren', \"weren't\", \\\n",
    "            'won', \"won't\", 'wouldn', \"wouldn't\"])"
   ]
  },
  {
   "cell_type": "code",
   "execution_count": 23,
   "metadata": {
    "colab": {},
    "colab_type": "code",
    "id": "0j3jfqWCJkko",
    "outputId": "c83c59c5-fe17-4ad2-d43f-0b0947a6e6ba"
   },
   "outputs": [
    {
     "name": "stderr",
     "output_type": "stream",
     "text": [
      "100%|██████████| 4986/4986 [00:02<00:00, 2257.00it/s]\n"
     ]
    }
   ],
   "source": [
    "# Combining all the above stundents \n",
    "from tqdm import tqdm\n",
    "preprocessed_reviews = []\n",
    "# tqdm is for printing the status bar\n",
    "for sentance in tqdm(final['Text'].values):\n",
    "    sentance = re.sub(r\"http\\S+\", \"\", sentance)\n",
    "    sentance = BeautifulSoup(sentance, 'lxml').get_text()\n",
    "    sentance = decontracted(sentance)\n",
    "    sentance = re.sub(\"\\S*\\d\\S*\", \"\", sentance).strip()\n",
    "    sentance = re.sub('[^A-Za-z]+', ' ', sentance)\n",
    "    # https://gist.github.com/sebleier/554280\n",
    "    sentance = ' '.join(e.lower() for e in sentance.split() if e.lower() not in stopwords)\n",
    "    preprocessed_reviews.append(sentance.strip())"
   ]
  },
  {
   "cell_type": "code",
   "execution_count": 24,
   "metadata": {
    "colab": {},
    "colab_type": "code",
    "id": "nS_7EeV7Jkkr",
    "outputId": "4d4cd05e-0730-4e52-dc30-eb97014871dd"
   },
   "outputs": [
    {
     "name": "stdout",
     "output_type": "stream",
     "text": [
      "<class 'list'>\n",
      "(4986, 10)\n"
     ]
    }
   ],
   "source": [
    "preprocessed_reviews[1500]\n",
    "print(type(preprocessed_reviews))\n",
    "print(final.shape)"
   ]
  },
  {
   "cell_type": "markdown",
   "metadata": {
    "colab_type": "text",
    "id": "zak5yP5zJkkt"
   },
   "source": [
    "<h2><font color='red'>[3.2] Preprocessing Review Summary</font></h2>"
   ]
  },
  {
   "cell_type": "code",
   "execution_count": 25,
   "metadata": {
    "colab": {},
    "colab_type": "code",
    "id": "wZ3Epk1wJkku"
   },
   "outputs": [],
   "source": [
    "## Similartly you can do preprocessing for review summary also."
   ]
  },
  {
   "cell_type": "markdown",
   "metadata": {
    "colab_type": "text",
    "id": "ChHwtw1iJkky"
   },
   "source": [
    "# [4] Featurization"
   ]
  },
  {
   "cell_type": "markdown",
   "metadata": {
    "colab_type": "text",
    "id": "qyWESNvzJkky"
   },
   "source": [
    "## [4.1] BAG OF WORDS"
   ]
  },
  {
   "cell_type": "code",
   "execution_count": 24,
   "metadata": {
    "colab": {},
    "colab_type": "code",
    "id": "zS0niozAJkkz",
    "outputId": "e2a25e5d-2e1a-497a-f094-a7e249201001"
   },
   "outputs": [
    {
     "name": "stdout",
     "output_type": "stream",
     "text": [
      "some feature names  ['aa', 'aahhhs', 'aback', 'abandon', 'abates', 'abbott', 'abby', 'abdominal', 'abiding', 'ability']\n",
      "==================================================\n",
      "the type of count vectorizer  <class 'scipy.sparse.csr.csr_matrix'>\n",
      "the shape of out text BOW vectorizer  (4986, 12997)\n",
      "the number of unique words  12997\n"
     ]
    }
   ],
   "source": [
    "#BoW\n",
    "count_vect = CountVectorizer() #in scikit-learn\n",
    "count_vect.fit(preprocessed_reviews)\n",
    "print(\"some feature names \", count_vect.get_feature_names()[:10])\n",
    "print('='*50)\n",
    "\n",
    "final_counts = count_vect.transform(preprocessed_reviews)\n",
    "print(\"the type of count vectorizer \",type(final_counts))\n",
    "print(\"the shape of out text BOW vectorizer \",final_counts.get_shape())\n",
    "print(\"the number of unique words \", final_counts.get_shape()[1])"
   ]
  },
  {
   "cell_type": "markdown",
   "metadata": {
    "colab_type": "text",
    "id": "LChtHtLjJkk1"
   },
   "source": [
    "## [4.2] Bi-Grams and n-Grams."
   ]
  },
  {
   "cell_type": "code",
   "execution_count": 26,
   "metadata": {
    "colab": {},
    "colab_type": "code",
    "id": "Xgw2pSsoJkk3",
    "outputId": "bfcb230d-1f75-413a-e30d-c2aae84cd5c0"
   },
   "outputs": [
    {
     "name": "stdout",
     "output_type": "stream",
     "text": [
      "the type of count vectorizer  <class 'scipy.sparse.csr.csr_matrix'>\n",
      "the shape of out text BOW vectorizer  (4986, 3144)\n",
      "the number of unique words including both unigrams and bigrams  3144\n"
     ]
    }
   ],
   "source": [
    "#bi-gram, tri-gram and n-gram\n",
    "\n",
    "#removing stop words like \"not\" should be avoided before building n-grams\n",
    "# count_vect = CountVectorizer(ngram_range=(1,2))\n",
    "# please do read the CountVectorizer documentation http://scikit-learn.org/stable/modules/generated/sklearn.feature_extraction.text.CountVectorizer.html\n",
    "\n",
    "# you can choose these numebrs min_df=10, max_features=5000, of your choice\n",
    "count_vect = CountVectorizer(ngram_range=(1,2), min_df=10, max_features=5000)\n",
    "final_bigram_counts = count_vect.fit_transform(preprocessed_reviews)\n",
    "print(\"the type of count vectorizer \",type(final_bigram_counts))\n",
    "print(\"the shape of out text BOW vectorizer \",final_bigram_counts.get_shape())\n",
    "print(\"the number of unique words including both unigrams and bigrams \", final_bigram_counts.get_shape()[1])"
   ]
  },
  {
   "cell_type": "markdown",
   "metadata": {
    "colab_type": "text",
    "id": "1fvAmu91Jkk6"
   },
   "source": [
    "## [4.3] TF-IDF"
   ]
  },
  {
   "cell_type": "code",
   "execution_count": 27,
   "metadata": {
    "colab": {},
    "colab_type": "code",
    "id": "ag5-WCR8Jkk7",
    "outputId": "94a8ddc3-4bb7-4c49-d4e7-ed98560633b6"
   },
   "outputs": [
    {
     "name": "stdout",
     "output_type": "stream",
     "text": [
      "some sample features(unique words in the corpus) ['ability', 'able', 'able find', 'able get', 'absolute', 'absolutely', 'absolutely delicious', 'absolutely love', 'absolutely no', 'according']\n",
      "==================================================\n",
      "the type of count vectorizer  <class 'scipy.sparse.csr.csr_matrix'>\n",
      "the shape of out text TFIDF vectorizer  (4986, 3144)\n",
      "the number of unique words including both unigrams and bigrams  3144\n"
     ]
    }
   ],
   "source": [
    "tf_idf_vect = TfidfVectorizer(ngram_range=(1,2), min_df=10)\n",
    "tf_idf_vect.fit(preprocessed_reviews)\n",
    "print(\"some sample features(unique words in the corpus)\",tf_idf_vect.get_feature_names()[0:10])\n",
    "print('='*50)\n",
    "\n",
    "final_tf_idf = tf_idf_vect.transform(preprocessed_reviews)\n",
    "print(\"the type of count vectorizer \",type(final_tf_idf))\n",
    "print(\"the shape of out text TFIDF vectorizer \",final_tf_idf.get_shape())\n",
    "print(\"the number of unique words including both unigrams and bigrams \", final_tf_idf.get_shape()[1])"
   ]
  },
  {
   "cell_type": "markdown",
   "metadata": {
    "colab_type": "text",
    "id": "_jVNRd5hJkk-"
   },
   "source": [
    "## [4.4] Word2Vec"
   ]
  },
  {
   "cell_type": "code",
   "execution_count": 28,
   "metadata": {
    "colab": {},
    "colab_type": "code",
    "id": "8jGeY1r5Jkk_"
   },
   "outputs": [],
   "source": [
    "# Train your own Word2Vec model using your own text corpus\n",
    "i=0\n",
    "list_of_sentance=[]\n",
    "for sentance in preprocessed_reviews:\n",
    "    list_of_sentance.append(sentance.split())"
   ]
  },
  {
   "cell_type": "code",
   "execution_count": 29,
   "metadata": {
    "colab": {},
    "colab_type": "code",
    "id": "2X9M3ybMJklB",
    "outputId": "42dc6662-8d17-41ce-be7c-12e2db687f30",
    "scrolled": true
   },
   "outputs": [
    {
     "name": "stdout",
     "output_type": "stream",
     "text": [
      "[('excellent', 0.9934042692184448), ('looking', 0.9928814768791199), ('healthy', 0.9919042587280273), ('overall', 0.9917173385620117), ('worth', 0.9916903972625732), ('terrific', 0.9916651248931885), ('either', 0.9916154742240906), ('amazing', 0.9915229082107544), ('fantastic', 0.9915140867233276), ('anything', 0.9914295673370361)]\n",
      "==================================================\n",
      "[('results', 0.9992072582244873), ('tomatoes', 0.9991599917411804), ('c', 0.9991344213485718), ('become', 0.9991328716278076), ('wife', 0.9991115927696228), ('enjoyed', 0.9990763664245605), ('remember', 0.9990705251693726), ('beef', 0.9990602731704712), ('tassimo', 0.9990425109863281), ('superior', 0.9990386962890625)]\n"
     ]
    }
   ],
   "source": [
    "# Using Google News Word2Vectors\n",
    "\n",
    "# in this project we are using a pretrained model by google\n",
    "# its 3.3G file, once you load this into your memory \n",
    "# it occupies ~9Gb, so please do this step only if you have >12G of ram\n",
    "# we will provide a pickle file wich contains a dict , \n",
    "# and it contains all our courpus words as keys and  model[word] as values\n",
    "# To use this code-snippet, download \"GoogleNews-vectors-negative300.bin\" \n",
    "# from https://drive.google.com/file/d/0B7XkCwpI5KDYNlNUTTlSS21pQmM/edit\n",
    "# it's 1.9GB in size.\n",
    "\n",
    "\n",
    "# http://kavita-ganesan.com/gensim-word2vec-tutorial-starter-code/#.W17SRFAzZPY\n",
    "# you can comment this whole cell\n",
    "# or change these varible according to your need\n",
    "\n",
    "is_your_ram_gt_16g=False\n",
    "want_to_use_google_w2v = False\n",
    "want_to_train_w2v = True\n",
    "\n",
    "if want_to_train_w2v:\n",
    "    # min_count = 5 considers only words that occured atleast 5 times\n",
    "    w2v_model=Word2Vec(list_of_sentance,min_count=5,size=50, workers=4)\n",
    "    print(w2v_model.wv.most_similar('great'))\n",
    "    print('='*50)\n",
    "    print(w2v_model.wv.most_similar('worst'))\n",
    "    \n",
    "elif want_to_use_google_w2v and is_your_ram_gt_16g:\n",
    "    if os.path.isfile('GoogleNews-vectors-negative300.bin'):\n",
    "        w2v_model=KeyedVectors.load_word2vec_format('GoogleNews-vectors-negative300.bin', binary=True)\n",
    "        print(w2v_model.wv.most_similar('great'))\n",
    "        print(w2v_model.wv.most_similar('worst'))\n",
    "    else:\n",
    "        print(\"you don't have gogole's word2vec file, keep want_to_train_w2v = True, to train your own w2v \")"
   ]
  },
  {
   "cell_type": "code",
   "execution_count": 30,
   "metadata": {
    "colab": {},
    "colab_type": "code",
    "id": "jIFbq6sDJklG",
    "outputId": "56320a9c-85c4-4f09-c139-0a64bfdc6ab2"
   },
   "outputs": [
    {
     "name": "stdout",
     "output_type": "stream",
     "text": [
      "number of words that occured minimum 5 times  3817\n",
      "sample words  ['product', 'available', 'course', 'total', 'pretty', 'stinky', 'right', 'nearby', 'used', 'ca', 'not', 'beat', 'great', 'received', 'shipment', 'could', 'hardly', 'wait', 'try', 'love', 'call', 'instead', 'removed', 'easily', 'daughter', 'designed', 'printed', 'use', 'car', 'windows', 'beautifully', 'shop', 'program', 'going', 'lot', 'fun', 'everywhere', 'like', 'tv', 'computer', 'really', 'good', 'idea', 'final', 'outstanding', 'window', 'everybody', 'asks', 'bought', 'made']\n"
     ]
    }
   ],
   "source": [
    "w2v_words = list(w2v_model.wv.vocab)\n",
    "print(\"number of words that occured minimum 5 times \",len(w2v_words))\n",
    "print(\"sample words \", w2v_words[0:50])"
   ]
  },
  {
   "cell_type": "markdown",
   "metadata": {
    "colab_type": "text",
    "id": "bJ1C1s_eJklQ"
   },
   "source": [
    "## [4.4.1] Converting text into vectors using Avg W2V, TFIDF-W2V"
   ]
  },
  {
   "cell_type": "markdown",
   "metadata": {
    "colab_type": "text",
    "id": "33z1pU7zJklQ"
   },
   "source": [
    "#### [4.4.1.1] Avg W2v"
   ]
  },
  {
   "cell_type": "code",
   "execution_count": 31,
   "metadata": {
    "colab": {},
    "colab_type": "code",
    "id": "Ce1_4JvaJklR",
    "outputId": "198ff07c-ab57-4395-bf04-4d43a9fa1205"
   },
   "outputs": [
    {
     "name": "stderr",
     "output_type": "stream",
     "text": [
      "100%|██████████| 4986/4986 [00:05<00:00, 910.13it/s] \n"
     ]
    },
    {
     "name": "stdout",
     "output_type": "stream",
     "text": [
      "4986\n",
      "50\n"
     ]
    }
   ],
   "source": [
    "# average Word2Vec\n",
    "# compute average word2vec for each review.\n",
    "sent_vectors = []; # the avg-w2v for each sentence/review is stored in this list\n",
    "for sent in tqdm(list_of_sentance): # for each review/sentence\n",
    "    sent_vec = np.zeros(50) # as word vectors are of zero length 50, you might need to change this to 300 if you use google's w2v\n",
    "    cnt_words =0; # num of words with a valid vector in the sentence/review\n",
    "    for word in sent: # for each word in a review/sentence\n",
    "        if word in w2v_words:\n",
    "            vec = w2v_model.wv[word]\n",
    "            sent_vec += vec\n",
    "            cnt_words += 1\n",
    "    if cnt_words != 0:\n",
    "        sent_vec /= cnt_words\n",
    "    sent_vectors.append(sent_vec)\n",
    "print(len(sent_vectors))\n",
    "print(len(sent_vectors[0]))"
   ]
  },
  {
   "cell_type": "markdown",
   "metadata": {
    "colab_type": "text",
    "id": "-R_AYTtwJklT"
   },
   "source": [
    "#### [4.4.1.2] TFIDF weighted W2v"
   ]
  },
  {
   "cell_type": "code",
   "execution_count": 32,
   "metadata": {
    "colab": {},
    "colab_type": "code",
    "id": "il5ldoFyJklU"
   },
   "outputs": [],
   "source": [
    "# S = [\"abc def pqr\", \"def def def abc\", \"pqr pqr def\"]\n",
    "model = TfidfVectorizer()\n",
    "tf_idf_matrix = model.fit_transform(preprocessed_reviews)\n",
    "# we are converting a dictionary with word as a key, and the idf as a value\n",
    "dictionary = dict(zip(model.get_feature_names(), list(model.idf_)))"
   ]
  },
  {
   "cell_type": "code",
   "execution_count": 33,
   "metadata": {
    "colab": {},
    "colab_type": "code",
    "id": "VUZMBVxpJklX",
    "outputId": "e826680b-3c3f-4c22-9de3-c7850f5ff737",
    "scrolled": true
   },
   "outputs": [
    {
     "name": "stderr",
     "output_type": "stream",
     "text": [
      "100%|██████████| 4986/4986 [00:26<00:00, 191.22it/s]\n"
     ]
    }
   ],
   "source": [
    "# TF-IDF weighted Word2Vec\n",
    "tfidf_feat = model.get_feature_names() # tfidf words/col-names\n",
    "# final_tf_idf is the sparse matrix with row= sentence, col=word and cell_val = tfidf\n",
    "\n",
    "tfidf_sent_vectors = []; # the tfidf-w2v for each sentence/review is stored in this list\n",
    "row=0;\n",
    "for sent in tqdm(list_of_sentance): # for each review/sentence \n",
    "    sent_vec = np.zeros(50) # as word vectors are of zero length\n",
    "    weight_sum =0; # num of words with a valid vector in the sentence/review\n",
    "    for word in sent: # for each word in a review/sentence\n",
    "        if word in w2v_words and word in tfidf_feat:\n",
    "            vec = w2v_model.wv[word]\n",
    "#             tf_idf = tf_idf_matrix[row, tfidf_feat.index(word)]\n",
    "            # to reduce the computation we are \n",
    "            # dictionary[word] = idf value of word in whole courpus\n",
    "            # sent.count(word) = tf valeus of word in this review\n",
    "            tf_idf = dictionary[word]*(sent.count(word)/len(sent))\n",
    "            sent_vec += (vec * tf_idf)\n",
    "            weight_sum += tf_idf\n",
    "    if weight_sum != 0:\n",
    "        sent_vec /= weight_sum\n",
    "    tfidf_sent_vectors.append(sent_vec)\n",
    "    row += 1"
   ]
  },
  {
   "cell_type": "markdown",
   "metadata": {
    "colab_type": "text",
    "id": "ZFN0k_hEJklb"
   },
   "source": [
    "# [5] Assignment 4: Apply Naive Bayes"
   ]
  },
  {
   "cell_type": "markdown",
   "metadata": {
    "colab_type": "text",
    "id": "O1ABSoejJklc"
   },
   "source": [
    "<ol>\n",
    "    <li><strong>Apply Multinomial NaiveBayes on these feature sets</strong>\n",
    "        <ul>\n",
    "            <li><font color='red'>SET 1:</font>Review text, preprocessed one converted into vectors using (BOW)</li>\n",
    "            <li><font color='red'>SET 2:</font>Review text, preprocessed one converted into vectors using (TFIDF)</li>\n",
    "        </ul>\n",
    "    </li>\n",
    "    <br>\n",
    "    <li><strong>The hyper paramter tuning(find best Alpha)</strong>\n",
    "        <ul>\n",
    "    <li>Find the best hyper parameter which will give the maximum <a href='https://www.appliedaicourse.com/course/applied-ai-course-online/lessons/receiver-operating-characteristic-curve-roc-curve-and-auc-1/'>AUC</a> value</li>\n",
    "    <li>Consider a wide range of alpha values for hyperparameter tuning, start as low as 0.00001</li>\n",
    "    <li>Find the best hyper paramter using k-fold cross validation or simple cross validation data</li>\n",
    "    <li>Use gridsearch cv or randomsearch cv or you can also write your own for loops to do this task of hyperparameter tuning</li>\n",
    "        </ul>\n",
    "    </li>\n",
    "    <br>\n",
    "    <li><strong>Feature importance</strong>\n",
    "        <ul>\n",
    "    <li>Find the top 10 features of positive class and top 10 features of negative class for both feature sets <font color='red'>Set 1</font> and <font color='red'>Set 2</font> using values of `feature_log_prob_` parameter of  <a href='https://scikit-learn.org/stable/modules/generated/sklearn.naive_bayes.MultinomialNB.html'>MultinomialNB</a> and print their corresponding feature names</li>\n",
    "        </ul>\n",
    "    </li>\n",
    "    <br>\n",
    "    <li><strong>Feature engineering</strong>\n",
    "        <ul>\n",
    "    <li>To increase the performance of your model, you can also experiment with with feature engineering like :</li>\n",
    "            <ul>\n",
    "            <li>Taking length of reviews as another feature.</li>\n",
    "            <li>Considering some features from review summary as well.</li>\n",
    "        </ul>\n",
    "        </ul>\n",
    "    </li>\n",
    "    <br>\n",
    "    <li><strong>Representation of results</strong>\n",
    "        <ul>\n",
    "    <li>You need to plot the performance of model both on train data and cross validation data for each hyper parameter, like shown in the figure. Here on X-axis you will have alpha values, since they have a wide range, just to represent those alpha values on the graph, apply log function on those alpha values.\n",
    "    <img src='train_cv_auc.JPG' width=300px></li>\n",
    "    <li>Once after you found the best hyper parameter, you need to train your model with it, and find the AUC on test data and plot the ROC curve on both train and test.\n",
    "    <img src='train_test_auc.JPG' width=300px></li>\n",
    "    <li>Along with plotting ROC curve, you need to print the <a href='https://www.appliedaicourse.com/course/applied-ai-course-online/lessons/confusion-matrix-tpr-fpr-fnr-tnr-1/'>confusion matrix</a> with predicted and original labels of test data points. Please visualize your confusion matrices using <a href='https://seaborn.pydata.org/generated/seaborn.heatmap.html'>seaborn heatmaps.\n",
    "    <img src='confusion_matrix.png' width=300px></li>\n",
    "        </ul>\n",
    "    </li>\n",
    "    <br>\n",
    "    <li><strong>Conclusion</strong>\n",
    "        <ul>\n",
    "    <li>You need to summarize the results at the end of the notebook, summarize it in the table format. To print out a table please refer to this prettytable library<a href='http://zetcode.com/python/prettytable/'>  link</a> \n",
    "        <img src='summary.JPG' width=400px>\n",
    "    </li>\n",
    "        </ul>\n",
    "</ol>"
   ]
  },
  {
   "cell_type": "markdown",
   "metadata": {
    "colab_type": "text",
    "id": "YawkDx8TJklc"
   },
   "source": [
    "<h4><font color='red'>Note: Data Leakage</font></h4>\n",
    "\n",
    "1. There will be an issue of data-leakage if you vectorize the entire data and then split it into train/cv/test.\n",
    "2. To avoid the issue of data-leakag, make sure to split your data first and then vectorize it. \n",
    "3. While vectorizing your data, apply the method fit_transform() on you train data, and apply the method transform() on cv/test data.\n",
    "4. For more details please go through this <a href='https://soundcloud.com/applied-ai-course/leakage-bow-and-tfidf'>link.</a>"
   ]
  },
  {
   "cell_type": "markdown",
   "metadata": {
    "colab_type": "text",
    "id": "RGRFxjhgJklc"
   },
   "source": [
    "# Applying Multinomial Naive Bayes"
   ]
  },
  {
   "cell_type": "markdown",
   "metadata": {
    "colab_type": "text",
    "id": "FxGKHpZlJkle"
   },
   "source": [
    "## [5.1] Applying Naive Bayes on BOW,<font color='red'> SET 1</font>"
   ]
  },
  {
   "cell_type": "code",
   "execution_count": 0,
   "metadata": {
    "colab": {},
    "colab_type": "code",
    "id": "UR0f8SfZJkle"
   },
   "outputs": [],
   "source": [
    "# Please write all the code with proper documentation"
   ]
  },
  {
   "cell_type": "code",
   "execution_count": 2,
   "metadata": {},
   "outputs": [],
   "source": [
    "# the required imports \n",
    "from sklearn.naive_bayes import MultinomialNB\n",
    "from sklearn.feature_extraction.text import CountVectorizer\n",
    "from sklearn.metrics import classification_report,accuracy_score,confusion_matrix\n",
    "from sklearn.model_selection import train_test_split\n",
    "from sklearn.model_selection import cross_val_score\n",
    "from sklearn.metrics import roc_curve\n",
    "from sklearn.metrics import roc_auc_score\n",
    "from sklearn.model_selection import GridSearchCV\n",
    "from sklearn.preprocessing import StandardScaler\n",
    "from json import dump,loads\n",
    "import pandas as pd\n",
    "import numpy as np\n",
    "import math\n",
    "import os\n",
    "import time    \n",
    "import enum\n",
    "import scipy \n",
    "import csv\n",
    "\n",
    "class ratiodatasplit(enum.Enum):\n",
    "    high=0.2\n",
    "    medium = 0.3\n",
    "    low = 0.4\n",
    "    \n",
    "class multiNaiveBayes:\n",
    "    def __init__(self):        \n",
    "        self.Xdata=[]\n",
    "        self.Xdatavect = pd.DataFrame()\n",
    "        self.ydata=pd.DataFrame()\n",
    "        self.xtrain=pd.DataFrame()\n",
    "        self.xtest=pd.DataFrame()\n",
    "        self.xval=pd.DataFrame()\n",
    "        self.ytrain= pd.Series([])\n",
    "        self.ytest= pd.Series([])\n",
    "        self.yval= pd.Series([])\n",
    "        self.mnb_clf = None\n",
    "        self.NBayes_alpha = []\n",
    "        self.yprdprobatrn = []\n",
    "        self.yprdprobaval = []\n",
    "        self.yprdprobatest = []\n",
    "        self.ytrn_predprob_actclf = []\n",
    "        self.ytst_predprob_actclf = []\n",
    "        self.rocaucscoretrn = []\n",
    "        self.rocaucscoreval = []\n",
    "        self.rocaucscoretest = []\n",
    "        self.predicted = []\n",
    "        self.test_predict = []\n",
    "        self.accuracy_score_val = []\n",
    "        self.accuracy_score_test = []\n",
    "        self.clasify_report = []\n",
    "        self.confsnmtxytstpred = {}\n",
    "        self.roc_curve_test = {}\n",
    "        self.clasify_params = {}\n",
    "        self.graph_params = {}\n",
    "        self.outputdir = None\n",
    "        self.opdataitem = {}\n",
    "        self.opdatajson = {}\n",
    "        self.count_vect = None\n",
    "        self.tf_idf_vect = None\n",
    "        \n",
    "    def multNBClasify(self):          \n",
    "        self.mnb_clf = MultinomialNB()        \n",
    "        return self.mnb_clf\n",
    "\n",
    "    def getNBClassifier(self):                  \n",
    "        return self.mnb_clf\n",
    "    \n",
    "    @property\n",
    "    def mnb_clf(self):\n",
    "        return self._mnb_clf\n",
    "    \n",
    "    @mnb_clf.setter\n",
    "    def mnb_clf(self,new_mnbclf):\n",
    "        self._mnb_clf = new_mnbclf\n",
    "\t\t    \n",
    "    @property\n",
    "    def Xdata(self):\n",
    "        return self._Xdata\n",
    "    \n",
    "    @Xdata.setter\n",
    "    def Xdata(self,new_Xdata):\n",
    "        self._Xdata = new_Xdata\n",
    "\t\t\n",
    "\n",
    "    @property\n",
    "    def Xdatavect(self):\n",
    "        return self._Xdatavect\n",
    "    \n",
    "    @Xdatavect.setter\n",
    "    def Xdatavect(self,new_Xdatavect):\n",
    "        self._Xdatavect = new_Xdatavect\n",
    "\t\t\n",
    "    @property\n",
    "    def ydata(self):\n",
    "        return self._ydata\n",
    "    \n",
    "    @ydata.setter\n",
    "    def ydata(self,new_ydata):\n",
    "        self._ydata = new_ydata\n",
    "\t\t\n",
    "        \n",
    "    @property\n",
    "    def xtrain(self):\n",
    "        return self._xtrain\n",
    "    \n",
    "    @xtrain.setter\n",
    "    def xtrain(self,new_xtrain):\n",
    "        self._xtrain = new_xtrain        \n",
    "\t\t\n",
    "        \n",
    "    @property\n",
    "    def xtest(self):\n",
    "        return self._xtest\n",
    "    \n",
    "    @xtest.setter\n",
    "    def xtest(self,new_xtest):\n",
    "        self._xtest = new_xtest\n",
    "\t\t\n",
    "    @property\n",
    "    def xval(self):\n",
    "        return self._xval\n",
    "    \n",
    "    @xval.setter\n",
    "    def xval(self,new_xval):\n",
    "        self._xval = new_xval \n",
    "\n",
    "    @property\n",
    "    def ytrain(self):\n",
    "        return self._ytrain\n",
    "    \n",
    "    @ytrain.setter\n",
    "    def ytrain(self,new_ytrain):\n",
    "        self._ytrain = new_ytrain\n",
    "\t\t\n",
    "    @property\n",
    "    def ytest(self):\n",
    "        return self._ytest\n",
    "    \n",
    "    @ytest.setter\n",
    "    def ytest(self,new_ytest):\n",
    "        self._ytest = new_ytest\n",
    "\t\t\n",
    "    @property\n",
    "    def yval(self):\n",
    "        return self._yval\n",
    "    \n",
    "    @yval.setter\n",
    "    def yval(self,new_yval):\n",
    "        self._yval = new_yval\n",
    "\t\t        \n",
    "    @property\n",
    "    def yprdprobatrn(self):\n",
    "        return self._yprdprobatrn\n",
    "\n",
    "    @yprdprobatrn.setter\n",
    "    def yprdprobatrn(self,new_yprdprobatrn):\n",
    "        self._yprdprobatrn = new_yprdprobatrn\n",
    "\t\t\n",
    "    @property\n",
    "    def yprdprobaval (self):\n",
    "        return self._yprdprobaval\n",
    "\n",
    "    @yprdprobaval.setter\n",
    "    def yprdprobaval (self,new_yprdprobaval):\n",
    "        self._yprdprobaval = new_yprdprobaval\n",
    "\t\t\n",
    "\n",
    "    @property\n",
    "    def yprdprobatest (self):\n",
    "        return self._yprdprobatest\n",
    "\n",
    "    @yprdprobatest.setter\n",
    "    def yprdprobatest (self,new_yprdprobatest):\n",
    "        self._yprdprobatest = new_yprdprobatest\n",
    "\n",
    "\t\t\n",
    "    @property\n",
    "    def ytrn_predprob_actclf (self):\n",
    "        return self._ytrn_predprob_actclf\n",
    "\n",
    "    @ytrn_predprob_actclf.setter\n",
    "    def ytrn_predprob_actclf (self,new_ytrn_predprob_actclf):\n",
    "        self._ytrn_predprob_actclf = new_ytrn_predprob_actclf\n",
    "\t\t\n",
    "    @property\n",
    "    def NBayes_alpha (self):\n",
    "        return self._NBayes_alpha\n",
    "\n",
    "    @NBayes_alpha.setter\n",
    "    def NBayes_alpha (self,new_NBayes_alpha):\n",
    "        self._NBayes_alpha = new_NBayes_alpha\n",
    "\t\t      \n",
    "\n",
    "    @property\n",
    "    def outputdir (self):\n",
    "        return self._outputdir\n",
    "\n",
    "    @outputdir.setter\n",
    "    def outputdir (self,new_outputdir):\n",
    "        self._outputdir = new_outputdir\n",
    "\t\t\n",
    "        \n",
    "    def setalphaparm(self,prmval):        \n",
    "        params = {'alpha':prmval}        \n",
    "        (self.mnb_clf).set_params(**params)        \n",
    "        return self.mnb_clf\n",
    "   \n",
    "    def mnb_fitdata(self):\n",
    "        mnb_clf.fit(self.xdata,self.ydata)\n",
    "        return self.mnb_clf\n",
    "\n",
    "    def mnb_predict(self):\n",
    "        predicted = mnb_clf.predict(self.xtest)\n",
    "        return [predicted,mb_clf]\n",
    "\n",
    "    def hyperparamtuning(self,hyperparam,measure,cvfold=5,vbose=100,njob=1):      \n",
    "\n",
    "        \n",
    "        # set the parameter values for hyertuning\n",
    "        param_grid = {'alpha':hyperparam}\n",
    "        \n",
    "        #initialize the classifier\n",
    "        grdsch_clf = self.getNBClassifier()\n",
    "        grdschcv = GridSearchCV(grdsch_clf, param_grid,scoring=measure, cv = cvfold, verbose=vbose, n_jobs=njob)\n",
    "        \n",
    "        #fit the data with classifier\n",
    "        grdschcv.fit(self.xtrain,self.ytrain)\n",
    "        return [grdschcv.best_score_,grdschcv.best_params_,grdschcv]\n",
    "\n",
    "    def splitdatasets(self,splitratio,proportion,standardise,randomseed=42):\n",
    "        #split into train and test sets (80/20)        \n",
    "        \n",
    "        if standardise :\n",
    "            if scipy.sparse.issparse(self.Xdata) :\n",
    "                X1data = self.Xdata\n",
    "                self.Xdata = X1data.todense()\n",
    "        \"\"\"\n",
    "        print((self.Xdata).shape,(self.ydata).shape)\n",
    "        #print((self.Xdata),(self.ydata))\n",
    "        print(proportion)\n",
    "        \"\"\"        \n",
    "        \n",
    "        if proportion :\n",
    "            X_train8, X_test8, y_train8, y_test8 = train_test_split(self.Xdata, self.ydata, stratify=self.ydata,test_size=splitratio.value, random_state=randomseed)                         \n",
    "            X_trn8, X_val8, y_trn8, y_val8   = train_test_split(X_train8, y_train8,stratify=y_train8, test_size=splitratio.value, random_state=randomseed)\n",
    "        else:\n",
    "            X_train8, X_test8, y_train8, y_test8 = train_test_split(self.Xdata, self.ydata, test_size=splitratio.value, random_state=randomseed) \n",
    "            X_trn8, X_val8, y_trn8, y_val8   = train_test_split(X_train8, y_train8, test_size=splitratio.value, random_state=randomseed)\n",
    "\n",
    "        # statndardize the data\n",
    "        if standardise:\n",
    "            scaler = StandardScaler()              \n",
    "            train8_scaled = scaler.fit_transform(X_trn8)\n",
    "            test8_scaled = scaler.transform(X_test8)     \n",
    "            v8_scaled = scaler.transform(X_val8)\n",
    "            self.xtrain = train8_scaled\n",
    "            self.xtest = test8_scaled\n",
    "            self.xval = v8_scaled\n",
    "            self.ytrain = y_trn8\n",
    "            self.ytest = y_test8\n",
    "            self.yval = y_val8            \n",
    "        else:\n",
    "            self.xtrain = X_trn8\n",
    "            self.xtest = X_test8\n",
    "            self.xval = X_val8\n",
    "            self.ytrain = y_trn8\n",
    "            self.ytest = y_test8\n",
    "            self.yval = y_val8\n",
    "            self.xtest = X_test8\n",
    "           \n",
    "    def BOWVectorizer(self):\n",
    "        #BoW\n",
    "        self.count_vect = CountVectorizer(max_features=1000) #in scikit-learn\n",
    "        self.count_vect.fit(self.xtrain)\n",
    "        print(\"some feature names \", self.count_vect.get_feature_names()[:10])\n",
    "        print('='*50)\n",
    "\n",
    "        self.xtrain = self.count_vect.transform(self.xtrain)\n",
    "        self.xtest = self.count_vect.transform(self.xtest)\n",
    "        self.xval = self.count_vect.transform(self.xval)\n",
    "        print(\"the type of count vectorizer \",type(self.xtrain))\n",
    "        print(\"the shape of out text BOW vectorizer \",self.xtrain.get_shape())\n",
    "        print(\"the number of unique words \", self.xtrain.get_shape()[1])\n",
    "\n",
    "        \n",
    "    def tfIdfVectorizer(self):\n",
    "        self.tf_idf_vect = TfidfVectorizer(ngram_range=(1,2), min_df=10,)\n",
    "        self.tf_idf_vect.fit(self.xtrain)\n",
    "        print(\"some sample features(unique words in the corpus)\",self.tf_idf_vect.get_feature_names()[0:10])\n",
    "        print('='*50)\n",
    "\n",
    "        self.xtrain = self.tf_idf_vect.transform(self.xtrain)\n",
    "        self.xtest = self.tf_idf_vect.transform(self.xtest)\n",
    "        self.xval  = self.tf_idf_vect.transform(self.xval)\n",
    "        print(\"the type of count vectorizer \",type(self.xtrain))\n",
    "        print(\"the shape of out text TFIDF vectorizer \",self.xtrain.get_shape())\n",
    "        print(\"the number of unique words including both unigrams and bigrams \", self.xtrain.get_shape()[1])        \n",
    "\n",
    "    def tstloop(self,endval):\n",
    "        i = 0.00000000001\n",
    "        while(i <= endval):\n",
    "            print(i)\n",
    "            i = i*10\n",
    "            \n",
    "    def calcrocaucscore_naivebayes(self,endval):\n",
    "        alpha_start = 0.00000000001\n",
    "        while(alpha_start <= endval):\n",
    "            \n",
    "            # set alpha param for classifier\n",
    "            self.setalphaparm(alpha_start)\n",
    "            \n",
    "            # fit the x-train model            \n",
    "            (self.mnb_clf).fit(self.xtrain,self.ytrain)\n",
    "            self.yprdprobatrn =  (self.mnb_clf).predict_proba(self.xtrain)[:,1]\n",
    "            (self.rocaucscoretrn).append(roc_auc_score(self.ytrain,self.yprdprobatrn))\n",
    "            print('Fitting probability generation and roc auc score generation for training data complete...')\n",
    "\n",
    "            #fit the validation model\n",
    "            (self.mnb_clf).fit(self.xval,self.yval)\n",
    "            self.yprdprobaval =  (self.mnb_clf).predict_proba(self.xval)[:,1]\n",
    "            (self.rocaucscoreval).append(roc_auc_score(self.yval,self.yprdprobaval))\n",
    "            print('Fitting probability generation and roc auc score generation for validation data complete...')\n",
    "\n",
    "            # predict the labels for validation\n",
    "            self.predicted = (self.mnb_clf).predict(self.xval)\n",
    "            \n",
    "            # calculate accuracy_score\n",
    "            self.accuracy_score_val = accuracy_score(self.yval, self.predicted)\n",
    "            \n",
    "            print('Predicting labels for training data complete...')\n",
    "            \n",
    "            #set alpha to the next value\n",
    "            (self.NBayes_alpha).append(alpha_start)\n",
    "            alpha_start = alpha_start * 10\n",
    "            \n",
    "        print('Function exiting...')\n",
    "            \n",
    "    def actualClasifier_naivebayes(self,parm_alpha):\n",
    "        self.setalphaparm(parm_alpha)\n",
    "        (self.mnb_clf).fit(self.xtest,self.ytest)\n",
    "        \n",
    "        # predict xtest labels\n",
    "        self.test_predict = (self.mnb_clf).predict(self.xtest)\n",
    "        \n",
    "        #store the classifier parameters\n",
    "        self.clasify_params['clfparams'] = (self.mnb_clf).get_params(deep=True)\n",
    "        \n",
    "        # calculate accuracy_score\n",
    "        self.accuracy_score_test = accuracy_score(self.ytest, self.test_predict)\n",
    "        \n",
    "        # generate classification report \n",
    "        #classification_report(self.ytest, self.test_predict)\n",
    "        \n",
    "        # confusion matrix for ytest\n",
    "        tn, fp, fn, tp = confusion_matrix(self.ytest, self.test_predict ).ravel()\n",
    "        self.confsnmtxytstpred['tn'] = tn\n",
    "        self.confsnmtxytstpred['fp'] = fp\n",
    "        self.confsnmtxytstpred['fn'] = fn\n",
    "        self.confsnmtxytstpred['tp'] = tp\n",
    "        \n",
    "        # predict probabilites  from xtrain for roc_curve\n",
    "        self.ytrn_predprob_actclf = (self.mnb_clf).predict_proba(self.xtrain)[:,1]\n",
    "        fpr_trn, tpr_trn, thrshld_trn = roc_curve(self.ytrain, self.ytrn_predprob_actclf)\n",
    "        \n",
    "        # predict probabilites  from xtest for roc_curve\n",
    "        self.ytst_predprob_actclf = (self.mnb_clf).predict_proba(self.xtest)[:,1]\n",
    "        fpr, tpr, thrshld_test = roc_curve(self.ytest,self.ytst_predprob_actclf)\n",
    "        \n",
    "        # store the above into the dictionary\n",
    "        self.roc_curve_test['fpr_trn'] = fpr_trn\n",
    "        self.roc_curve_test['tpr_trn'] =  tpr_trn\n",
    "        self.roc_curve_test['thrshld_trn'] = thrshld_trn\n",
    "        self.roc_curve_test['fpr'] = fpr\n",
    "        self.roc_curve_test['tpr'] = tpr\n",
    "        self.roc_curve_test['thrshld_test'] = thrshld_test\n",
    "\n",
    "\n",
    "   \n",
    "\n",
    "    def exportopdatatocsv(self,name,data):\n",
    "        fname = self.outputdir + \"/\" + name + '.csv'\n",
    "        with open(fname,\"w\") as csvFile:\n",
    "                wr=csv.writer(csvFile,quoting=csv.QUOTE_NONE,escapechar='\\\\')\n",
    "                wr.writerow(data)\n",
    "                \n",
    "    def exportopdatatojson(self):\n",
    "        self.opdataitem['NBayes_alpha'] = self.NBayes_alpha\n",
    "        self.opdataitem['yprdprobatrn'] = self.yprdprobatrn\n",
    "        self.opdataitem['yprdprobaval'] = self.yprdprobaval\n",
    "        self.opdataitem['yprdprobatest'] = self.yprdprobatest\n",
    "        self.opdataitem['ytrn_predprob_actclf'] = self.ytrn_predprob_actclf\n",
    "        self.opdataitem['ytst_predprob_actclf'] = self.ytst_predprob_actclf\n",
    "        self.opdataitem['rocaucscoretrn'] = self.rocaucscoretrn\n",
    "        self.opdataitem['rocaucscoreval'] = self.rocaucscoreval\n",
    "        self.opdataitem['rocaucscoretest'] = self.rocaucscoretest\n",
    "        self.opdataitem['predicted'] = self.predicted\n",
    "        self.opdataitem['test_predict'] = self.test_predict\n",
    "        self.opdatajson = {\n",
    "                            'Model':'NBayesClasify',\n",
    "                            'Opdata': self.opdataitem\n",
    "                           }\n",
    "        fname = self.outputdir + \"/\" + 'NBayesclasify.json'\n",
    "        \n",
    "        fp = open(fname, 'a+')\n",
    "        dump(self.opdatajson, fp, indent=4)\n",
    "        fp.close()"
   ]
  },
  {
   "cell_type": "code",
   "execution_count": 3,
   "metadata": {},
   "outputs": [],
   "source": [
    "import matplotlib.pyplot as plt\n",
    "import pandas as pd\n",
    "import numpy as np\n",
    "\n",
    "class drawgraphs:\n",
    "    def __init__(self):\n",
    "        self.graph_parameters= {}\n",
    "        self.plt = None\n",
    "        \n",
    "    #self.graph_parameters['']=    \n",
    "    def setdefaultparm(self):\n",
    "        self.Xdata=pd.DataFrame()\n",
    "        self.ydatatrn=pd.DataFrame()\n",
    "        self.ydataval=pd.DataFrame()\n",
    "        self.graph_parameters['figsize_x']= 16\n",
    "        self.graph_parameters['figsize_y']= 16 \n",
    "        self.graph_parameters['show_legnd']= False\n",
    "        self.graph_parameters['show_grid']= True        \n",
    "        self.graph_title = None\n",
    "        self.legnd_1x = None\n",
    "        self.legnd_2 = None\n",
    "        self.label_x = None\n",
    "        self.label_y = None\n",
    "        \n",
    "\t\t    \n",
    "    @property\n",
    "    def Xdata(self):\n",
    "        return self._Xdata\n",
    "    \n",
    "    @Xdata.setter\n",
    "    def Xdata(self,new_Xdata):\n",
    "        self._Xdata = new_Xdata\n",
    "\t\t\n",
    "        \n",
    "    @property\n",
    "    def ydatatrn(self):\n",
    "        return self._ydatatrn\n",
    "    \n",
    "    @ydatatrn.setter\n",
    "    def ydatatrn(self,new_ydatatrn):\n",
    "        self._ydatatrn = new_ydatatrn\n",
    "\t\t\n",
    "    @property\n",
    "    def ydataval(self):\n",
    "        return self._ydataval\n",
    "    \n",
    "    @ydataval.setter\n",
    "    def ydataval(self,new_ydataval):\n",
    "        self._ydataval = new_ydataval\n",
    "\t\t\n",
    "        \n",
    "    @property\n",
    "    def graph_title(self):\n",
    "        return self._graph_title\n",
    "    \n",
    "    @graph_title.setter\n",
    "    def graph_title(self,new_title):\n",
    "        self._graph_title = new_title\n",
    "\t\t\n",
    "        \n",
    "    @property\n",
    "    def legnd_1(self):\n",
    "        return self._legnd_1\n",
    "    \n",
    "    @legnd_1.setter\n",
    "    def legnd_1(self,new_legnd1):\n",
    "        self._legnd_1 = new_legnd1\n",
    "\t\t\n",
    "\n",
    "    @property\n",
    "    def legnd_2(self):\n",
    "        return self._legnd_2\n",
    "    \n",
    "    @legnd_2.setter\n",
    "    def legnd_2(self,new_legnd2):\n",
    "        self._legnd_2 = new_legnd2\n",
    "\t\t\n",
    "\n",
    "    @property\n",
    "    def label_x(self):\n",
    "        return self._label_x\n",
    "    \n",
    "    @label_x.setter\n",
    "    def label_x(self,new_lblx):\n",
    "        self._label_x = new_lblx\n",
    "\t\t\n",
    "\n",
    "    @property\n",
    "    def label_y(self):\n",
    "        return self._label_y\n",
    "    \n",
    "    @label_y.setter\n",
    "    def label_y(self,new_labely):\n",
    "        self._label_y = new_labely\n",
    "\t\t\n",
    "    def rocacuscoregraph(self):\n",
    "        plt.figure(figsize=(self.graph_parameters['figsize_x'],self.graph_parameters['figsize_y']))\n",
    "        y1=np.asarray(self.ydatatrn)\n",
    "        y1 = y1.reshape(-1,1)\n",
    "        y2=np.asarray(self.ydataval)\n",
    "        y2 = y2.reshape(-1,1)\n",
    "        plt.plot(self.Xdata,y1, label=self.legnd_1)\n",
    "        plt.plot(self.Xdata,y2, label=self.legnd_2)\n",
    "        plt.xlabel(self.label_x)\n",
    "        plt.ylabel(self.label_y)\n",
    "        plt.title(self.graph_title)\n",
    "        plt.grid(self.graph_parameters['show_grid'])\n",
    "        \n",
    "        if self.graph_parameters['show_legnd'] :\n",
    "            plt.legend()\n",
    "        plt.show()\n",
    "        \n",
    "    def constructgraph(self, fpr_trn, tpr_trn, fpr, tpr):\n",
    "        plt.figure(figsize=(self.graph_parameters['figsize_x'],self.graph_parameters['figsize_y']))\n",
    "        plt.plot([0,1],[0,1],'k--')        \n",
    "        plt.plot(fpr_trn,tpr_trn, label=self.legnd_1)\n",
    "        plt.plot(fpr,tpr, label=self.legnd_2)        \n",
    "        plt.xlabel(self.label_x)\n",
    "        plt.ylabel(self.label_y)\n",
    "        plt.title(self.graph_title)\n",
    "        plt.grid(self.graph_parameters['show_grid'])\n",
    "        \n",
    "        if self.graph_parameters['show_legnd'] :\n",
    "            plt.legend()\n",
    "        plt.show()\n",
    "        \n",
    "    def draw_table(self,data):\n",
    "        colors = [[\"#56b5fd\",\"w\"],[ \"w\",\"#1ac3f5\"]]\n",
    "        table = plt.table(cellText=data,rowLabels=['Actual:\\n NO','Actual: \\nYES'], colLabels=['Predicted: \\n NO', 'Predicted: \\n YES'], loc='center', \n",
    "                          cellLoc='center',cellColours=colors, colColours=['Red', 'Green'],rowColours=['Yellow','Green'])\n",
    "\n",
    "        table.set_fontsize(24)\n",
    "        for i in range(0,3):\n",
    "            for j in range(-1,2):\n",
    "                if (i==0 and j == -1):\n",
    "                    continue\n",
    "                table.get_celld()[(i,j)].set_height(0.5)\n",
    "                table.get_celld()[(i,j)].set_width(0.5)\n",
    "                table.get_celld()[(i,j)].set_linewidth(4)\n",
    "        plt.axis('off')\n",
    "        plt.show() \n",
    "        \n",
    "    def draw_accscore(self,data):\n",
    "        #colors = [[\"#56b5fd\",\"w\"]]\n",
    "        table = plt.table(cellText=data,colLabels=['Validation','Test'], rowLabels=['Accuracy\\nScore'], loc='center', \n",
    "                          cellLoc='center', rowColours=['Green'],colColours=[\"#56b5fd\",\"#1ac3f5\"])\n",
    "\n",
    "        table.set_fontsize(24)\n",
    "        for i in range(0,2):\n",
    "            for j in range(-1,2):\n",
    "                if (i==0 and j == -1):\n",
    "                    continue\n",
    "                table.get_celld()[(i,j)].set_height(0.5)\n",
    "                table.get_celld()[(i,j)].set_width(0.8)\n",
    "                table.get_celld()[(i,j)].set_linewidth(4)\n",
    "        plt.axis('off')\n",
    "        plt.show()  \n",
    "        \n",
    "    \n",
    "    def draw_posnegwords(self,data):\n",
    "        #colors = [[\"#56b5fd\",\"w\"]]\n",
    "        table = plt.table(cellText=data,colLabels=['Postive','Negative'], rowLabels=['1','2','3','4','5','6','7','8','9','10'], loc='center', \n",
    "                          cellLoc='center',colColours=[\"#56b5fd\",\"#1ac3f5\"])\n",
    "\n",
    "        table.set_fontsize(20)\n",
    "        for i in range(0,11):\n",
    "            for j in range(-1,2):\n",
    "                if (i==0 and j == -1):\n",
    "                    continue\n",
    "                #if (i==0 and j == 2):\n",
    "                    #continue\n",
    "                table.get_celld()[(i,j)].set_height(0.3)\n",
    "                table.get_celld()[(i,j)].set_width(0.8)\n",
    "                table.get_celld()[(i,j)].set_linewidth(4)\n",
    "        plt.axis('off')\n",
    "        plt.show()  "
   ]
  },
  {
   "cell_type": "code",
   "execution_count": 6,
   "metadata": {},
   "outputs": [],
   "source": [
    "def load_data():\n",
    "    \n",
    "    import pickle \n",
    "\n",
    "    with open ('E:/appliedaiacourse/assignments/dblite/preproc_xtrain', 'rb') as fp:\n",
    "        xtrain_preproc = pickle.load(fp)\n",
    "\n",
    "    with open ('E:/appliedaiacourse/assignments/dblite/preproc_xtest', 'rb') as fp:\n",
    "        xtest_preproc = pickle.load(fp)\n",
    "\n",
    "    with open ('E:/appliedaiacourse/assignments/dblite/preproc_xval', 'rb') as fp:\n",
    "        xval_preproc = pickle.load(fp)\n",
    "\n",
    "    with open ('E:/appliedaiacourse/assignments/dblite/ytrain', 'rb') as fp:\n",
    "        ytrain = pickle.load(fp)\n",
    "\n",
    "    with open ('E:/appliedaiacourse/assignments/dblite/ytest', 'rb') as fp:\n",
    "        ytest = pickle.load(fp)\n",
    "\n",
    "    with open ('E:/appliedaiacourse/assignments/dblite/yval', 'rb') as fp:\n",
    "        yval = pickle.load(fp)\n",
    "\n",
    "    return [xtrain_preproc,xtest_preproc,xval_preproc,ytrain,ytest,yval]\n",
    "\n"
   ]
  },
  {
   "cell_type": "code",
   "execution_count": 4,
   "metadata": {},
   "outputs": [],
   "source": [
    "#instantiate the NaiveBayes object and Multinomial Naive Bayes classifier\n",
    "mnbayes = multiNaiveBayes()\n",
    "mnbayes_clf = mnbayes.multNBClasify()"
   ]
  },
  {
   "cell_type": "code",
   "execution_count": 7,
   "metadata": {},
   "outputs": [],
   "source": [
    "#load data\n",
    "mnbayes.xtrain,mnbayes.xtest,mnbayes.xval, mnbayes.ytrain,mnbayes.ytest,mnbayes.yval = load_data()"
   ]
  },
  {
   "cell_type": "code",
   "execution_count": 8,
   "metadata": {},
   "outputs": [
    {
     "name": "stdout",
     "output_type": "stream",
     "text": [
      "some feature names  ['abl', 'absolut', 'acid', 'across', 'actual', 'ad', 'add', 'addict', 'addit', 'advertis']\n",
      "==================================================\n",
      "the type of count vectorizer  <class 'scipy.sparse.csr.csr_matrix'>\n",
      "the shape of out text BOW vectorizer  (64000, 1000)\n",
      "the number of unique words  1000\n"
     ]
    }
   ],
   "source": [
    "#Bag of words vectorizer with max featues 1000\n",
    "mnbayes.BOWVectorizer()"
   ]
  },
  {
   "cell_type": "code",
   "execution_count": 9,
   "metadata": {},
   "outputs": [],
   "source": [
    "#the calssifier uses distance measure hence data has to be scaled\n",
    "scaler = StandardScaler(with_mean=False)              \n",
    "bowtrain_scaled = scaler.fit_transform(mnbayes.xtrain.toarray())\n",
    "bowtest_scaled = scaler.transform(mnbayes.xtest)     \n",
    "bowv_scaled = scaler.transform(mnbayes.xval)"
   ]
  },
  {
   "cell_type": "code",
   "execution_count": 10,
   "metadata": {},
   "outputs": [
    {
     "name": "stdout",
     "output_type": "stream",
     "text": [
      "(64000, 1000)\n",
      "(20000, 1000)\n",
      "(16000, 1000)\n",
      "(64000,)\n",
      "(20000,)\n",
      "(16000,)\n"
     ]
    }
   ],
   "source": [
    "# cross check data shapes\n",
    "print(bowtrain_scaled.shape)\n",
    "print(bowtest_scaled.shape)\n",
    "print(bowv_scaled.shape)\n",
    "print((mnbayes.ytrain).shape)\n",
    "print((mnbayes.ytest).shape)\n",
    "print((mnbayes.yval).shape)"
   ]
  },
  {
   "cell_type": "code",
   "execution_count": 11,
   "metadata": {},
   "outputs": [
    {
     "name": "stdout",
     "output_type": "stream",
     "text": [
      "MultinomialNB(alpha=1.0, class_prior=None, fit_prior=True)\n",
      "Fitting 5 folds for each of 22 candidates, totalling 110 fits\n",
      "[Parallel(n_jobs=1)]: Using backend SequentialBackend with 1 concurrent workers.\n",
      "[CV] alpha=1e-11 .....................................................\n",
      "[CV] ............. alpha=1e-11, score=0.895692105573748, total=   0.0s\n",
      "[Parallel(n_jobs=1)]: Done   1 out of   1 | elapsed:    0.0s remaining:    0.0s\n",
      "[CV] alpha=1e-11 .....................................................\n",
      "[CV] ............. alpha=1e-11, score=0.895559643229585, total=   0.0s\n",
      "[Parallel(n_jobs=1)]: Done   2 out of   2 | elapsed:    0.1s remaining:    0.0s\n",
      "[CV] alpha=1e-11 .....................................................\n",
      "[CV] ............ alpha=1e-11, score=0.9094128647360861, total=   0.0s\n",
      "[Parallel(n_jobs=1)]: Done   3 out of   3 | elapsed:    0.3s remaining:    0.0s\n",
      "[CV] alpha=1e-11 .....................................................\n",
      "[CV] ............ alpha=1e-11, score=0.9029790428364183, total=   0.0s\n",
      "[Parallel(n_jobs=1)]: Done   4 out of   4 | elapsed:    0.4s remaining:    0.0s\n",
      "[CV] alpha=1e-11 .....................................................\n",
      "[CV] ............ alpha=1e-11, score=0.8963891938286019, total=   0.0s\n",
      "[Parallel(n_jobs=1)]: Done   5 out of   5 | elapsed:    0.5s remaining:    0.0s\n",
      "[CV] alpha=1e-10 .....................................................\n",
      "[CV] ............. alpha=1e-10, score=0.895692105573748, total=   0.0s\n",
      "[Parallel(n_jobs=1)]: Done   6 out of   6 | elapsed:    0.6s remaining:    0.0s\n",
      "[CV] alpha=1e-10 .....................................................\n",
      "[CV] ............. alpha=1e-10, score=0.895559643229585, total=   0.0s\n",
      "[Parallel(n_jobs=1)]: Done   7 out of   7 | elapsed:    0.7s remaining:    0.0s\n",
      "[CV] alpha=1e-10 .....................................................\n",
      "[CV] ............ alpha=1e-10, score=0.9094128647360861, total=   0.0s\n",
      "[Parallel(n_jobs=1)]: Done   8 out of   8 | elapsed:    0.8s remaining:    0.0s\n",
      "[CV] alpha=1e-10 .....................................................\n",
      "[CV] ............ alpha=1e-10, score=0.9029790428364183, total=   0.0s\n",
      "[Parallel(n_jobs=1)]: Done   9 out of   9 | elapsed:    0.9s remaining:    0.0s\n",
      "[CV] alpha=1e-10 .....................................................\n",
      "[CV] ............ alpha=1e-10, score=0.8963891938286019, total=   0.0s\n",
      "[Parallel(n_jobs=1)]: Done  10 out of  10 | elapsed:    1.0s remaining:    0.0s\n",
      "[CV] alpha=1e-10 .....................................................\n",
      "[CV] ............. alpha=1e-10, score=0.895692105573748, total=   0.0s\n",
      "[Parallel(n_jobs=1)]: Done  11 out of  11 | elapsed:    1.1s remaining:    0.0s\n",
      "[CV] alpha=1e-10 .....................................................\n",
      "[CV] ............. alpha=1e-10, score=0.895559643229585, total=   0.0s\n",
      "[Parallel(n_jobs=1)]: Done  12 out of  12 | elapsed:    1.2s remaining:    0.0s\n",
      "[CV] alpha=1e-10 .....................................................\n",
      "[CV] ............ alpha=1e-10, score=0.9094128647360861, total=   0.0s\n",
      "[Parallel(n_jobs=1)]: Done  13 out of  13 | elapsed:    1.3s remaining:    0.0s\n",
      "[CV] alpha=1e-10 .....................................................\n",
      "[CV] ............ alpha=1e-10, score=0.9029790428364183, total=   0.0s\n",
      "[Parallel(n_jobs=1)]: Done  14 out of  14 | elapsed:    1.4s remaining:    0.0s\n",
      "[CV] alpha=1e-10 .....................................................\n",
      "[CV] ............ alpha=1e-10, score=0.8963891938286019, total=   0.0s\n",
      "[Parallel(n_jobs=1)]: Done  15 out of  15 | elapsed:    1.5s remaining:    0.0s\n",
      "[CV] alpha=1e-09 .....................................................\n",
      "[CV] ............. alpha=1e-09, score=0.895692105573748, total=   0.0s\n",
      "[Parallel(n_jobs=1)]: Done  16 out of  16 | elapsed:    1.6s remaining:    0.0s\n",
      "[CV] alpha=1e-09 .....................................................\n",
      "[CV] ............. alpha=1e-09, score=0.895559643229585, total=   0.0s\n",
      "[Parallel(n_jobs=1)]: Done  17 out of  17 | elapsed:    1.7s remaining:    0.0s\n",
      "[CV] alpha=1e-09 .....................................................\n",
      "[CV] ............ alpha=1e-09, score=0.9094128647360861, total=   0.0s\n",
      "[Parallel(n_jobs=1)]: Done  18 out of  18 | elapsed:    1.8s remaining:    0.0s\n",
      "[CV] alpha=1e-09 .....................................................\n",
      "[CV] ............ alpha=1e-09, score=0.9029790428364183, total=   0.0s\n",
      "[Parallel(n_jobs=1)]: Done  19 out of  19 | elapsed:    1.9s remaining:    0.0s\n",
      "[CV] alpha=1e-09 .....................................................\n",
      "[CV] ............ alpha=1e-09, score=0.8963891938286019, total=   0.0s\n",
      "[Parallel(n_jobs=1)]: Done  20 out of  20 | elapsed:    2.0s remaining:    0.0s\n",
      "[CV] alpha=1e-08 .....................................................\n",
      "[CV] ............. alpha=1e-08, score=0.895692105573748, total=   0.0s\n",
      "[Parallel(n_jobs=1)]: Done  21 out of  21 | elapsed:    2.2s remaining:    0.0s\n",
      "[CV] alpha=1e-08 .....................................................\n",
      "[CV] ............. alpha=1e-08, score=0.895559643229585, total=   0.0s\n",
      "[Parallel(n_jobs=1)]: Done  22 out of  22 | elapsed:    2.3s remaining:    0.0s\n",
      "[CV] alpha=1e-08 .....................................................\n",
      "[CV] ............ alpha=1e-08, score=0.9094128647360861, total=   0.0s\n",
      "[Parallel(n_jobs=1)]: Done  23 out of  23 | elapsed:    2.4s remaining:    0.0s\n",
      "[CV] alpha=1e-08 .....................................................\n",
      "[CV] ............ alpha=1e-08, score=0.9029790428364183, total=   0.0s\n",
      "[Parallel(n_jobs=1)]: Done  24 out of  24 | elapsed:    2.5s remaining:    0.0s\n",
      "[CV] alpha=1e-08 .....................................................\n",
      "[CV] ............ alpha=1e-08, score=0.8963891938286019, total=   0.0s\n",
      "[Parallel(n_jobs=1)]: Done  25 out of  25 | elapsed:    2.7s remaining:    0.0s\n",
      "[CV] alpha=1e-07 .....................................................\n",
      "[CV] ............. alpha=1e-07, score=0.895692105573748, total=   0.0s\n",
      "[Parallel(n_jobs=1)]: Done  26 out of  26 | elapsed:    2.8s remaining:    0.0s\n",
      "[CV] alpha=1e-07 .....................................................\n",
      "[CV] ............. alpha=1e-07, score=0.895559643229585, total=   0.0s\n",
      "[Parallel(n_jobs=1)]: Done  27 out of  27 | elapsed:    2.9s remaining:    0.0s\n",
      "[CV] alpha=1e-07 .....................................................\n",
      "[CV] ............ alpha=1e-07, score=0.9094128647360861, total=   0.0s\n",
      "[Parallel(n_jobs=1)]: Done  28 out of  28 | elapsed:    3.0s remaining:    0.0s\n",
      "[CV] alpha=1e-07 .....................................................\n",
      "[CV] ............ alpha=1e-07, score=0.9029790428364183, total=   0.0s\n",
      "[Parallel(n_jobs=1)]: Done  29 out of  29 | elapsed:    3.1s remaining:    0.0s\n",
      "[CV] alpha=1e-07 .....................................................\n",
      "[CV] ............ alpha=1e-07, score=0.8963891938286019, total=   0.0s\n",
      "[Parallel(n_jobs=1)]: Done  30 out of  30 | elapsed:    3.2s remaining:    0.0s\n",
      "[CV] alpha=1e-06 .....................................................\n",
      "[CV] ............. alpha=1e-06, score=0.895692105573748, total=   0.0s\n",
      "[Parallel(n_jobs=1)]: Done  31 out of  31 | elapsed:    3.3s remaining:    0.0s\n",
      "[CV] alpha=1e-06 .....................................................\n",
      "[CV] ............. alpha=1e-06, score=0.895559643229585, total=   0.0s\n",
      "[Parallel(n_jobs=1)]: Done  32 out of  32 | elapsed:    3.4s remaining:    0.0s\n",
      "[CV] alpha=1e-06 .....................................................\n",
      "[CV] ............ alpha=1e-06, score=0.9094128647360861, total=   0.0s\n",
      "[Parallel(n_jobs=1)]: Done  33 out of  33 | elapsed:    3.5s remaining:    0.0s\n",
      "[CV] alpha=1e-06 .....................................................\n",
      "[CV] ............ alpha=1e-06, score=0.9029790428364183, total=   0.0s\n",
      "[Parallel(n_jobs=1)]: Done  34 out of  34 | elapsed:    3.6s remaining:    0.0s\n",
      "[CV] alpha=1e-06 .....................................................\n",
      "[CV] ............ alpha=1e-06, score=0.8963891938286019, total=   0.0s\n",
      "[Parallel(n_jobs=1)]: Done  35 out of  35 | elapsed:    3.7s remaining:    0.0s\n",
      "[CV] alpha=1e-05 .....................................................\n",
      "[CV] ............. alpha=1e-05, score=0.895692105573748, total=   0.0s\n",
      "[Parallel(n_jobs=1)]: Done  36 out of  36 | elapsed:    3.8s remaining:    0.0s\n"
     ]
    },
    {
     "name": "stdout",
     "output_type": "stream",
     "text": [
      "[CV] alpha=1e-05 .....................................................\n",
      "[CV] ............. alpha=1e-05, score=0.895559643229585, total=   0.0s\n",
      "[Parallel(n_jobs=1)]: Done  37 out of  37 | elapsed:    3.9s remaining:    0.0s\n",
      "[CV] alpha=1e-05 .....................................................\n",
      "[CV] ............ alpha=1e-05, score=0.9094128647360861, total=   0.0s\n",
      "[Parallel(n_jobs=1)]: Done  38 out of  38 | elapsed:    4.0s remaining:    0.0s\n",
      "[CV] alpha=1e-05 .....................................................\n",
      "[CV] ............ alpha=1e-05, score=0.9029790428364183, total=   0.0s\n",
      "[Parallel(n_jobs=1)]: Done  39 out of  39 | elapsed:    4.1s remaining:    0.0s\n",
      "[CV] alpha=1e-05 .....................................................\n",
      "[CV] ............ alpha=1e-05, score=0.8963891938286019, total=   0.0s\n",
      "[Parallel(n_jobs=1)]: Done  40 out of  40 | elapsed:    4.2s remaining:    0.0s\n",
      "[CV] alpha=0.0001 ....................................................\n",
      "[CV] ............ alpha=0.0001, score=0.895692105573748, total=   0.0s\n",
      "[Parallel(n_jobs=1)]: Done  41 out of  41 | elapsed:    4.3s remaining:    0.0s\n",
      "[CV] alpha=0.0001 ....................................................\n",
      "[CV] ........... alpha=0.0001, score=0.8955597401296174, total=   0.0s\n",
      "[Parallel(n_jobs=1)]: Done  42 out of  42 | elapsed:    4.4s remaining:    0.0s\n",
      "[CV] alpha=0.0001 ....................................................\n",
      "[CV] ........... alpha=0.0001, score=0.9094127678271703, total=   0.0s\n",
      "[Parallel(n_jobs=1)]: Done  43 out of  43 | elapsed:    4.5s remaining:    0.0s\n",
      "[CV] alpha=0.0001 ....................................................\n",
      "[CV] ........... alpha=0.0001, score=0.9029790913164999, total=   0.0s\n",
      "[Parallel(n_jobs=1)]: Done  44 out of  44 | elapsed:    4.7s remaining:    0.0s\n",
      "[CV] alpha=0.0001 ....................................................\n",
      "[CV] ........... alpha=0.0001, score=0.8963891938286019, total=   0.0s\n",
      "[Parallel(n_jobs=1)]: Done  45 out of  45 | elapsed:    4.8s remaining:    0.0s\n",
      "[CV] alpha=0.001 .....................................................\n",
      "[CV] ............ alpha=0.001, score=0.8956922993738126, total=   0.0s\n",
      "[Parallel(n_jobs=1)]: Done  46 out of  46 | elapsed:    4.9s remaining:    0.0s\n",
      "[CV] alpha=0.001 .....................................................\n",
      "[CV] ............ alpha=0.001, score=0.8955594009795043, total=   0.0s\n",
      "[Parallel(n_jobs=1)]: Done  47 out of  47 | elapsed:    5.0s remaining:    0.0s\n",
      "[CV] alpha=0.001 .....................................................\n",
      "[CV] ............ alpha=0.001, score=0.9094126224637968, total=   0.0s\n",
      "[Parallel(n_jobs=1)]: Done  48 out of  48 | elapsed:    5.1s remaining:    0.0s\n",
      "[CV] alpha=0.001 .....................................................\n",
      "[CV] ............ alpha=0.001, score=0.9029789943563369, total=   0.0s\n",
      "[Parallel(n_jobs=1)]: Done  49 out of  49 | elapsed:    5.3s remaining:    0.0s\n",
      "[CV] alpha=0.001 .....................................................\n",
      "[CV] ............ alpha=0.001, score=0.8963894362290099, total=   0.0s\n",
      "[Parallel(n_jobs=1)]: Done  50 out of  50 | elapsed:    5.4s remaining:    0.0s\n",
      "[CV] alpha=0.01 ......................................................\n",
      "[CV] .............. alpha=0.01, score=0.895693655974265, total=   0.0s\n",
      "[Parallel(n_jobs=1)]: Done  51 out of  51 | elapsed:    5.5s remaining:    0.0s\n",
      "[CV] alpha=0.01 ......................................................\n",
      "[CV] ............. alpha=0.01, score=0.8955608060299727, total=   0.0s\n",
      "[Parallel(n_jobs=1)]: Done  52 out of  52 | elapsed:    5.6s remaining:    0.0s\n",
      "[CV] alpha=0.01 ......................................................\n",
      "[CV] ............. alpha=0.01, score=0.9094131070083752, total=   0.0s\n",
      "[Parallel(n_jobs=1)]: Done  53 out of  53 | elapsed:    5.7s remaining:    0.0s\n",
      "[CV] alpha=0.01 ......................................................\n",
      "[CV] ............. alpha=0.01, score=0.9029804487587838, total=   0.0s\n",
      "[Parallel(n_jobs=1)]: Done  54 out of  54 | elapsed:    5.8s remaining:    0.0s\n",
      "[CV] alpha=0.01 ......................................................\n",
      "[CV] ............. alpha=0.01, score=0.8963907451912121, total=   0.0s\n",
      "[Parallel(n_jobs=1)]: Done  55 out of  55 | elapsed:    5.9s remaining:    0.0s\n",
      "[CV] alpha=1 .........................................................\n",
      "[CV] ................ alpha=1, score=0.8958758764850172, total=   0.0s\n",
      "[Parallel(n_jobs=1)]: Done  56 out of  56 | elapsed:    6.0s remaining:    0.0s\n",
      "[CV] alpha=1 .........................................................\n",
      "[CV] ................ alpha=1, score=0.8956148277979836, total=   0.0s\n",
      "[Parallel(n_jobs=1)]: Done  57 out of  57 | elapsed:    6.1s remaining:    0.0s\n",
      "[CV] alpha=1 .........................................................\n",
      "[CV] ................ alpha=1, score=0.9093528538900402, total=   0.0s\n",
      "[Parallel(n_jobs=1)]: Done  58 out of  58 | elapsed:    6.2s remaining:    0.0s\n",
      "[CV] alpha=1 .........................................................\n",
      "[CV] ................ alpha=1, score=0.9029917446177899, total=   0.0s\n",
      "[Parallel(n_jobs=1)]: Done  59 out of  59 | elapsed:    6.3s remaining:    0.0s\n",
      "[CV] alpha=1 .........................................................\n",
      "[CV] ................ alpha=1, score=0.8965198961285165, total=   0.0s\n",
      "[Parallel(n_jobs=1)]: Done  60 out of  60 | elapsed:    6.4s remaining:    0.0s\n",
      "[CV] alpha=10 ........................................................\n",
      "[CV] ................ alpha=10, score=0.896906262978548, total=   0.2s\n",
      "[Parallel(n_jobs=1)]: Done  61 out of  61 | elapsed:    6.8s remaining:    0.0s\n",
      "[CV] alpha=10 ........................................................\n",
      "[CV] ............... alpha=10, score=0.8957779105523553, total=   0.0s\n",
      "[Parallel(n_jobs=1)]: Done  62 out of  62 | elapsed:    6.9s remaining:    0.0s\n",
      "[CV] alpha=10 ........................................................\n",
      "[CV] ............... alpha=10, score=0.9084498081591105, total=   0.0s\n",
      "[Parallel(n_jobs=1)]: Done  63 out of  63 | elapsed:    7.1s remaining:    0.0s\n",
      "[CV] alpha=10 ........................................................\n",
      "[CV] ................ alpha=10, score=0.902590765863119, total=   0.0s\n",
      "[Parallel(n_jobs=1)]: Done  64 out of  64 | elapsed:    7.2s remaining:    0.0s\n",
      "[CV] alpha=10 ........................................................\n",
      "[CV] ............... alpha=10, score=0.8969353704275769, total=   0.0s\n",
      "[Parallel(n_jobs=1)]: Done  65 out of  65 | elapsed:    7.3s remaining:    0.0s\n",
      "[CV] alpha=100 .......................................................\n",
      "[CV] .............. alpha=100, score=0.8834726238997728, total=   0.0s\n",
      "[Parallel(n_jobs=1)]: Done  66 out of  66 | elapsed:    7.4s remaining:    0.0s\n",
      "[CV] alpha=100 .......................................................\n",
      "[CV] ............... alpha=100, score=0.878786296087351, total=   0.0s\n",
      "[Parallel(n_jobs=1)]: Done  67 out of  67 | elapsed:    7.5s remaining:    0.0s\n",
      "[CV] alpha=100 .......................................................\n",
      "[CV] .............. alpha=100, score=0.8869992134872402, total=   0.0s\n",
      "[Parallel(n_jobs=1)]: Done  68 out of  68 | elapsed:    7.6s remaining:    0.0s\n",
      "[CV] alpha=100 .......................................................\n",
      "[CV] ............... alpha=100, score=0.883762459623364, total=   0.0s\n",
      "[Parallel(n_jobs=1)]: Done  69 out of  69 | elapsed:    7.7s remaining:    0.0s\n",
      "[CV] alpha=100 .......................................................\n",
      "[CV] .............. alpha=100, score=0.8798669153888772, total=   0.0s\n",
      "[Parallel(n_jobs=1)]: Done  70 out of  70 | elapsed:    7.8s remaining:    0.0s\n",
      "[CV] alpha=1000 ......................................................\n",
      "[CV] ............. alpha=1000, score=0.6619423621165834, total=   0.0s\n",
      "[Parallel(n_jobs=1)]: Done  71 out of  71 | elapsed:    7.9s remaining:    0.0s\n",
      "[CV] alpha=1000 ......................................................\n",
      "[CV] ............. alpha=1000, score=0.6722991586945395, total=   0.0s\n",
      "[Parallel(n_jobs=1)]: Done  72 out of  72 | elapsed:    8.0s remaining:    0.0s\n",
      "[CV] alpha=1000 ......................................................\n",
      "[CV] ............. alpha=1000, score=0.6660588054929525, total=   0.0s\n",
      "[Parallel(n_jobs=1)]: Done  73 out of  73 | elapsed:    8.1s remaining:    0.0s\n"
     ]
    },
    {
     "name": "stdout",
     "output_type": "stream",
     "text": [
      "[CV] alpha=1000 ......................................................\n",
      "[CV] .............. alpha=1000, score=0.669610062099106, total=   0.0s\n",
      "[Parallel(n_jobs=1)]: Done  74 out of  74 | elapsed:    8.2s remaining:    0.0s\n",
      "[CV] alpha=1000 ......................................................\n",
      "[CV] ............. alpha=1000, score=0.6578182033785962, total=   0.0s\n",
      "[Parallel(n_jobs=1)]: Done  75 out of  75 | elapsed:    8.3s remaining:    0.0s\n",
      "[CV] alpha=10000 .....................................................\n",
      "[CV] ............ alpha=10000, score=0.5371599026891116, total=   0.0s\n",
      "[Parallel(n_jobs=1)]: Done  76 out of  76 | elapsed:    8.4s remaining:    0.0s\n",
      "[CV] alpha=10000 .....................................................\n",
      "[CV] ............ alpha=10000, score=0.5474771640538865, total=   0.0s\n",
      "[Parallel(n_jobs=1)]: Done  77 out of  77 | elapsed:    8.5s remaining:    0.0s\n",
      "[CV] alpha=10000 .....................................................\n",
      "[CV] ............ alpha=10000, score=0.5467382736335649, total=   0.0s\n",
      "[Parallel(n_jobs=1)]: Done  78 out of  78 | elapsed:    8.6s remaining:    0.0s\n",
      "[CV] alpha=10000 .....................................................\n",
      "[CV] ............ alpha=10000, score=0.5362745180740531, total=   0.0s\n",
      "[Parallel(n_jobs=1)]: Done  79 out of  79 | elapsed:    8.7s remaining:    0.0s\n",
      "[CV] alpha=10000 .....................................................\n",
      "[CV] ............ alpha=10000, score=0.5348505368781193, total=   0.0s\n",
      "[Parallel(n_jobs=1)]: Done  80 out of  80 | elapsed:    8.9s remaining:    0.0s\n",
      "[CV] alpha=100000 ....................................................\n",
      "[CV] ........... alpha=100000, score=0.5103421888980858, total=   0.0s\n",
      "[Parallel(n_jobs=1)]: Done  81 out of  81 | elapsed:    9.0s remaining:    0.0s\n",
      "[CV] alpha=100000 ....................................................\n",
      "[CV] ........... alpha=100000, score=0.5201479876673392, total=   0.0s\n",
      "[Parallel(n_jobs=1)]: Done  82 out of  82 | elapsed:    9.1s remaining:    0.0s\n",
      "[CV] alpha=100000 ....................................................\n",
      "[CV] ........... alpha=100000, score=0.5204558246522326, total=   0.0s\n",
      "[Parallel(n_jobs=1)]: Done  83 out of  83 | elapsed:    9.3s remaining:    0.0s\n",
      "[CV] alpha=100000 ....................................................\n",
      "[CV] ........... alpha=100000, score=0.5081355394485332, total=   0.0s\n",
      "[Parallel(n_jobs=1)]: Done  84 out of  84 | elapsed:    9.4s remaining:    0.0s\n",
      "[CV] alpha=100000 ....................................................\n",
      "[CV] ........... alpha=100000, score=0.5088674432400053, total=   0.0s\n",
      "[Parallel(n_jobs=1)]: Done  85 out of  85 | elapsed:    9.6s remaining:    0.0s\n",
      "[CV] alpha=1000000 ...................................................\n",
      "[CV] .......... alpha=1000000, score=0.5060547500686537, total=   0.0s\n",
      "[Parallel(n_jobs=1)]: Done  86 out of  86 | elapsed:    9.7s remaining:    0.0s\n",
      "[CV] alpha=1000000 ...................................................\n",
      "[CV] .......... alpha=1000000, score=0.5157379702970393, total=   0.0s\n",
      "[Parallel(n_jobs=1)]: Done  87 out of  87 | elapsed:    9.8s remaining:    0.0s\n",
      "[CV] alpha=1000000 ...................................................\n",
      "[CV] .......... alpha=1000000, score=0.5162362650993781, total=   0.0s\n",
      "[Parallel(n_jobs=1)]: Done  88 out of  88 | elapsed:    9.9s remaining:    0.0s\n",
      "[CV] alpha=1000000 ...................................................\n",
      "[CV] ........... alpha=1000000, score=0.503689915968505, total=   0.0s\n",
      "[Parallel(n_jobs=1)]: Done  89 out of  89 | elapsed:   10.0s remaining:    0.0s\n",
      "[CV] alpha=1000000 ...................................................\n",
      "[CV] .......... alpha=1000000, score=0.5046957807009328, total=   0.0s\n",
      "[Parallel(n_jobs=1)]: Done  90 out of  90 | elapsed:   10.1s remaining:    0.0s\n",
      "[CV] alpha=10000000 ..................................................\n",
      "[CV] ......... alpha=10000000, score=0.5055912287641157, total=   0.0s\n",
      "[Parallel(n_jobs=1)]: Done  91 out of  91 | elapsed:   10.2s remaining:    0.0s\n",
      "[CV] alpha=10000000 ..................................................\n",
      "[CV] .......... alpha=10000000, score=0.515254778285943, total=   0.0s\n",
      "[Parallel(n_jobs=1)]: Done  92 out of  92 | elapsed:   10.3s remaining:    0.0s\n",
      "[CV] alpha=10000000 ..................................................\n",
      "[CV] ......... alpha=10000000, score=0.5157701816693296, total=   0.0s\n",
      "[Parallel(n_jobs=1)]: Done  93 out of  93 | elapsed:   10.4s remaining:    0.0s\n",
      "[CV] alpha=10000000 ..................................................\n",
      "[CV] ......... alpha=10000000, score=0.5032051636328801, total=   0.0s\n",
      "[Parallel(n_jobs=1)]: Done  94 out of  94 | elapsed:   10.5s remaining:    0.0s\n",
      "[CV] alpha=10000000 ..................................................\n",
      "[CV] ......... alpha=10000000, score=0.5042417647370236, total=   0.0s\n",
      "[Parallel(n_jobs=1)]: Done  95 out of  95 | elapsed:   10.6s remaining:    0.0s\n",
      "[CV] alpha=100000000 .................................................\n",
      "[CV] ........ alpha=100000000, score=0.5055416159475747, total=   0.0s\n",
      "[Parallel(n_jobs=1)]: Done  96 out of  96 | elapsed:   10.7s remaining:    0.0s\n",
      "[CV] alpha=100000000 .................................................\n",
      "[CV] ........ alpha=100000000, score=0.5152058922196445, total=   0.0s\n",
      "[Parallel(n_jobs=1)]: Done  97 out of  97 | elapsed:   10.8s remaining:    0.0s\n",
      "[CV] alpha=100000000 .................................................\n",
      "[CV] ........ alpha=100000000, score=0.5157247798423253, total=   0.0s\n",
      "[Parallel(n_jobs=1)]: Done  98 out of  98 | elapsed:   10.9s remaining:    0.0s\n",
      "[CV] alpha=100000000 .................................................\n",
      "[CV] ........ alpha=100000000, score=0.5031557139496781, total=   0.0s\n",
      "[Parallel(n_jobs=1)]: Done  99 out of  99 | elapsed:   11.1s remaining:    0.0s\n",
      "[CV] alpha=100000000 .................................................\n",
      "[CV] ........ alpha=100000000, score=0.5041961449802657, total=   0.0s\n",
      "[CV] alpha=1000000000 ................................................\n",
      "[CV] ....... alpha=1000000000, score=0.5055360441957171, total=   0.0s\n",
      "[CV] alpha=1000000000 ................................................\n",
      "[CV] ....... alpha=1000000000, score=0.5152011441180615, total=   0.0s\n",
      "[CV] alpha=1000000000 ................................................\n",
      "[CV] ....... alpha=1000000000, score=0.5157212426669023, total=   0.0s\n",
      "[CV] alpha=1000000000 ................................................\n",
      "[CV] ....... alpha=1000000000, score=0.5031513022622551, total=   0.0s\n",
      "[CV] alpha=1000000000 ................................................\n",
      "[CV] ....... alpha=1000000000, score=0.5041917332928427, total=   0.0s\n",
      "[CV] alpha=10000000000 ...............................................\n",
      "[CV] ...... alpha=10000000000, score=0.5055355596955556, total=   0.0s\n",
      "[CV] alpha=10000000000 ...............................................\n",
      "[CV] ...... alpha=10000000000, score=0.5152008291929564, total=   0.0s\n",
      "[CV] alpha=10000000000 ...............................................\n",
      "[CV] ...... alpha=10000000000, score=0.5157207338950949, total=   0.2s\n",
      "[CV] alpha=10000000000 ...............................................\n",
      "[CV] ........ alpha=10000000000, score=0.50315052658095, total=   0.1s\n",
      "[CV] alpha=10000000000 ...............................................\n",
      "[CV] ...... alpha=10000000000, score=0.5041909576115376, total=   0.0s\n",
      "[Parallel(n_jobs=1)]: Done 110 out of 110 | elapsed:   12.8s finished\n"
     ]
    }
   ],
   "source": [
    "print(mnbayes.getNBClassifier())\n",
    "#hyper parameter tuning to find  alpha \n",
    "return_63 = mnbayes.hyperparamtuning([0.00000000001,0.0000000001,0.0000000001,0.000000001,0.00000001,0.0000001,0.000001,0.00001,0.0001,0.001,0.01,1,10,100,1000,10000,100000,1000000,10000000,100000000,1000000000,10000000000],'roc_auc')"
   ]
  },
  {
   "cell_type": "code",
   "execution_count": 13,
   "metadata": {},
   "outputs": [
    {
     "name": "stdout",
     "output_type": "stream",
     "text": [
      "0.9001319166904739\n",
      "{'alpha': 10}\n",
      "GridSearchCV(cv=5, error_score='raise-deprecating',\n",
      "       estimator=MultinomialNB(alpha=1.0, class_prior=None, fit_prior=True),\n",
      "       fit_params=None, iid='warn', n_jobs=1,\n",
      "       param_grid={'alpha': [1e-11, 1e-10, 1e-10, 1e-09, 1e-08, 1e-07, 1e-06, 1e-05, 0.0001, 0.001, 0.01, 1, 10, 100, 1000, 10000, 100000, 1000000, 10000000, 100000000, 1000000000, 10000000000]},\n",
      "       pre_dispatch='2*n_jobs', refit=True, return_train_score='warn',\n",
      "       scoring='roc_auc', verbose=100)\n"
     ]
    }
   ],
   "source": [
    "#print the results of the gridsearchCV\n",
    "print(return_63[0])  # best score\n",
    "print(return_63[1])  # best alpha = 10\n",
    "print(return_63[2])"
   ]
  },
  {
   "cell_type": "code",
   "execution_count": 14,
   "metadata": {},
   "outputs": [
    {
     "name": "stdout",
     "output_type": "stream",
     "text": [
      "Fitting probability generation and roc auc score generation for training data complete...\n",
      "Fitting probability generation and roc auc score generation for validation data complete...\n",
      "Predicting labels for training data complete...\n",
      "Fitting probability generation and roc auc score generation for training data complete...\n",
      "Fitting probability generation and roc auc score generation for validation data complete...\n",
      "Predicting labels for training data complete...\n",
      "Fitting probability generation and roc auc score generation for training data complete...\n",
      "Fitting probability generation and roc auc score generation for validation data complete...\n",
      "Predicting labels for training data complete...\n",
      "Fitting probability generation and roc auc score generation for training data complete...\n",
      "Fitting probability generation and roc auc score generation for validation data complete...\n",
      "Predicting labels for training data complete...\n",
      "Fitting probability generation and roc auc score generation for training data complete...\n",
      "Fitting probability generation and roc auc score generation for validation data complete...\n",
      "Predicting labels for training data complete...\n",
      "Fitting probability generation and roc auc score generation for training data complete...\n",
      "Fitting probability generation and roc auc score generation for validation data complete...\n",
      "Predicting labels for training data complete...\n",
      "Fitting probability generation and roc auc score generation for training data complete...\n",
      "Fitting probability generation and roc auc score generation for validation data complete...\n",
      "Predicting labels for training data complete...\n",
      "Fitting probability generation and roc auc score generation for training data complete...\n",
      "Fitting probability generation and roc auc score generation for validation data complete...\n",
      "Predicting labels for training data complete...\n",
      "Fitting probability generation and roc auc score generation for training data complete...\n",
      "Fitting probability generation and roc auc score generation for validation data complete...\n",
      "Predicting labels for training data complete...\n",
      "Fitting probability generation and roc auc score generation for training data complete...\n",
      "Fitting probability generation and roc auc score generation for validation data complete...\n",
      "Predicting labels for training data complete...\n",
      "Fitting probability generation and roc auc score generation for training data complete...\n",
      "Fitting probability generation and roc auc score generation for validation data complete...\n",
      "Predicting labels for training data complete...\n",
      "Fitting probability generation and roc auc score generation for training data complete...\n",
      "Fitting probability generation and roc auc score generation for validation data complete...\n",
      "Predicting labels for training data complete...\n",
      "Fitting probability generation and roc auc score generation for training data complete...\n",
      "Fitting probability generation and roc auc score generation for validation data complete...\n",
      "Predicting labels for training data complete...\n",
      "Fitting probability generation and roc auc score generation for training data complete...\n",
      "Fitting probability generation and roc auc score generation for validation data complete...\n",
      "Predicting labels for training data complete...\n",
      "Fitting probability generation and roc auc score generation for training data complete...\n",
      "Fitting probability generation and roc auc score generation for validation data complete...\n",
      "Predicting labels for training data complete...\n",
      "Fitting probability generation and roc auc score generation for training data complete...\n",
      "Fitting probability generation and roc auc score generation for validation data complete...\n",
      "Predicting labels for training data complete...\n",
      "Fitting probability generation and roc auc score generation for training data complete...\n",
      "Fitting probability generation and roc auc score generation for validation data complete...\n",
      "Predicting labels for training data complete...\n",
      "Fitting probability generation and roc auc score generation for training data complete...\n",
      "Fitting probability generation and roc auc score generation for validation data complete...\n",
      "Predicting labels for training data complete...\n",
      "Fitting probability generation and roc auc score generation for training data complete...\n",
      "Fitting probability generation and roc auc score generation for validation data complete...\n",
      "Predicting labels for training data complete...\n",
      "Fitting probability generation and roc auc score generation for training data complete...\n",
      "Fitting probability generation and roc auc score generation for validation data complete...\n",
      "Predicting labels for training data complete...\n",
      "Function exiting...\n"
     ]
    }
   ],
   "source": [
    "#calculate roauc score varying alpha\n",
    "mnbayes.calcrocaucscore_naivebayes(100000000)"
   ]
  },
  {
   "cell_type": "code",
   "execution_count": 15,
   "metadata": {},
   "outputs": [
    {
     "name": "stdout",
     "output_type": "stream",
     "text": [
      "[0.9053365680876713, 0.9053365680876713, 0.9053365680876713, 0.9053365680876713, 0.9053365680876713, 0.9053365700261883, 0.9053365758417397, 0.9053365797187738, 0.90533656227212, 0.9053368045867547, 0.9053378688326301, 0.9053488893022151, 0.9051831557846834, 0.8919818447950495, 0.693085396430503, 0.5464037119686502, 0.514971675280183, 0.5096905828988257, 0.5091040108934115, 0.5090437501515437]\n",
      "[0.9163071019388954, 0.9163071019388954, 0.9163071019388954, 0.9163071019388954, 0.9163071019388954, 0.9163071327455263, 0.9163071327455263, 0.9163071943587884, 0.9163067014526929, 0.916305715640502, 0.9163012948889582, 0.9161995867968202, 0.9123514072961931, 0.8161240150503948, 0.5781911418366863, 0.5203568985165499, 0.5087069705301304, 0.5072543146535068, 0.5071018218302195, 0.5070857407688547]\n",
      "[1e-11, 9.999999999999999e-11, 9.999999999999999e-10, 9.999999999999999e-09, 9.999999999999998e-08, 9.999999999999997e-07, 9.999999999999997e-06, 9.999999999999998e-05, 0.0009999999999999998, 0.009999999999999998, 0.09999999999999998, 0.9999999999999998, 9.999999999999998, 99.99999999999999, 999.9999999999999, 9999.999999999998, 99999.99999999999, 999999.9999999999, 9999999.999999998, 99999999.99999999]\n"
     ]
    }
   ],
   "source": [
    "print(mnbayes.rocaucscoretrn)\n",
    "print(mnbayes.rocaucscoreval)\n",
    "print( mnbayes.NBayes_alpha)"
   ]
  },
  {
   "cell_type": "code",
   "execution_count": 16,
   "metadata": {},
   "outputs": [
    {
     "data": {
      "image/png": "[encoded data removed]",
      "text/plain": [
       "<Figure size 1152x1152 with 1 Axes>"
      ]
     },
     "metadata": {
      "needs_background": "light"
     },
     "output_type": "display_data"
    }
   ],
   "source": [
    "# display rocauc graph\n",
    "displaygraph = drawgraphs()\n",
    "displaygraph.setdefaultparm()\n",
    "displaygraph.graph_title='Naive Bayes ROCAUCSCORE plot'\n",
    "displaygraph.legnd_1 = ' NaiveBayes-train'\n",
    "displaygraph.legnd_2 = 'NaiveBayes-val'\n",
    "displaygraph.graph_parameters['show_legnd']= True\n",
    "displaygraph.label_x='Alpha'\n",
    "displaygraph.label_y='ROC-AUC-SCORE'\n",
    "displaygraph.Xdata = mnbayes.NBayes_alpha\n",
    "displaygraph.ydatatrn = mnbayes.rocaucscoretrn\n",
    "displaygraph.ydataval = mnbayes.rocaucscoreval\n",
    "displaygraph.rocacuscoregraph()"
   ]
  },
  {
   "cell_type": "code",
   "execution_count": 21,
   "metadata": {},
   "outputs": [],
   "source": [
    "#process test data using the hyper parameter tuned alpha value of 10 \n",
    "mnbayes.actualClasifier_naivebayes(10)"
   ]
  },
  {
   "cell_type": "code",
   "execution_count": 22,
   "metadata": {},
   "outputs": [
    {
     "data": {
      "image/png": "[encoded data removed]",
      "text/plain": [
       "<Figure size 1152x1152 with 1 Axes>"
      ]
     },
     "metadata": {
      "needs_background": "light"
     },
     "output_type": "display_data"
    }
   ],
   "source": [
    "# display the roc auc cure\n",
    "displaygraph = drawgraphs()\n",
    "displaygraph.setdefaultparm()\n",
    "displaygraph.graph_title='Naive Bayes BOW ROC Curve'\n",
    "displaygraph.legnd_1 = ' NaiveBayes-train'\n",
    "displaygraph.legnd_2 = 'NaiveBayes-test'\n",
    "displaygraph.graph_parameters['show_legnd']= True\n",
    "displaygraph.label_x='False positive rate (1-Specificity)'\n",
    "displaygraph.label_y='True positive rate (Sensitivity)'\n",
    "displaygraph.constructgraph(mnbayes.roc_curve_test['fpr_trn'],mnbayes.roc_curve_test['tpr_trn'],\\\n",
    "                            mnbayes.roc_curve_test['fpr'],mnbayes.roc_curve_test['tpr'])\n"
   ]
  },
  {
   "cell_type": "code",
   "execution_count": 23,
   "metadata": {},
   "outputs": [
    {
     "data": {
      "image/png": "[encoded data removed]",
      "text/plain": [
       "<Figure size 432x288 with 1 Axes>"
      ]
     },
     "metadata": {
      "needs_background": "light"
     },
     "output_type": "display_data"
    }
   ],
   "source": [
    "#display the confusion matrix for test data\n",
    "data = [[mnbayes.confsnmtxytstpred['tn'] ,mnbayes.confsnmtxytstpred['fn']],[mnbayes.confsnmtxytstpred['fp'],mnbayes.confsnmtxytstpred['tp']]]\n",
    "displaygraph.draw_table(data)"
   ]
  },
  {
   "cell_type": "code",
   "execution_count": 24,
   "metadata": {},
   "outputs": [
    {
     "data": {
      "image/png": "[encoded data removed]",
      "text/plain": [
       "<Figure size 432x288 with 1 Axes>"
      ]
     },
     "metadata": {
      "needs_background": "light"
     },
     "output_type": "display_data"
    }
   ],
   "source": [
    "#displaying the accuracy score for validation and test data\n",
    "data1= [[mnbayes.accuracy_score_val,mnbayes.accuracy_score_test]]\n",
    "displaygraph.draw_accscore(data1)"
   ]
  },
  {
   "cell_type": "code",
   "execution_count": 63,
   "metadata": {},
   "outputs": [],
   "source": [
    "mnbayes.outputdir = 'E:/appliedaiacourse/assignments/assign4-MultinomialNBayes'\n",
    "mnbayes.exportopdatatocsv('NBayes_alpha',mnbayes.NBayes_alpha)\n",
    "mnbayes.exportopdatatocsv('yprdprobatrn',mnbayes.yprdprobatrn)\n",
    "mnbayes.exportopdatatocsv('yprdprobaval',mnbayes.yprdprobaval)\n",
    "mnbayes.exportopdatatocsv('ytrn_predprob_actclf',mnbayes.ytrn_predprob_actclf)\n",
    "mnbayes.exportopdatatocsv('ytst_predprob_actclf',mnbayes.ytst_predprob_actclf)\n",
    "mnbayes.exportopdatatocsv('rocaucscoretrn',mnbayes.rocaucscoretrn)\n",
    "mnbayes.exportopdatatocsv('rocaucscoreval',mnbayes.rocaucscoreval)\n",
    "mnbayes.exportopdatatocsv('predicted',mnbayes.predicted)\n",
    "mnbayes.exportopdatatocsv('test_predict',mnbayes.test_predict)\n"
   ]
  },
  {
   "cell_type": "markdown",
   "metadata": {
    "colab_type": "text",
    "id": "u-ZSD3tlJklg"
   },
   "source": [
    "### [5.1.1] Top 10 important features of positive class from<font color='red'> SET 1</font>"
   ]
  },
  {
   "cell_type": "code",
   "execution_count": 25,
   "metadata": {},
   "outputs": [
    {
     "data": {
      "image/png": "[encoded data removed]",
      "text/plain": [
       "<Figure size 432x288 with 1 Axes>"
      ]
     },
     "metadata": {
      "needs_background": "light"
     },
     "output_type": "display_data"
    }
   ],
   "source": [
    "class_labels = mnbayes_clf.classes_\n",
    "feature_names = mnbayes.count_vect.get_feature_names()\n",
    "top10_negve = sorted(zip(mnbayes_clf.coef_[0], feature_names))[-10:]\n",
    "top10_posve = sorted(zip(mnbayes_clf.coef_[0], feature_names))[-10:]\n",
    "feat_pos=[]\n",
    "feat_neg=[]\n",
    "features=[]\n",
    "for coef,feat in (top10_negve):    \n",
    "    feat_pos.append(feat)\n",
    "    \n",
    "for cef,feat in (top10_posve):   \n",
    "    feat_neg.append(feat)\n",
    "    \n",
    "i=0\n",
    "while i< int(len(feat_pos)):\n",
    "    feat_item=[]\n",
    "    feat_item.append(feat_pos[i])\n",
    "    feat_item.append(feat_neg[i])\n",
    "    features.append(feat_item)\n",
    "    i +=1\n",
    "    \n",
    "displaygraph = drawgraphs()\n",
    "displaygraph.setdefaultparm()\n",
    "displaygraph.draw_posnegwords(features)\n"
   ]
  },
  {
   "cell_type": "markdown",
   "metadata": {
    "colab_type": "text",
    "id": "mquFtwF5Jklj"
   },
   "source": [
    "### [5.1.2] Top 10 important features of negative class from<font color='red'> SET 1</font>"
   ]
  },
  {
   "cell_type": "code",
   "execution_count": 0,
   "metadata": {
    "colab": {},
    "colab_type": "code",
    "id": "_RacUnTrJklj"
   },
   "outputs": [],
   "source": [
    "# Please write all the code with proper documentation"
   ]
  },
  {
   "cell_type": "code",
   "execution_count": 27,
   "metadata": {},
   "outputs": [
    {
     "data": {
      "image/png": "[encoded data removed]",
      "text/plain": [
       "<Figure size 432x288 with 1 Axes>"
      ]
     },
     "metadata": {
      "needs_background": "light"
     },
     "output_type": "display_data"
    }
   ],
   "source": [
    "feat1_pos=[]\n",
    "feat0_neg=[]\n",
    "features1=[]\n",
    "\n",
    "class_labels = mnbayes_clf.classes_\n",
    "feature_names = mnbayes.count_vect.get_feature_names()\n",
    "top10n_neg = sorted(zip(mnbayes_clf.feature_count_[0], feature_names),reverse=True)[:10]\n",
    "top10n_pos = sorted(zip(mnbayes_clf.feature_count_[1], feature_names),reverse=True)[:10]\n",
    "\n",
    "for coef, feat in top10n_neg:\n",
    "    feat0_neg.append(feat)\n",
    "\n",
    "\n",
    "for coef, feat in top10n_pos:\n",
    "    feat1_pos.append(feat)\n",
    "    \n",
    "i=0\n",
    "while i< int(len(feat1_pos)):\n",
    "    feat_item=[]\n",
    "    feat_item.append(feat1_pos[i])\n",
    "    feat_item.append(feat0_neg[i])\n",
    "    features1.append(feat_item)\n",
    "    i +=1\n",
    "    \n",
    "displaygraph = drawgraphs()\n",
    "displaygraph.setdefaultparm()\n",
    "displaygraph.draw_posnegwords(features1)"
   ]
  },
  {
   "cell_type": "markdown",
   "metadata": {},
   "source": [
    "### [5.1.3] Feature Engineering<font color='red'> SET 1</font>"
   ]
  },
  {
   "cell_type": "markdown",
   "metadata": {},
   "source": [
    "VADER (Valence Aware Dictionary and sEntiment Reasoner) is a lexicon and rule-based sentiment analysis tool. If doesn’t require any training data but is constructed from a generalizable, valence-based, human-curated gold standard sentiment lexicon.The Compound score is a metric that calculates the sum of all the positive/negative/neutral ratings which have been normalized between -1(most extreme negative) and +1 (most extreme positive).I have used the compund score on the Summary text as a new feature .\n",
    "I have also added the len of summary text as the second new feature."
   ]
  },
  {
   "cell_type": "code",
   "execution_count": 33,
   "metadata": {},
   "outputs": [],
   "source": [
    "import re\n",
    "\n",
    "score_summ=[]\n",
    "len_summ=[]\n",
    "from vaderSentiment.vaderSentiment import SentimentIntensityAnalyzer\n",
    "analyser = SentimentIntensityAnalyzer()\n",
    "for count,summ in final['Summary'].iteritems():\n",
    "    #print(len(final['Summary'][count]),final['Summary'][count])\n",
    "    #len_summ = len(re.findall(r'\\w+', final['Summary'][count])),final['Summary'][count]\n",
    "    len_summ.append(len(re.findall(r'\\w+', final['Summary'][count])))\n",
    "    if (analyser.polarity_scores(final['Summary'][count]))['compound'] < 0:\n",
    "        score_summ.append(0.0)\n",
    "    else:\n",
    "        score_summ.append((analyser.polarity_scores(final['Summary'][count]))['compound'])\n"
   ]
  },
  {
   "cell_type": "code",
   "execution_count": 34,
   "metadata": {},
   "outputs": [
    {
     "name": "stdout",
     "output_type": "stream",
     "text": [
      "(364171, 10)\n",
      "364171\n",
      "364171\n"
     ]
    }
   ],
   "source": [
    "print(final.shape)\n",
    "print(len(score_summ))\n",
    "print(len(len_summ))"
   ]
  },
  {
   "cell_type": "markdown",
   "metadata": {},
   "source": [
    "#### Adding two new featues ####"
   ]
  },
  {
   "cell_type": "code",
   "execution_count": 35,
   "metadata": {},
   "outputs": [],
   "source": [
    "new_scoresumm = pd.DataFrame((np.asarray(score_summ)).reshape(-1,1))\n",
    "new_lensumm = pd.DataFrame((np.asarray(len_summ)).reshape(-1,1))\n",
    "final_fteng = final.append({'score_summ':new_scoresumm}, ignore_index=True)\n",
    "final_fteng= final_fteng.append({'len_summ':new_lensumm}, ignore_index=True)"
   ]
  },
  {
   "cell_type": "code",
   "execution_count": 38,
   "metadata": {},
   "outputs": [
    {
     "name": "stdout",
     "output_type": "stream",
     "text": [
      "Index(['Id', 'ProductId', 'UserId', 'ProfileName', 'HelpfulnessNumerator',\n",
      "       'HelpfulnessDenominator', 'Score', 'Time', 'Summary', 'Text',\n",
      "       'score_summ', 'len_summ'],\n",
      "      dtype='object')\n",
      "(364173, 12)\n"
     ]
    }
   ],
   "source": [
    "# cross checking the final dimensions\n",
    "print(final_fteng.columns)\n",
    "print(final_fteng.shape)"
   ]
  },
  {
   "cell_type": "code",
   "execution_count": 39,
   "metadata": {},
   "outputs": [],
   "source": [
    "# https://gist.github.com/sebleier/554280\n",
    "# we are removing the words from the stop words list: 'no', 'nor', 'not'\n",
    "# <br /><br /> ==> after the above steps, we are getting \"br br\"\n",
    "# we are including them into stop words list\n",
    "# instead of <br /> if we have <br/> these tags would have revmoved in the 1st step\n",
    "\n",
    "stopwords= set(['br', 'the', 'i', 'me', 'my', 'myself', 'we', 'our', 'ours', 'ourselves', 'you', \"you're\", \"you've\",\\\n",
    "            \"you'll\", \"you'd\", 'your', 'yours', 'yourself', 'yourselves', 'he', 'him', 'his', 'himself', \\\n",
    "            'she', \"she's\", 'her', 'hers', 'herself', 'it', \"it's\", 'its', 'itself', 'they', 'them', 'their',\\\n",
    "            'theirs', 'themselves', 'what', 'which', 'who', 'whom', 'this', 'that', \"that'll\", 'these', 'those', \\\n",
    "            'am', 'is', 'are', 'was', 'were', 'be', 'been', 'being', 'have', 'has', 'had', 'having', 'do', 'does', \\\n",
    "            'did', 'doing', 'a', 'an', 'the', 'and', 'but', 'if', 'or', 'because', 'as', 'until', 'while', 'of', \\\n",
    "            'at', 'by', 'for', 'with', 'about', 'against', 'between', 'into', 'through', 'during', 'before', 'after',\\\n",
    "            'above', 'below', 'to', 'from', 'up', 'down', 'in', 'out', 'on', 'off', 'over', 'under', 'again', 'further',\\\n",
    "            'then', 'once', 'here', 'there', 'when', 'where', 'why', 'how', 'all', 'any', 'both', 'each', 'few', 'more',\\\n",
    "            'most', 'other', 'some', 'such', 'only', 'own', 'same', 'so', 'than', 'too', 'very', \\\n",
    "            's', 't', 'can', 'will', 'just', 'don', \"don't\", 'should', \"should've\", 'now', 'd', 'll', 'm', 'o', 're', \\\n",
    "            've', 'y', 'ain', 'aren', \"aren't\", 'couldn', \"couldn't\", 'didn', \"didn't\", 'doesn', \"doesn't\", 'hadn',\\\n",
    "            \"hadn't\", 'hasn', \"hasn't\", 'haven', \"haven't\", 'isn', \"isn't\", 'ma', 'mightn', \"mightn't\", 'mustn',\\\n",
    "            \"mustn't\", 'needn', \"needn't\", 'shan', \"shan't\", 'shouldn', \"shouldn't\", 'wasn', \"wasn't\", 'weren', \"weren't\", \\\n",
    "            'won', \"won't\", 'wouldn', \"wouldn't\"])"
   ]
  },
  {
   "cell_type": "code",
   "execution_count": 40,
   "metadata": {},
   "outputs": [],
   "source": [
    "# get 100k rows for processig\n",
    "data_set = final_fteng[:100000]\n",
    "f10Xdata=data_set['Text']\n",
    "f10ydata=data_set['Score']\n"
   ]
  },
  {
   "cell_type": "code",
   "execution_count": 41,
   "metadata": {},
   "outputs": [
    {
     "name": "stdout",
     "output_type": "stream",
     "text": [
      "<class 'pandas.core.frame.DataFrame'>\n",
      "(100000, 12)\n",
      "<class 'pandas.core.series.Series'>\n",
      "100000\n"
     ]
    }
   ],
   "source": [
    "print(type(data_set))\n",
    "print(data_set.shape)\n",
    "print(type(f10Xdata))\n",
    "print(len(f10ydata))"
   ]
  },
  {
   "cell_type": "code",
   "execution_count": 42,
   "metadata": {},
   "outputs": [],
   "source": [
    "#function to split the data into train/test/cross validate\n",
    "def splitdatasets(xdata,ydata):\n",
    "    #split into train and test sets (80/20)\n",
    "    X_data = xdata\n",
    "    y_data = ydata\n",
    "\n",
    "    X_train8, X_test8, y_train8, y_test8 = train_test_split(X_data, y_data, stratify=y_data,test_size=0.2, random_state=42) \n",
    "    X_trn8, X_val8, y_trn8, y_val8   = train_test_split(X_train8, y_train8, test_size=0.2, random_state=42)     \n",
    "\n",
    "    \n",
    "    return [X_trn8,X_test8,X_val8,y_trn8, y_test8,y_val8]"
   ]
  },
  {
   "cell_type": "code",
   "execution_count": 43,
   "metadata": {},
   "outputs": [],
   "source": [
    "# calling functon to split data into train , test and validation\n",
    "return_list14 = splitdatasets(f10Xdata,f10ydata)\n",
    "xtrain = return_list14[0]\n",
    "xtest  = return_list14[1]\n",
    "xval  = return_list14[2]\n",
    "y_trn = return_list14[3]\n",
    "y_test = return_list14[4]\n",
    "y_val = return_list14[5]"
   ]
  },
  {
   "cell_type": "code",
   "execution_count": 44,
   "metadata": {},
   "outputs": [],
   "source": [
    "\"\"\"\n",
    "    Set of functions to pre-proces text\n",
    "\"\"\"\n",
    "dictexpand = {row[0] : row[1] for _, row in pd.read_csv(\"E:/appliedaiacourse/assignments/dblite/expansions2.txt\").iterrows()}\n",
    "contractions_re = re.compile('(%s)' % '|'.join(dictexpand.keys()))\n",
    "\n",
    "\n",
    "# remove html\n",
    "def strip_html(text):\n",
    "    soup = BeautifulSoup(text, \"html.parser\")\n",
    "    return soup.get_text()\n",
    "\n",
    "# remove any text between square brackers\n",
    "def remove_between_square_brackets(text):\n",
    "    return re.sub('\\[[^]]*\\]', '', text)\n",
    "\n",
    "def denoise_text(text):\n",
    "    text = strip_html(text)\n",
    "    text = remove_between_square_brackets(text)    \n",
    "    return text\n",
    "\n",
    " # this expands contractions eg y'a'' to you all\n",
    "def expand_contractions(s, contractions_dict=dictexpand):\n",
    "    #print(s)\n",
    "    def replace(match):\n",
    "        #print(match)\n",
    "        return contractions_dict[match.group(0)]\n",
    "    #print(contractions_re.sub(replace, s)+ \"|\\t\" + s)\n",
    "    return contractions_re.sub(replace, s)\n",
    "\n",
    "# remove common words\n",
    "def remove_cmn_words(sumtext) :\n",
    "    text = ' '.join(e.lower() for e in sumtext.split() if e.lower() not in stopwords)\n",
    "    return text\n",
    "\n",
    "def remove_num_spechar(text):\n",
    "    #remove words with numbers\n",
    "    text = re.sub('[^A-Za-z0-9]+', ' ', text)\n",
    "    #remove spacial character:\n",
    "    text = re.sub(\"\\S*\\d\\S*\", \"\", text).strip()\n",
    "    return text\n",
    "\n",
    "# tokenizing and porter stemming \n",
    "def stem_word(sumtext):\n",
    "    # this instantiates the Porter stemmer\n",
    "    #porter=PorterStemmer()\n",
    "    stemer= SnowballStemmer(\"english\")\n",
    "    \n",
    "    sumtxt_token = word_tokenize(sumtext)    \n",
    "    smtxt_stemed =[]\n",
    "    for token in sumtxt_token:        \n",
    "        #smtxt_stemed.append(porter.stem(token))\n",
    "        smtxt_stemed.append(stemer.stem(token))\n",
    "        smtxt_stemed.append(\" \")\n",
    "    return \"\".join(smtxt_stemed)\n",
    "\n",
    "#print(contractions_re)\n",
    "\n",
    "\n",
    "\"\"\"\n",
    "main loop that processes text in summary and stores in sumpreproc\n",
    "at the end we print for a simple check\n",
    "\n",
    "Expansions2.txt is the file that contains a dictionary of contractions and\n",
    "expansions. This  approach allows us to add another items later on.\n",
    "\"\"\"\n",
    "\n",
    "def preproces_txt(textcorpus):   \n",
    "    \n",
    "    sumwordcnt = []\n",
    "    sumscore = []\n",
    "    sumpreproc = []\n",
    "    sumpreproc2 = []\n",
    "    unstemmed_summ = []    \n",
    "    i=0\n",
    "\n",
    "    all_positive_words=[] # store words from +ve reviews\n",
    "    all_negative_words=[] # store words from -ve reviews\n",
    "\n",
    "    for sumstr in textcorpus:  #final['Text'].values :\n",
    "        prcdtxt1 = denoise_text(sumstr)    \n",
    "        prcdtxt2 = remove_cmn_words(prcdtxt1)    \n",
    "        prcdtxt3 = expand_contractions(prcdtxt2)   \n",
    "        prcdtxt4 = remove_num_spechar(prcdtxt3)\n",
    "        # unstemmed_stem will contain the summary text before stemming\n",
    "        # used for bi-grams and n-grams\n",
    "        unstemmed_summ.append(prcdtxt4)\n",
    "\n",
    "        prcdtxt4 = stem_word(prcdtxt4)        \n",
    "\n",
    "        sumpreproc.append(prcdtxt4)\n",
    "\n",
    "        sumwordcnt.append(len(sumstr.split(\" \")))\n",
    "        if (final['Score'].values)[i] == 1: \n",
    "            all_positive_words.append(prcdtxt4) #list of all words used to describe positive reviews\n",
    "        if(final['Score'].values)[i] == 0:\n",
    "            all_negative_words.append(prcdtxt4) #list of all words used to describe negative reviews reviews\n",
    "        i = i + 1\n",
    "        print(\"Processed {0} word\\n\".format(i))\n",
    "    print(len(sumpreproc))\n",
    "    print(\"Process Complete...\")\n",
    "    return sumpreproc\n"
   ]
  },
  {
   "cell_type": "code",
   "execution_count": 70,
   "metadata": {},
   "outputs": [
    {
     "name": "stdout",
     "output_type": "stream",
     "text": [
      "516646    I have ordered the liquid coffee creamers in t...\n",
      "295864    I made this spaghetti for my family when my ki...\n",
      "372255    So happy to have found these low carb snack pa...\n",
      "197368    Out of all their different kinds of cookies, t...\n",
      "371961    These are a great quick meal, buying in bulk i...\n",
      "476358    It taste a little less like sugar and more lik...\n",
      "438301    This tea is just so so so so so so so gooodddd...\n",
      "131253    This is a lovely pasta made with a different w...\n",
      "195814    I ordered this to use in my popcorn machine.  ...\n",
      "189039    Premium chocolates (such as Black Panther) hav...\n",
      "Name: Text, dtype: object\n"
     ]
    }
   ],
   "source": [
    "print(xtrain[:10])"
   ]
  },
  {
   "cell_type": "markdown",
   "metadata": {},
   "source": [
    "#preprocess the data corpus stored in train/test/cross-validate\n",
    "X_train = preproces_txt(xtrain)\n",
    "X_test  = preproces_txt(xtest)\n",
    "X_val   = preproces_txt(xval)"
   ]
  },
  {
   "cell_type": "code",
   "execution_count": 46,
   "metadata": {},
   "outputs": [],
   "source": [
    "# function to write data to external storage for easier retrieval in subsequent runs\n",
    "def write_data(fnme,opdata):    \n",
    "    fname = 'E:/appliedaiacourse/assignments/dblite/' + fnme\n",
    "    with open(fname, 'wb') as fp:\n",
    "        pickle.dump(opdata, fp)"
   ]
  },
  {
   "cell_type": "code",
   "execution_count": 47,
   "metadata": {},
   "outputs": [],
   "source": [
    "# actual writing to eternal storage\n",
    "write_data('pproc_fteng_xtrain',X_train)\n",
    "write_data('pproc_fteng_xtest',X_test)\n",
    "write_data('pproc_fteng_xval',X_val)\n",
    "write_data('fteng_ytrain',y_trn)\n",
    "write_data('fteng_ytest',y_test)\n",
    "write_data('fteng_yval',y_val)"
   ]
  },
  {
   "cell_type": "code",
   "execution_count": 48,
   "metadata": {},
   "outputs": [],
   "source": [
    "#create the Mutlinomial NaiveBayes object\n",
    "mnbayes_feateng = multiNaiveBayes()\n",
    "\n",
    "#create the actual Multinomial NaiveBayes lassifier\n",
    "mnbayes_feateng_clf = mnbayes_feateng.multNBClasify()"
   ]
  },
  {
   "cell_type": "code",
   "execution_count": 49,
   "metadata": {},
   "outputs": [],
   "source": [
    "#set the train/test/validate of the feature engineered data corpus \n",
    "mnbayes_feateng.xtrain = X_train\n",
    "mnbayes_feateng.xtest = X_test\n",
    "mnbayes_feateng.xval = X_val\n",
    "mnbayes_feateng.ytrain = y_trn\n",
    "mnbayes_feateng.ytest = y_test\n",
    "mnbayes_feateng.yval = y_val"
   ]
  },
  {
   "cell_type": "code",
   "execution_count": 50,
   "metadata": {},
   "outputs": [
    {
     "name": "stdout",
     "output_type": "stream",
     "text": [
      "some feature names  ['abl', 'absolut', 'acid', 'across', 'actual', 'ad', 'add', 'addict', 'addit', 'advertis']\n",
      "==================================================\n",
      "the type of count vectorizer  <class 'scipy.sparse.csr.csr_matrix'>\n",
      "the shape of out text BOW vectorizer  (64000, 1000)\n",
      "the number of unique words  1000\n"
     ]
    }
   ],
   "source": [
    "#using the Bag of word vectorizer on the data\n",
    "mnbayes_feateng.BOWVectorizer()"
   ]
  },
  {
   "cell_type": "code",
   "execution_count": 51,
   "metadata": {},
   "outputs": [
    {
     "name": "stdout",
     "output_type": "stream",
     "text": [
      "(64000, 1000)\n",
      "(20000, 1000)\n",
      "(16000, 1000)\n",
      "(64000,)\n",
      "(20000,)\n",
      "(16000,)\n"
     ]
    }
   ],
   "source": [
    "# print shapes of input datasets for confirmation\n",
    "print((mnbayes_feateng.xtrain).shape)\n",
    "print((mnbayes_feateng.xtest).shape)\n",
    "print((mnbayes_feateng.xval).shape)\n",
    "print((mnbayes_feateng.ytrain).shape)\n",
    "print((mnbayes_feateng.ytest).shape)\n",
    "print((mnbayes_feateng.yval).shape)"
   ]
  },
  {
   "cell_type": "code",
   "execution_count": 52,
   "metadata": {},
   "outputs": [
    {
     "name": "stdout",
     "output_type": "stream",
     "text": [
      "Fitting probability generation and roc auc score generation for training data complete...\n",
      "Fitting probability generation and roc auc score generation for validation data complete...\n",
      "Predicting labels for training data complete...\n",
      "Fitting probability generation and roc auc score generation for training data complete...\n",
      "Fitting probability generation and roc auc score generation for validation data complete...\n",
      "Predicting labels for training data complete...\n",
      "Fitting probability generation and roc auc score generation for training data complete...\n",
      "Fitting probability generation and roc auc score generation for validation data complete...\n",
      "Predicting labels for training data complete...\n",
      "Fitting probability generation and roc auc score generation for training data complete...\n",
      "Fitting probability generation and roc auc score generation for validation data complete...\n",
      "Predicting labels for training data complete...\n",
      "Fitting probability generation and roc auc score generation for training data complete...\n",
      "Fitting probability generation and roc auc score generation for validation data complete...\n",
      "Predicting labels for training data complete...\n",
      "Fitting probability generation and roc auc score generation for training data complete...\n",
      "Fitting probability generation and roc auc score generation for validation data complete...\n",
      "Predicting labels for training data complete...\n",
      "Fitting probability generation and roc auc score generation for training data complete...\n",
      "Fitting probability generation and roc auc score generation for validation data complete...\n",
      "Predicting labels for training data complete...\n",
      "Fitting probability generation and roc auc score generation for training data complete...\n",
      "Fitting probability generation and roc auc score generation for validation data complete...\n",
      "Predicting labels for training data complete...\n",
      "Fitting probability generation and roc auc score generation for training data complete...\n",
      "Fitting probability generation and roc auc score generation for validation data complete...\n",
      "Predicting labels for training data complete...\n",
      "Fitting probability generation and roc auc score generation for training data complete...\n",
      "Fitting probability generation and roc auc score generation for validation data complete...\n",
      "Predicting labels for training data complete...\n",
      "Fitting probability generation and roc auc score generation for training data complete...\n",
      "Fitting probability generation and roc auc score generation for validation data complete...\n",
      "Predicting labels for training data complete...\n",
      "Fitting probability generation and roc auc score generation for training data complete...\n",
      "Fitting probability generation and roc auc score generation for validation data complete...\n",
      "Predicting labels for training data complete...\n",
      "Fitting probability generation and roc auc score generation for training data complete...\n",
      "Fitting probability generation and roc auc score generation for validation data complete...\n",
      "Predicting labels for training data complete...\n",
      "Fitting probability generation and roc auc score generation for training data complete...\n",
      "Fitting probability generation and roc auc score generation for validation data complete...\n",
      "Predicting labels for training data complete...\n",
      "Fitting probability generation and roc auc score generation for training data complete...\n",
      "Fitting probability generation and roc auc score generation for validation data complete...\n",
      "Predicting labels for training data complete...\n",
      "Fitting probability generation and roc auc score generation for training data complete...\n",
      "Fitting probability generation and roc auc score generation for validation data complete...\n",
      "Predicting labels for training data complete...\n",
      "Fitting probability generation and roc auc score generation for training data complete...\n",
      "Fitting probability generation and roc auc score generation for validation data complete...\n",
      "Predicting labels for training data complete...\n",
      "Fitting probability generation and roc auc score generation for training data complete...\n",
      "Fitting probability generation and roc auc score generation for validation data complete...\n",
      "Predicting labels for training data complete...\n",
      "Fitting probability generation and roc auc score generation for training data complete...\n",
      "Fitting probability generation and roc auc score generation for validation data complete...\n",
      "Predicting labels for training data complete...\n",
      "Fitting probability generation and roc auc score generation for training data complete...\n",
      "Fitting probability generation and roc auc score generation for validation data complete...\n",
      "Predicting labels for training data complete...\n",
      "Function exiting...\n"
     ]
    }
   ],
   "source": [
    "# calculate ROCAUCSCORE\n",
    "mnbayes_feateng.calcrocaucscore_naivebayes(100000000)"
   ]
  },
  {
   "cell_type": "code",
   "execution_count": 53,
   "metadata": {},
   "outputs": [
    {
     "name": "stdout",
     "output_type": "stream",
     "text": [
      "[0.9053365680876713, 0.9053365680876713, 0.9053365680876713, 0.9053365680876713, 0.9053365680876713, 0.9053365700261883, 0.9053365758417397, 0.9053365797187738, 0.90533656227212, 0.9053368045867547, 0.9053378688326301, 0.9053488893022151, 0.9051831557846834, 0.8919818447950495, 0.693085396430503, 0.5464037119686502, 0.514971675280183, 0.5096905828988257, 0.5091040108934115, 0.5090437501515437]\n",
      "[0.9163071019388954, 0.9163071019388954, 0.9163071019388954, 0.9163071019388954, 0.9163071019388954, 0.9163071327455263, 0.9163071327455263, 0.9163071943587884, 0.9163067014526929, 0.916305715640502, 0.9163012948889582, 0.9161995867968202, 0.9123514072961931, 0.8161240150503948, 0.5781911418366863, 0.5203568985165499, 0.5087069705301304, 0.5072543146535068, 0.5071018218302195, 0.5070857407688547]\n",
      "[1e-11, 9.999999999999999e-11, 9.999999999999999e-10, 9.999999999999999e-09, 9.999999999999998e-08, 9.999999999999997e-07, 9.999999999999997e-06, 9.999999999999998e-05, 0.0009999999999999998, 0.009999999999999998, 0.09999999999999998, 0.9999999999999998, 9.999999999999998, 99.99999999999999, 999.9999999999999, 9999.999999999998, 99999.99999999999, 999999.9999999999, 9999999.999999998, 99999999.99999999]\n"
     ]
    }
   ],
   "source": [
    "#print rocaucscore resulst\n",
    "print(mnbayes_feateng.rocaucscoretrn)\n",
    "print(mnbayes_feateng.rocaucscoreval)\n",
    "print( mnbayes_feateng.NBayes_alpha)"
   ]
  },
  {
   "cell_type": "code",
   "execution_count": 54,
   "metadata": {},
   "outputs": [
    {
     "data": {
      "image/png": "[encoded data removed]",
      "text/plain": [
       "<Figure size 1152x1152 with 1 Axes>"
      ]
     },
     "metadata": {
      "needs_background": "light"
     },
     "output_type": "display_data"
    }
   ],
   "source": [
    "#display roc auc graph\n",
    "displaygraph = drawgraphs()\n",
    "displaygraph.setdefaultparm()\n",
    "displaygraph.graph_title='Naive Bayes ROCAUCSCORE plot'\n",
    "displaygraph.legnd_1 = ' NaiveBayes-train'\n",
    "displaygraph.legnd_2 = 'NaiveBayes-val'\n",
    "displaygraph.graph_parameters['show_legnd']= True\n",
    "displaygraph.label_x='Alpha'\n",
    "displaygraph.label_y='ROC-AUC-SCORE'\n",
    "displaygraph.Xdata = mnbayes_feateng.NBayes_alpha\n",
    "displaygraph.ydatatrn = mnbayes_feateng.rocaucscoretrn\n",
    "displaygraph.ydataval = mnbayes_feateng.rocaucscoreval\n",
    "displaygraph.rocacuscoregraph()"
   ]
  },
  {
   "cell_type": "code",
   "execution_count": 55,
   "metadata": {},
   "outputs": [],
   "source": [
    "#clssify test data with actualClasifier_naivebayes function and hyper parameter 10\n",
    "mnbayes_feateng.actualClasifier_naivebayes(10)"
   ]
  },
  {
   "cell_type": "code",
   "execution_count": 56,
   "metadata": {},
   "outputs": [
    {
     "data": {
      "image/png": "[encoded data removed]",
      "text/plain": [
       "<Figure size 1152x1152 with 1 Axes>"
      ]
     },
     "metadata": {
      "needs_background": "light"
     },
     "output_type": "display_data"
    }
   ],
   "source": [
    "# displayig ROCAUC graphs for test data\n",
    "displaygraph = drawgraphs()\n",
    "displaygraph.setdefaultparm()\n",
    "displaygraph.graph_title='Naive Bayes BOW ROC Curve'\n",
    "displaygraph.legnd_1 = ' NaiveBayes-train'\n",
    "displaygraph.legnd_2 = 'NaiveBayes-test'\n",
    "displaygraph.graph_parameters['show_legnd']= True\n",
    "displaygraph.label_x='False positive rate (1-Specificity)'\n",
    "displaygraph.label_y='True positive rate (Sensitivity)'\n",
    "displaygraph.constructgraph(mnbayes_feateng.roc_curve_test['fpr_trn'],mnbayes_feateng.roc_curve_test['tpr_trn'],\\\n",
    "                            mnbayes_feateng.roc_curve_test['fpr'],mnbayes_feateng.roc_curve_test['tpr'])"
   ]
  },
  {
   "cell_type": "code",
   "execution_count": 57,
   "metadata": {},
   "outputs": [
    {
     "data": {
      "image/png": "[encoded data removed]",
      "text/plain": [
       "<Figure size 432x288 with 1 Axes>"
      ]
     },
     "metadata": {
      "needs_background": "light"
     },
     "output_type": "display_data"
    }
   ],
   "source": [
    "data = [[mnbayes_feateng.confsnmtxytstpred['tn'] ,mnbayes_feateng.confsnmtxytstpred['fn']],[mnbayes_feateng.confsnmtxytstpred['fp'],mnbayes_feateng.confsnmtxytstpred['tp']]]\n",
    "\t\t\t\t\t\t\t\n",
    "# display confusion matrix for test data\n",
    "displaygraph.draw_table(data)"
   ]
  },
  {
   "cell_type": "code",
   "execution_count": 58,
   "metadata": {},
   "outputs": [
    {
     "data": {
      "image/png": "[encoded data removed]",
      "text/plain": [
       "<Figure size 432x288 with 1 Axes>"
      ]
     },
     "metadata": {
      "needs_background": "light"
     },
     "output_type": "display_data"
    }
   ],
   "source": [
    "#display the accuracy score for validation and test data\n",
    "data1= [[mnbayes_feateng.accuracy_score_val,mnbayes_feateng.accuracy_score_test]]\n",
    "\n",
    "displaygraph.draw_accscore(data1)"
   ]
  },
  {
   "cell_type": "markdown",
   "metadata": {
    "colab_type": "text",
    "id": "6bp7BbwCJkll"
   },
   "source": [
    "## [5.2] Applying Naive Bayes on TFIDF,<font color='red'> SET 2</font>"
   ]
  },
  {
   "cell_type": "code",
   "execution_count": 0,
   "metadata": {
    "colab": {},
    "colab_type": "code",
    "id": "oL29fzPFJkll"
   },
   "outputs": [],
   "source": [
    "# Please write all the code with proper documentation"
   ]
  },
  {
   "cell_type": "code",
   "execution_count": 59,
   "metadata": {},
   "outputs": [
    {
     "name": "stdout",
     "output_type": "stream",
     "text": [
      "some sample features(unique words in the corpus) ['ab', 'abandon', 'abc', 'abdomin', 'abil', 'abl', 'abl buy', 'abl chew', 'abl drink', 'abl eat']\n",
      "==================================================\n",
      "the type of count vectorizer  <class 'scipy.sparse.csr.csr_matrix'>\n",
      "the shape of out text TFIDF vectorizer  (64000, 40440)\n",
      "the number of unique words including both unigrams and bigrams  40440\n",
      "(64000, 40440)\n",
      "(20000, 40440)\n",
      "(16000, 40440)\n",
      "(64000,)\n",
      "(20000,)\n",
      "(16000,)\n",
      "MultinomialNB(alpha=1.0, class_prior=None, fit_prior=True)\n",
      "Fitting 5 folds for each of 22 candidates, totalling 110 fits\n",
      "[Parallel(n_jobs=1)]: Using backend SequentialBackend with 1 concurrent workers.\n",
      "[CV] alpha=1e-11 .....................................................\n",
      "[CV] ............ alpha=1e-11, score=0.8341024208147471, total=   0.0s\n",
      "[Parallel(n_jobs=1)]: Done   1 out of   1 | elapsed:    0.0s remaining:    0.0s\n",
      "[CV] alpha=1e-11 .....................................................\n",
      "[CV] ............ alpha=1e-11, score=0.8523605187019969, total=   0.0s\n",
      "[Parallel(n_jobs=1)]: Done   2 out of   2 | elapsed:    0.2s remaining:    0.0s\n",
      "[CV] alpha=1e-11 .....................................................\n",
      "[CV] ............ alpha=1e-11, score=0.8484808509920759, total=   0.0s\n",
      "[Parallel(n_jobs=1)]: Done   3 out of   3 | elapsed:    0.3s remaining:    0.0s\n",
      "[CV] alpha=1e-11 .....................................................\n",
      "[CV] ............ alpha=1e-11, score=0.8414333853621568, total=   0.0s\n",
      "[Parallel(n_jobs=1)]: Done   4 out of   4 | elapsed:    0.4s remaining:    0.0s\n",
      "[CV] alpha=1e-11 .....................................................\n",
      "[CV] ............ alpha=1e-11, score=0.8372397855861736, total=   0.0s\n",
      "[Parallel(n_jobs=1)]: Done   5 out of   5 | elapsed:    0.6s remaining:    0.0s\n",
      "[CV] alpha=1e-10 .....................................................\n",
      "[CV] ............ alpha=1e-10, score=0.8341024208147471, total=   0.0s\n",
      "[Parallel(n_jobs=1)]: Done   6 out of   6 | elapsed:    0.7s remaining:    0.0s\n",
      "[CV] alpha=1e-10 .....................................................\n",
      "[CV] ............ alpha=1e-10, score=0.8523605187019969, total=   0.0s\n",
      "[Parallel(n_jobs=1)]: Done   7 out of   7 | elapsed:    0.9s remaining:    0.0s\n",
      "[CV] alpha=1e-10 .....................................................\n",
      "[CV] ............ alpha=1e-10, score=0.8484808509920759, total=   0.0s\n",
      "[Parallel(n_jobs=1)]: Done   8 out of   8 | elapsed:    1.0s remaining:    0.0s\n",
      "[CV] alpha=1e-10 .....................................................\n",
      "[CV] ............ alpha=1e-10, score=0.8414333853621568, total=   0.0s\n",
      "[Parallel(n_jobs=1)]: Done   9 out of   9 | elapsed:    1.2s remaining:    0.0s\n",
      "[CV] alpha=1e-10 .....................................................\n",
      "[CV] ............ alpha=1e-10, score=0.8372397855861736, total=   0.0s\n",
      "[Parallel(n_jobs=1)]: Done  10 out of  10 | elapsed:    1.3s remaining:    0.0s\n",
      "[CV] alpha=1e-10 .....................................................\n",
      "[CV] ............ alpha=1e-10, score=0.8341024208147471, total=   0.0s\n",
      "[Parallel(n_jobs=1)]: Done  11 out of  11 | elapsed:    1.4s remaining:    0.0s\n",
      "[CV] alpha=1e-10 .....................................................\n",
      "[CV] ............ alpha=1e-10, score=0.8523605187019969, total=   0.0s\n",
      "[Parallel(n_jobs=1)]: Done  12 out of  12 | elapsed:    1.6s remaining:    0.0s\n",
      "[CV] alpha=1e-10 .....................................................\n",
      "[CV] ............ alpha=1e-10, score=0.8484808509920759, total=   0.0s\n",
      "[Parallel(n_jobs=1)]: Done  13 out of  13 | elapsed:    1.7s remaining:    0.0s\n",
      "[CV] alpha=1e-10 .....................................................\n",
      "[CV] ............ alpha=1e-10, score=0.8414333853621568, total=   0.0s\n",
      "[Parallel(n_jobs=1)]: Done  14 out of  14 | elapsed:    1.9s remaining:    0.0s\n",
      "[CV] alpha=1e-10 .....................................................\n",
      "[CV] ............ alpha=1e-10, score=0.8372397855861736, total=   0.0s\n",
      "[Parallel(n_jobs=1)]: Done  15 out of  15 | elapsed:    2.0s remaining:    0.0s\n",
      "[CV] alpha=1e-09 .....................................................\n",
      "[CV] ............ alpha=1e-09, score=0.8409455010962301, total=   0.0s\n",
      "[Parallel(n_jobs=1)]: Done  16 out of  16 | elapsed:    2.1s remaining:    0.0s\n",
      "[CV] alpha=1e-09 .....................................................\n",
      "[CV] ............. alpha=1e-09, score=0.858750857807536, total=   0.0s\n",
      "[Parallel(n_jobs=1)]: Done  17 out of  17 | elapsed:    2.3s remaining:    0.0s\n",
      "[CV] alpha=1e-09 .....................................................\n",
      "[CV] ............ alpha=1e-09, score=0.8552354508706683, total=   0.0s\n",
      "[Parallel(n_jobs=1)]: Done  18 out of  18 | elapsed:    2.4s remaining:    0.0s\n",
      "[CV] alpha=1e-09 .....................................................\n",
      "[CV] ............ alpha=1e-09, score=0.8483708850349163, total=   0.0s\n",
      "[Parallel(n_jobs=1)]: Done  19 out of  19 | elapsed:    2.6s remaining:    0.0s\n",
      "[CV] alpha=1e-09 .....................................................\n",
      "[CV] ............ alpha=1e-09, score=0.8441433734418745, total=   0.0s\n",
      "[Parallel(n_jobs=1)]: Done  20 out of  20 | elapsed:    2.7s remaining:    0.0s\n",
      "[CV] alpha=1e-08 .....................................................\n",
      "[CV] ............ alpha=1e-08, score=0.8490731124309757, total=   0.0s\n",
      "[Parallel(n_jobs=1)]: Done  21 out of  21 | elapsed:    2.8s remaining:    0.0s\n",
      "[CV] alpha=1e-08 .....................................................\n",
      "[CV] ............ alpha=1e-08, score=0.8663234015322221, total=   0.0s\n",
      "[Parallel(n_jobs=1)]: Done  22 out of  22 | elapsed:    3.0s remaining:    0.0s\n",
      "[CV] alpha=1e-08 .....................................................\n",
      "[CV] ............ alpha=1e-08, score=0.8631616553128181, total=   0.0s\n",
      "[Parallel(n_jobs=1)]: Done  23 out of  23 | elapsed:    3.1s remaining:    0.0s\n",
      "[CV] alpha=1e-08 .....................................................\n",
      "[CV] ............ alpha=1e-08, score=0.8564962921464013, total=   0.0s\n",
      "[Parallel(n_jobs=1)]: Done  24 out of  24 | elapsed:    3.3s remaining:    0.0s\n",
      "[CV] alpha=1e-08 .....................................................\n",
      "[CV] ............ alpha=1e-08, score=0.8523692555224145, total=   0.0s\n",
      "[Parallel(n_jobs=1)]: Done  25 out of  25 | elapsed:    3.4s remaining:    0.0s\n",
      "[CV] alpha=1e-07 .....................................................\n",
      "[CV] ............ alpha=1e-07, score=0.8587636970618167, total=   0.0s\n",
      "[Parallel(n_jobs=1)]: Done  26 out of  26 | elapsed:    3.6s remaining:    0.0s\n",
      "[CV] alpha=1e-07 .....................................................\n",
      "[CV] ............ alpha=1e-07, score=0.8753172264807634, total=   0.0s\n",
      "[Parallel(n_jobs=1)]: Done  27 out of  27 | elapsed:    3.7s remaining:    0.0s\n",
      "[CV] alpha=1e-07 .....................................................\n",
      "[CV] ............. alpha=1e-07, score=0.872410448409182, total=   0.0s\n",
      "[Parallel(n_jobs=1)]: Done  28 out of  28 | elapsed:    3.9s remaining:    0.0s\n",
      "[CV] alpha=1e-07 .....................................................\n",
      "[CV] ............ alpha=1e-07, score=0.8660331968328157, total=   0.0s\n",
      "[Parallel(n_jobs=1)]: Done  29 out of  29 | elapsed:    4.0s remaining:    0.0s\n",
      "[CV] alpha=1e-07 .....................................................\n",
      "[CV] ............ alpha=1e-07, score=0.8621350589139647, total=   0.0s\n",
      "[Parallel(n_jobs=1)]: Done  30 out of  30 | elapsed:    4.1s remaining:    0.0s\n",
      "[CV] alpha=1e-06 .....................................................\n",
      "[CV] ............ alpha=1e-06, score=0.8702859345533306, total=   0.0s\n",
      "[Parallel(n_jobs=1)]: Done  31 out of  31 | elapsed:    4.3s remaining:    0.0s\n",
      "[CV] alpha=1e-06 .....................................................\n",
      "[CV] ............ alpha=1e-06, score=0.8859413944728609, total=   0.0s\n",
      "[Parallel(n_jobs=1)]: Done  32 out of  32 | elapsed:    4.4s remaining:    0.0s\n",
      "[CV] alpha=1e-06 .....................................................\n",
      "[CV] ............ alpha=1e-06, score=0.8832273731249094, total=   0.0s\n",
      "[Parallel(n_jobs=1)]: Done  33 out of  33 | elapsed:    4.6s remaining:    0.0s\n",
      "[CV] alpha=1e-06 .....................................................\n",
      "[CV] ............. alpha=1e-06, score=0.877249354584674, total=   0.0s\n",
      "[Parallel(n_jobs=1)]: Done  34 out of  34 | elapsed:    4.7s remaining:    0.0s\n"
     ]
    },
    {
     "name": "stdout",
     "output_type": "stream",
     "text": [
      "[CV] alpha=1e-06 .....................................................\n",
      "[CV] ............ alpha=1e-06, score=0.8736130091063046, total=   0.0s\n",
      "[Parallel(n_jobs=1)]: Done  35 out of  35 | elapsed:    4.8s remaining:    0.0s\n",
      "[CV] alpha=1e-05 .....................................................\n",
      "[CV] ............ alpha=1e-05, score=0.8839441879069923, total=   0.0s\n",
      "[Parallel(n_jobs=1)]: Done  36 out of  36 | elapsed:    5.0s remaining:    0.0s\n",
      "[CV] alpha=1e-05 .....................................................\n",
      "[CV] ............. alpha=1e-05, score=0.898310392896685, total=   0.0s\n",
      "[Parallel(n_jobs=1)]: Done  37 out of  37 | elapsed:    5.1s remaining:    0.0s\n",
      "[CV] alpha=1e-05 .....................................................\n",
      "[CV] ............ alpha=1e-05, score=0.8959378980533712, total=   0.0s\n",
      "[Parallel(n_jobs=1)]: Done  38 out of  38 | elapsed:    5.3s remaining:    0.0s\n",
      "[CV] alpha=1e-05 .....................................................\n",
      "[CV] ............ alpha=1e-05, score=0.8902595177550542, total=   0.0s\n",
      "[Parallel(n_jobs=1)]: Done  39 out of  39 | elapsed:    5.4s remaining:    0.0s\n",
      "[CV] alpha=1e-05 .....................................................\n",
      "[CV] ............ alpha=1e-05, score=0.8869705805412199, total=   0.0s\n",
      "[Parallel(n_jobs=1)]: Done  40 out of  40 | elapsed:    5.5s remaining:    0.0s\n",
      "[CV] alpha=0.0001 ....................................................\n",
      "[CV] ........... alpha=0.0001, score=0.8996857435052268, total=   0.0s\n",
      "[Parallel(n_jobs=1)]: Done  41 out of  41 | elapsed:    5.7s remaining:    0.0s\n",
      "[CV] alpha=0.0001 ....................................................\n",
      "[CV] ........... alpha=0.0001, score=0.9121050330458179, total=   0.0s\n",
      "[Parallel(n_jobs=1)]: Done  42 out of  42 | elapsed:    5.8s remaining:    0.0s\n",
      "[CV] alpha=0.0001 ....................................................\n",
      "[CV] ........... alpha=0.0001, score=0.9105057308056387, total=   0.0s\n",
      "[Parallel(n_jobs=1)]: Done  43 out of  43 | elapsed:    5.9s remaining:    0.0s\n",
      "[CV] alpha=0.0001 ....................................................\n",
      "[CV] ........... alpha=0.0001, score=0.9051072214572065, total=   0.0s\n",
      "[Parallel(n_jobs=1)]: Done  44 out of  44 | elapsed:    6.1s remaining:    0.0s\n",
      "[CV] alpha=0.0001 ....................................................\n",
      "[CV] ........... alpha=0.0001, score=0.9024211340577033, total=   0.0s\n",
      "[Parallel(n_jobs=1)]: Done  45 out of  45 | elapsed:    6.2s remaining:    0.0s\n",
      "[CV] alpha=0.001 .....................................................\n",
      "[CV] ............ alpha=0.001, score=0.9167932019588535, total=   0.0s\n",
      "[Parallel(n_jobs=1)]: Done  46 out of  46 | elapsed:    6.4s remaining:    0.0s\n",
      "[CV] alpha=0.001 .....................................................\n",
      "[CV] ............ alpha=0.001, score=0.9265920239257808, total=   0.0s\n",
      "[Parallel(n_jobs=1)]: Done  47 out of  47 | elapsed:    6.5s remaining:    0.0s\n",
      "[CV] alpha=0.001 .....................................................\n",
      "[CV] ............ alpha=0.001, score=0.9264420143564743, total=   0.0s\n",
      "[Parallel(n_jobs=1)]: Done  48 out of  48 | elapsed:    6.6s remaining:    0.0s\n",
      "[CV] alpha=0.001 .....................................................\n",
      "[CV] ............ alpha=0.001, score=0.9213574539191977, total=   0.0s\n",
      "[Parallel(n_jobs=1)]: Done  49 out of  49 | elapsed:    6.8s remaining:    0.0s\n",
      "[CV] alpha=0.001 .....................................................\n",
      "[CV] ............. alpha=0.001, score=0.919451653432574, total=   0.0s\n",
      "[Parallel(n_jobs=1)]: Done  50 out of  50 | elapsed:    6.9s remaining:    0.0s\n",
      "[CV] alpha=0.01 ......................................................\n",
      "[CV] ............. alpha=0.01, score=0.9330760895875683, total=   0.0s\n",
      "[Parallel(n_jobs=1)]: Done  51 out of  51 | elapsed:    7.1s remaining:    0.0s\n",
      "[CV] alpha=0.01 ......................................................\n",
      "[CV] ............. alpha=0.01, score=0.9396592839824054, total=   0.0s\n",
      "[Parallel(n_jobs=1)]: Done  52 out of  52 | elapsed:    7.2s remaining:    0.0s\n",
      "[CV] alpha=0.01 ......................................................\n",
      "[CV] ............. alpha=0.01, score=0.9417708728237165, total=   0.0s\n",
      "[Parallel(n_jobs=1)]: Done  53 out of  53 | elapsed:    7.3s remaining:    0.0s\n",
      "[CV] alpha=0.01 ......................................................\n",
      "[CV] .............. alpha=0.01, score=0.936979529964278, total=   0.0s\n",
      "[Parallel(n_jobs=1)]: Done  54 out of  54 | elapsed:    7.5s remaining:    0.0s\n",
      "[CV] alpha=0.01 ......................................................\n",
      "[CV] ............. alpha=0.01, score=0.9357624859965284, total=   0.0s\n",
      "[Parallel(n_jobs=1)]: Done  55 out of  55 | elapsed:    7.6s remaining:    0.0s\n",
      "[CV] alpha=1 .........................................................\n",
      "[CV] ................ alpha=1, score=0.9349835667235211, total=   0.0s\n",
      "[Parallel(n_jobs=1)]: Done  56 out of  56 | elapsed:    7.8s remaining:    0.0s\n",
      "[CV] alpha=1 .........................................................\n",
      "[CV] ................ alpha=1, score=0.9411851203411192, total=   0.0s\n",
      "[Parallel(n_jobs=1)]: Done  57 out of  57 | elapsed:    7.9s remaining:    0.0s\n",
      "[CV] alpha=1 .........................................................\n",
      "[CV] ................ alpha=1, score=0.9482351820453364, total=   0.0s\n",
      "[Parallel(n_jobs=1)]: Done  58 out of  58 | elapsed:    8.1s remaining:    0.0s\n",
      "[CV] alpha=1 .........................................................\n",
      "[CV] ................ alpha=1, score=0.9416865580441351, total=   0.0s\n",
      "[Parallel(n_jobs=1)]: Done  59 out of  59 | elapsed:    8.2s remaining:    0.0s\n",
      "[CV] alpha=1 .........................................................\n",
      "[CV] ................ alpha=1, score=0.9399984331237636, total=   0.0s\n",
      "[Parallel(n_jobs=1)]: Done  60 out of  60 | elapsed:    8.4s remaining:    0.0s\n",
      "[CV] alpha=10 ........................................................\n",
      "[CV] ............... alpha=10, score=0.7843032412867006, total=   0.0s\n",
      "[Parallel(n_jobs=1)]: Done  61 out of  61 | elapsed:    8.5s remaining:    0.0s\n",
      "[CV] alpha=10 ........................................................\n",
      "[CV] ............... alpha=10, score=0.8029018943374917, total=   0.0s\n",
      "[Parallel(n_jobs=1)]: Done  62 out of  62 | elapsed:    8.6s remaining:    0.0s\n",
      "[CV] alpha=10 ........................................................\n",
      "[CV] ............... alpha=10, score=0.8067329988812835, total=   0.0s\n",
      "[Parallel(n_jobs=1)]: Done  63 out of  63 | elapsed:    8.8s remaining:    0.0s\n",
      "[CV] alpha=10 ........................................................\n",
      "[CV] ............... alpha=10, score=0.7975181882722029, total=   0.0s\n",
      "[Parallel(n_jobs=1)]: Done  64 out of  64 | elapsed:    8.9s remaining:    0.0s\n",
      "[CV] alpha=10 ........................................................\n",
      "[CV] ............... alpha=10, score=0.7895332764371095, total=   0.0s\n",
      "[Parallel(n_jobs=1)]: Done  65 out of  65 | elapsed:    9.1s remaining:    0.0s\n",
      "[CV] alpha=100 .......................................................\n",
      "[CV] ............... alpha=100, score=0.666168584350606, total=   0.0s\n",
      "[Parallel(n_jobs=1)]: Done  66 out of  66 | elapsed:    9.2s remaining:    0.0s\n",
      "[CV] alpha=100 .......................................................\n",
      "[CV] .............. alpha=100, score=0.6831378149081475, total=   0.0s\n",
      "[Parallel(n_jobs=1)]: Done  67 out of  67 | elapsed:    9.4s remaining:    0.0s\n",
      "[CV] alpha=100 .......................................................\n",
      "[CV] .............. alpha=100, score=0.6856976879858528, total=   0.0s\n",
      "[Parallel(n_jobs=1)]: Done  68 out of  68 | elapsed:    9.5s remaining:    0.0s\n",
      "[CV] alpha=100 .......................................................\n",
      "[CV] .............. alpha=100, score=0.6709017896325151, total=   0.0s\n",
      "[Parallel(n_jobs=1)]: Done  69 out of  69 | elapsed:    9.6s remaining:    0.0s\n",
      "[CV] alpha=100 .......................................................\n",
      "[CV] .............. alpha=100, score=0.6665133241686587, total=   0.0s\n",
      "[Parallel(n_jobs=1)]: Done  70 out of  70 | elapsed:    9.8s remaining:    0.0s\n",
      "[CV] alpha=1000 ......................................................\n",
      "[CV] ............. alpha=1000, score=0.6322619548961357, total=   0.0s\n",
      "[Parallel(n_jobs=1)]: Done  71 out of  71 | elapsed:   10.0s remaining:    0.0s\n"
     ]
    },
    {
     "name": "stdout",
     "output_type": "stream",
     "text": [
      "[CV] alpha=1000 ......................................................\n",
      "[CV] ............. alpha=1000, score=0.6467784518359359, total=   0.0s\n",
      "[Parallel(n_jobs=1)]: Done  72 out of  72 | elapsed:   10.1s remaining:    0.0s\n",
      "[CV] alpha=1000 ......................................................\n",
      "[CV] ............. alpha=1000, score=0.6481250353717543, total=   0.0s\n",
      "[Parallel(n_jobs=1)]: Done  73 out of  73 | elapsed:   10.3s remaining:    0.0s\n",
      "[CV] alpha=1000 ......................................................\n",
      "[CV] ............. alpha=1000, score=0.6335037214280215, total=   0.0s\n",
      "[Parallel(n_jobs=1)]: Done  74 out of  74 | elapsed:   10.4s remaining:    0.0s\n",
      "[CV] alpha=1000 ......................................................\n",
      "[CV] .............. alpha=1000, score=0.633677328600126, total=   0.0s\n",
      "[Parallel(n_jobs=1)]: Done  75 out of  75 | elapsed:   10.5s remaining:    0.0s\n",
      "[CV] alpha=10000 .....................................................\n",
      "[CV] ............ alpha=10000, score=0.6236867865371746, total=   0.0s\n",
      "[Parallel(n_jobs=1)]: Done  76 out of  76 | elapsed:   10.7s remaining:    0.0s\n",
      "[CV] alpha=10000 .....................................................\n",
      "[CV] ............ alpha=10000, score=0.6376768740514698, total=   0.0s\n",
      "[Parallel(n_jobs=1)]: Done  77 out of  77 | elapsed:   10.8s remaining:    0.0s\n",
      "[CV] alpha=10000 .....................................................\n",
      "[CV] ............. alpha=10000, score=0.638900711776604, total=   0.0s\n",
      "[Parallel(n_jobs=1)]: Done  78 out of  78 | elapsed:   11.0s remaining:    0.0s\n",
      "[CV] alpha=10000 .....................................................\n",
      "[CV] ............ alpha=10000, score=0.6249045669594282, total=   0.0s\n",
      "[Parallel(n_jobs=1)]: Done  79 out of  79 | elapsed:   11.1s remaining:    0.0s\n",
      "[CV] alpha=10000 .....................................................\n",
      "[CV] ............ alpha=10000, score=0.6264462820334563, total=   0.0s\n",
      "[Parallel(n_jobs=1)]: Done  80 out of  80 | elapsed:   11.2s remaining:    0.0s\n",
      "[CV] alpha=100000 ....................................................\n",
      "[CV] ........... alpha=100000, score=0.6225530561591889, total=   0.0s\n",
      "[Parallel(n_jobs=1)]: Done  81 out of  81 | elapsed:   11.4s remaining:    0.0s\n",
      "[CV] alpha=100000 ....................................................\n",
      "[CV] ........... alpha=100000, score=0.6365090833121283, total=   0.0s\n",
      "[Parallel(n_jobs=1)]: Done  82 out of  82 | elapsed:   11.5s remaining:    0.0s\n",
      "[CV] alpha=100000 ....................................................\n",
      "[CV] ........... alpha=100000, score=0.6377062124817133, total=   0.0s\n",
      "[Parallel(n_jobs=1)]: Done  83 out of  83 | elapsed:   11.7s remaining:    0.0s\n",
      "[CV] alpha=100000 ....................................................\n",
      "[CV] ........... alpha=100000, score=0.6238021299045117, total=   0.0s\n",
      "[Parallel(n_jobs=1)]: Done  84 out of  84 | elapsed:   11.8s remaining:    0.0s\n",
      "[CV] alpha=100000 ....................................................\n",
      "[CV] ........... alpha=100000, score=0.6255166279892576, total=   0.0s\n",
      "[Parallel(n_jobs=1)]: Done  85 out of  85 | elapsed:   12.0s remaining:    0.0s\n",
      "[CV] alpha=1000000 ...................................................\n",
      "[CV] .......... alpha=1000000, score=0.6224394893213256, total=   0.0s\n",
      "[Parallel(n_jobs=1)]: Done  86 out of  86 | elapsed:   12.1s remaining:    0.0s\n",
      "[CV] alpha=1000000 ...................................................\n",
      "[CV] .......... alpha=1000000, score=0.6363900900724561, total=   0.0s\n",
      "[Parallel(n_jobs=1)]: Done  87 out of  87 | elapsed:   12.2s remaining:    0.0s\n",
      "[CV] alpha=1000000 ...................................................\n",
      "[CV] ............ alpha=1000000, score=0.63758735369661, total=   0.0s\n",
      "[Parallel(n_jobs=1)]: Done  88 out of  88 | elapsed:   12.4s remaining:    0.0s\n",
      "[CV] alpha=1000000 ...................................................\n",
      "[CV] .......... alpha=1000000, score=0.6236878623522497, total=   0.0s\n",
      "[Parallel(n_jobs=1)]: Done  89 out of  89 | elapsed:   12.5s remaining:    0.0s\n",
      "[CV] alpha=1000000 ...................................................\n",
      "[CV] .......... alpha=1000000, score=0.6254125897342069, total=   0.0s\n",
      "[Parallel(n_jobs=1)]: Done  90 out of  90 | elapsed:   12.7s remaining:    0.0s\n",
      "[CV] alpha=10000000 ..................................................\n",
      "[CV] ......... alpha=10000000, score=0.6224254388166413, total=   0.0s\n",
      "[Parallel(n_jobs=1)]: Done  91 out of  91 | elapsed:   12.8s remaining:    0.0s\n",
      "[CV] alpha=10000000 ..................................................\n",
      "[CV] ......... alpha=10000000, score=0.6363785589686115, total=   0.0s\n",
      "[Parallel(n_jobs=1)]: Done  92 out of  92 | elapsed:   13.0s remaining:    0.0s\n",
      "[CV] alpha=10000000 ..................................................\n",
      "[CV] ......... alpha=10000000, score=0.6375730111770866, total=   0.0s\n",
      "[Parallel(n_jobs=1)]: Done  93 out of  93 | elapsed:   13.1s remaining:    0.0s\n",
      "[CV] alpha=10000000 ..................................................\n",
      "[CV] ......... alpha=10000000, score=0.6236785541765881, total=   0.0s\n",
      "[Parallel(n_jobs=1)]: Done  94 out of  94 | elapsed:   13.3s remaining:    0.0s\n",
      "[CV] alpha=10000000 ..................................................\n",
      "[CV] ......... alpha=10000000, score=0.6254037178792795, total=   0.0s\n",
      "[Parallel(n_jobs=1)]: Done  95 out of  95 | elapsed:   13.5s remaining:    0.0s\n",
      "[CV] alpha=100000000 .................................................\n",
      "[CV] ........ alpha=100000000, score=0.6224239853161566, total=   0.0s\n",
      "[Parallel(n_jobs=1)]: Done  96 out of  96 | elapsed:   13.7s remaining:    0.0s\n",
      "[CV] alpha=100000000 .................................................\n",
      "[CV] ........ alpha=100000000, score=0.6363777353183369, total=   0.0s\n",
      "[Parallel(n_jobs=1)]: Done  97 out of  97 | elapsed:   13.9s remaining:    0.0s\n",
      "[CV] alpha=100000000 .................................................\n",
      "[CV] ........ alpha=100000000, score=0.6375723328146768, total=   0.0s\n",
      "[Parallel(n_jobs=1)]: Done  98 out of  98 | elapsed:   14.0s remaining:    0.0s\n",
      "[CV] alpha=100000000 .................................................\n",
      "[CV] ........ alpha=100000000, score=0.6236771967343041, total=   0.0s\n",
      "[Parallel(n_jobs=1)]: Done  99 out of  99 | elapsed:   14.2s remaining:    0.0s\n",
      "[CV] alpha=100000000 .................................................\n",
      "[CV] ........ alpha=100000000, score=0.6254026513174851, total=   0.0s\n",
      "[CV] alpha=1000000000 ................................................\n",
      "[CV] ....... alpha=1000000000, score=0.6224238641911164, total=   0.0s\n",
      "[CV] alpha=1000000000 ................................................\n",
      "[CV] ....... alpha=1000000000, score=0.6363774688432481, total=   0.0s\n",
      "[CV] alpha=1000000000 ................................................\n",
      "[CV] ....... alpha=1000000000, score=0.6375723085874478, total=   0.0s\n",
      "[CV] alpha=1000000000 ................................................\n",
      "[CV] ....... alpha=1000000000, score=0.6236771724942634, total=   0.0s\n",
      "[CV] alpha=1000000000 ................................................\n",
      "[CV] ....... alpha=1000000000, score=0.6254025301172811, total=   0.0s\n",
      "[CV] alpha=10000000000 ...............................................\n",
      "[CV] ...... alpha=10000000000, score=0.6224239610911486, total=   0.0s\n",
      "[CV] alpha=10000000000 ...............................................\n",
      "[CV] ...... alpha=10000000000, score=0.6363774930682562, total=   0.0s\n",
      "[CV] alpha=10000000000 ...............................................\n",
      "[CV] ...... alpha=10000000000, score=0.6375725266325082, total=   0.0s\n",
      "[CV] alpha=10000000000 ...............................................\n",
      "[CV] ...... alpha=10000000000, score=0.6236771967343041, total=   0.0s\n",
      "[CV] alpha=10000000000 ...............................................\n",
      "[CV] ...... alpha=10000000000, score=0.6254025058772403, total=   0.0s\n",
      "[Parallel(n_jobs=1)]: Done 110 out of 110 | elapsed:   15.9s finished\n",
      "0.9412176858633234\n",
      "{'alpha': 1}\n",
      "GridSearchCV(cv=5, error_score='raise-deprecating',\n",
      "       estimator=MultinomialNB(alpha=1.0, class_prior=None, fit_prior=True),\n",
      "       fit_params=None, iid='warn', n_jobs=1,\n",
      "       param_grid={'alpha': [1e-11, 1e-10, 1e-10, 1e-09, 1e-08, 1e-07, 1e-06, 1e-05, 0.0001, 0.001, 0.01, 1, 10, 100, 1000, 10000, 100000, 1000000, 10000000, 100000000, 1000000000, 10000000000]},\n",
      "       pre_dispatch='2*n_jobs', refit=True, return_train_score='warn',\n"
     ]
    },
    {
     "name": "stdout",
     "output_type": "stream",
     "text": [
      "       scoring='roc_auc', verbose=100)\n",
      "Fitting probability generation and roc auc score generation for training data complete...\n",
      "Fitting probability generation and roc auc score generation for validation data complete...\n",
      "Predicting labels for training data complete...\n",
      "Fitting probability generation and roc auc score generation for training data complete...\n",
      "Fitting probability generation and roc auc score generation for validation data complete...\n",
      "Predicting labels for training data complete...\n",
      "Fitting probability generation and roc auc score generation for training data complete...\n",
      "Fitting probability generation and roc auc score generation for validation data complete...\n",
      "Predicting labels for training data complete...\n",
      "Fitting probability generation and roc auc score generation for training data complete...\n",
      "Fitting probability generation and roc auc score generation for validation data complete...\n",
      "Predicting labels for training data complete...\n",
      "Fitting probability generation and roc auc score generation for training data complete...\n",
      "Fitting probability generation and roc auc score generation for validation data complete...\n",
      "Predicting labels for training data complete...\n",
      "Fitting probability generation and roc auc score generation for training data complete...\n",
      "Fitting probability generation and roc auc score generation for validation data complete...\n",
      "Predicting labels for training data complete...\n",
      "Fitting probability generation and roc auc score generation for training data complete...\n",
      "Fitting probability generation and roc auc score generation for validation data complete...\n",
      "Predicting labels for training data complete...\n",
      "Fitting probability generation and roc auc score generation for training data complete...\n",
      "Fitting probability generation and roc auc score generation for validation data complete...\n",
      "Predicting labels for training data complete...\n",
      "Fitting probability generation and roc auc score generation for training data complete...\n",
      "Fitting probability generation and roc auc score generation for validation data complete...\n",
      "Predicting labels for training data complete...\n",
      "Fitting probability generation and roc auc score generation for training data complete...\n",
      "Fitting probability generation and roc auc score generation for validation data complete...\n",
      "Predicting labels for training data complete...\n",
      "Fitting probability generation and roc auc score generation for training data complete...\n",
      "Fitting probability generation and roc auc score generation for validation data complete...\n",
      "Predicting labels for training data complete...\n",
      "Fitting probability generation and roc auc score generation for training data complete...\n",
      "Fitting probability generation and roc auc score generation for validation data complete...\n",
      "Predicting labels for training data complete...\n",
      "Fitting probability generation and roc auc score generation for training data complete...\n",
      "Fitting probability generation and roc auc score generation for validation data complete...\n",
      "Predicting labels for training data complete...\n",
      "Fitting probability generation and roc auc score generation for training data complete...\n",
      "Fitting probability generation and roc auc score generation for validation data complete...\n",
      "Predicting labels for training data complete...\n",
      "Fitting probability generation and roc auc score generation for training data complete...\n",
      "Fitting probability generation and roc auc score generation for validation data complete...\n",
      "Predicting labels for training data complete...\n",
      "Fitting probability generation and roc auc score generation for training data complete...\n",
      "Fitting probability generation and roc auc score generation for validation data complete...\n",
      "Predicting labels for training data complete...\n",
      "Fitting probability generation and roc auc score generation for training data complete...\n",
      "Fitting probability generation and roc auc score generation for validation data complete...\n",
      "Predicting labels for training data complete...\n",
      "Fitting probability generation and roc auc score generation for training data complete...\n",
      "Fitting probability generation and roc auc score generation for validation data complete...\n",
      "Predicting labels for training data complete...\n",
      "Fitting probability generation and roc auc score generation for training data complete...\n",
      "Fitting probability generation and roc auc score generation for validation data complete...\n",
      "Predicting labels for training data complete...\n",
      "Fitting probability generation and roc auc score generation for training data complete...\n",
      "Fitting probability generation and roc auc score generation for validation data complete...\n",
      "Predicting labels for training data complete...\n",
      "Function exiting...\n",
      "[0.9905811497017565, 0.9905811497017565, 0.9905219260665249, 0.9904325895070133, 0.990295594505154, 0.9900843058363036, 0.9897434214852779, 0.989169682462916, 0.9881498441366359, 0.9861671947794589, 0.9817116140799582, 0.9688370750370262, 0.8357938022724523, 0.6877716758989576, 0.6443691334221521, 0.6336192246041799, 0.6321772935694682, 0.632026502141569, 0.632011787827693, 0.6320103901568802]\n",
      "[0.9997008060000474, 0.9997008060000474, 0.9996999434143802, 0.999698403082832, 0.9996952299998423, 0.9996894999664825, 0.999675852628964, 0.9996427663073053, 0.9995496994751536, 0.9991589481679666, 0.9967227597910866, 0.9612179019550628, 0.7552943043714857, 0.6691463950819801, 0.6450467681626038, 0.6409771505985853, 0.6405307009026097, 0.6404847066025757, 0.6404799623814068, 0.6404795772985197]\n",
      "[1e-11, 9.999999999999999e-11, 9.999999999999999e-10, 9.999999999999999e-09, 9.999999999999998e-08, 9.999999999999997e-07, 9.999999999999997e-06, 9.999999999999998e-05, 0.0009999999999999998, 0.009999999999999998, 0.09999999999999998, 0.9999999999999998, 9.999999999999998, 99.99999999999999, 999.9999999999999, 9999.999999999998, 99999.99999999999, 999999.9999999999, 9999999.999999998, 99999999.99999999]\n"
     ]
    },
    {
     "data": {
      "image/png": "[encoded data removed]",
      "text/plain": [
       "<Figure size 1152x1152 with 1 Axes>"
      ]
     },
     "metadata": {
      "needs_background": "light"
     },
     "output_type": "display_data"
    },
    {
     "data": {
      "image/png": "[encoded data removed]",
      "text/plain": [
       "<Figure size 1152x1152 with 1 Axes>"
      ]
     },
     "metadata": {
      "needs_background": "light"
     },
     "output_type": "display_data"
    },
    {
     "data": {
      "image/png": "[encoded data removed]",
      "text/plain": [
       "<Figure size 432x288 with 1 Axes>"
      ]
     },
     "metadata": {
      "needs_background": "light"
     },
     "output_type": "display_data"
    },
    {
     "data": {
      "image/png": "[encoded data removed]",
      "text/plain": [
       "<Figure size 432x288 with 1 Axes>"
      ]
     },
     "metadata": {
      "needs_background": "light"
     },
     "output_type": "display_data"
    }
   ],
   "source": [
    "#\"\"\"\n",
    "#crate python object for Multinomial Naive Bayes \n",
    "mnbayes_tfidf = multiNaiveBayes()\n",
    "\n",
    "#clasifier for the actual classification\n",
    "mnbayes_tfidf_clf = mnbayes_tfidf.multNBClasify()\n",
    "\n",
    "#load data\n",
    "mnbayes_tfidf.xtrain,mnbayes_tfidf.xtest,mnbayes_tfidf.xval, mnbayes_tfidf.ytrain,mnbayes_tfidf.ytest,mnbayes_tfidf.yval = load_data()\n",
    "\n",
    "#tfidf vectorizer for the data corpus\n",
    "mnbayes_tfidf.tfIdfVectorizer()\n",
    "\n",
    "#print the shapes for confirmation\n",
    "print((mnbayes_tfidf.xtrain).shape)\n",
    "print((mnbayes_tfidf.xtest).shape)\n",
    "print((mnbayes_tfidf.xval).shape)\n",
    "print((mnbayes_tfidf.ytrain).shape)\n",
    "print((mnbayes_tfidf.ytest).shape)\n",
    "print((mnbayes_tfidf.yval).shape)\n",
    "#print the classifier\n",
    "print(mnbayes_tfidf.getNBClassifier())\n",
    "\n",
    "#hyper parameter tune alpha for the tfidf vectorized corpus\n",
    "return_63 = mnbayes_tfidf.hyperparamtuning([0.00000000001,0.0000000001,0.0000000001,0.000000001,0.00000001,0.0000001,0.000001,0.00001,0.0001,0.001,0.01,1,10,100,1000,10000,100000,1000000,10000000,100000000,1000000000,10000000000],'roc_auc')\n",
    "\n",
    "#print the results of the hyper parameter tuning corpus\n",
    "print(return_63[0])\n",
    "print(return_63[1])\n",
    "print(return_63[2])\n",
    "\n",
    "#calculate roc auc score varying alpha\n",
    "mnbayes_tfidf.calcrocaucscore_naivebayes(100000000)\n",
    "\n",
    "#print output data for confirmation\n",
    "print(mnbayes_tfidf.rocaucscoretrn)\n",
    "print(mnbayes_tfidf.rocaucscoreval)\n",
    "print( mnbayes_tfidf.NBayes_alpha)\n",
    "#\"\"\"\n",
    "\n",
    "# display the rocauc score\n",
    "displaygraph = drawgraphs()\n",
    "displaygraph.setdefaultparm()\n",
    "displaygraph.graph_title='Naive Bayes ROCAUCSCORE plot'\n",
    "displaygraph.legnd_1 = ' NaiveBayes-train'\n",
    "displaygraph.legnd_2 = 'NaiveBayes-val'\n",
    "displaygraph.graph_parameters['show_legnd']= True\n",
    "displaygraph.label_x='Alpha'\n",
    "displaygraph.label_y='ROC-AUC-SCORE'\n",
    "displaygraph.Xdata = mnbayes_tfidf.NBayes_alpha\n",
    "displaygraph.ydatatrn = mnbayes_tfidf.rocaucscoretrn\n",
    "displaygraph.ydataval = mnbayes_tfidf.rocaucscoreval\n",
    "displaygraph.rocacuscoregraph()\n",
    "\n",
    "#process the unseen or test data with the hyper parameter tuned value for alpha\n",
    "mnbayes_tfidf.actualClasifier_naivebayes(1)\n",
    "\n",
    "\n",
    "# testing code for displayig graphs\n",
    "displaygraph = drawgraphs()\n",
    "displaygraph.setdefaultparm()\n",
    "displaygraph.graph_title='Naive Bayes BOW ROC Curve'\n",
    "displaygraph.legnd_1 = ' NaiveBayes-train'\n",
    "displaygraph.legnd_2 = 'NaiveBayes-test'\n",
    "displaygraph.graph_parameters['show_legnd']= True\n",
    "displaygraph.label_x='False positive rate (1-Specificity)'\n",
    "displaygraph.label_y='True positive rate (Sensitivity)'\n",
    "displaygraph.constructgraph(mnbayes_tfidf.roc_curve_test['fpr_trn'],mnbayes_tfidf.roc_curve_test['tpr_trn'],\\\n",
    "                            mnbayes_tfidf.roc_curve_test['fpr'],mnbayes_tfidf.roc_curve_test['tpr'])\n",
    "\n",
    "#display conusion matrix\n",
    "data = [[mnbayes_tfidf.confsnmtxytstpred['tn'] ,mnbayes_tfidf.confsnmtxytstpred['fn']],[mnbayes_tfidf.confsnmtxytstpred['fp'],mnbayes_tfidf.confsnmtxytstpred['tp']]]\n",
    "displaygraph.draw_table(data)\n",
    "\n",
    "#display accuracy score\n",
    "data1= [[mnbayes_tfidf.accuracy_score_val,mnbayes_tfidf.accuracy_score_test]]\n",
    "\n",
    "displaygraph.draw_accscore(data1)"
   ]
  },
  {
   "cell_type": "markdown",
   "metadata": {
    "colab_type": "text",
    "id": "Dtpj7iMSJkln"
   },
   "source": [
    "### [5.2.1] Top 10 important features of positive class from<font color='red'> SET 2</font>"
   ]
  },
  {
   "cell_type": "code",
   "execution_count": 0,
   "metadata": {
    "colab": {},
    "colab_type": "code",
    "id": "g3flcTmmJklo"
   },
   "outputs": [],
   "source": [
    "# Please write all the code with proper documentation"
   ]
  },
  {
   "cell_type": "code",
   "execution_count": 60,
   "metadata": {},
   "outputs": [],
   "source": [
    "feature_names = mnbayes_tfidf.tf_idf_vect.get_feature_names()"
   ]
  },
  {
   "cell_type": "code",
   "execution_count": 61,
   "metadata": {},
   "outputs": [
    {
     "name": "stdout",
     "output_type": "stream",
     "text": [
      "1: product flavor use like tast good not love great tea\n",
      " -6.240321352140638 \n",
      " -6.217273141048056 \n",
      " -6.215149461835411 \n",
      " -6.14808490415411 \n",
      " -6.1233938511973225 \n",
      " -6.097917976278151 \n",
      " -6.043091648591179 \n",
      " -6.0426606142292085 \n",
      " -6.026088459211894 \n",
      " -5.930454976358275 \n"
     ]
    }
   ],
   "source": [
    "top10_posve = np.argsort(mnbayes_tfidf_clf.feature_log_prob_[1])[-10:]\n",
    "\n",
    "print(\"%s: %s\" % (1,\n",
    "    \" \".join(feature_names[j] for j in top10_posve)))\n",
    "for k in top10_posve:\n",
    "    print(\" {0} \".format(mnbayes_tfidf_clf.feature_log_prob_[1][k]))"
   ]
  },
  {
   "cell_type": "markdown",
   "metadata": {
    "colab_type": "text",
    "id": "UovIVRyEJklq"
   },
   "source": [
    "### [5.2.2] Top 10 important features of negative class from<font color='red'> SET 2</font>"
   ]
  },
  {
   "cell_type": "code",
   "execution_count": 114,
   "metadata": {
    "colab": {},
    "colab_type": "code",
    "id": "i3i3cShuJklr"
   },
   "outputs": [],
   "source": [
    "# Please write all the code with proper documentation"
   ]
  },
  {
   "cell_type": "code",
   "execution_count": 62,
   "metadata": {},
   "outputs": [
    {
     "name": "stdout",
     "output_type": "stream",
     "text": [
      "0: tri tea it order one would like product tast not \n",
      " -7.188426950174545 \n",
      " -7.177554369700099 \n",
      " -7.147491643515288 \n",
      " -7.131539094498196 \n",
      " -7.107405544073313 \n",
      " -6.929602083577947 \n",
      " -6.751295136319813 \n",
      " -6.698598341648012 \n",
      " -6.61501140587509 \n",
      " -6.201522592294338 \n"
     ]
    }
   ],
   "source": [
    "\n",
    "top10_negve = np.argsort(mnbayes_tfidf_clf.feature_log_prob_[0])[-10:]\n",
    "\n",
    "print(\"%s: %s \" % (0,\n",
    "    \" \".join(feature_names[j] for j in top10_negve)))\n",
    "for k in top10_negve:\n",
    "    print(\" {0} \".format(mnbayes_tfidf_clf.feature_log_prob_[0][k]))"
   ]
  },
  {
   "cell_type": "markdown",
   "metadata": {
    "colab_type": "text",
    "id": "vst5Y7mmJklu"
   },
   "source": [
    "# [6] Conclusions"
   ]
  },
  {
   "cell_type": "code",
   "execution_count": 0,
   "metadata": {
    "colab": {},
    "colab_type": "code",
    "id": "De9HYtIGJklv"
   },
   "outputs": [],
   "source": [
    "# Please compare all your models using Prettytable library"
   ]
  },
  {
   "cell_type": "code",
   "execution_count": 63,
   "metadata": {},
   "outputs": [
    {
     "name": "stdout",
     "output_type": "stream",
     "text": [
      "+----------------+-----------------+---------+\n",
      "|   Vectorizer   | Hyper Parameter |   AUC   |\n",
      "+----------------+-----------------+---------+\n",
      "|      BOW       |        1        | 0.88745 |\n",
      "| BOW Feat Engg. |        1        | 0.88695 |\n",
      "|     TFIDF      |        1        |  0.8558 |\n",
      "+----------------+-----------------+---------+\n"
     ]
    }
   ],
   "source": [
    "from prettytable import from_html_one\n",
    "L1  =  '<html>'\n",
    "L2  =  '<head>'\n",
    "\n",
    "L3  =  '<STYLE TYPE=\"text/css\">'\n",
    "L4  =  '<!--'\n",
    "L5  =  'td {font-family: Arial; font-size: 10pt; background-color: #000000; color: white;}'\n",
    "L6  =  'THEAD {font-family: Arial; font-size: 14pt; background-color: #000000; color: white;}'\n",
    "L7  =  '--->'\n",
    "L8  =  '</STYLE>'\n",
    "\n",
    "L9  =  '</head>'\n",
    "L10  =  '<body>'\n",
    "\n",
    "L11  =  '<table border=1 solid> '\n",
    "L12  =  '<tr>'\n",
    "L13  =  '<th>Vectorizer </th>'\n",
    "L15  =  '<th>Hyper Parameter</th>'\n",
    "L16  =  '<th>AUC</th>'\n",
    "L17  =  '</tr>'\n",
    "L18  =  '<tr><td> BOW </td><td> 1 </td><td> 0.88745</td></tr>'\n",
    "L19  =  '<tr><td> BOW Feat Engg. </td><td> 1 </td><td> 0.88695</td></tr>'\n",
    "L20  =  '<tr><td> TFIDF </td><td> 1 </td><td> 0.8558</td></tr>'\n",
    "\n",
    "L22  =  '</table>'\n",
    "\n",
    "L23  =  '</body>'\n",
    "L24  =  '</html>'\n",
    "\n",
    "html_string = L1+L2+L3+L4+L5+L6+L7+L8+L9+L10+L11+L12+L13+L15+L16+L17+L18+L19+L20+L22+L23+L24\n",
    "#html_string = L1+L2+L3+L4+L5+L6+L7+L8+L9+L10+L11+L12+L13+L14+L15+L16+L17+L18+L22+L23+L24\n",
    "tbl = from_html_one(html_string)\n",
    "\n",
    "print(tbl)"
   ]
  },
  {
   "cell_type": "code",
   "execution_count": null,
   "metadata": {},
   "outputs": [],
   "source": []
  }
 ],
 "metadata": {
  "colab": {
   "name": "04 Amazon Fine Food Reviews Analysis_NaiveBayes.ipynb",
   "provenance": [],
   "version": "0.3.2"
  },
  "kernelspec": {
   "display_name": "Python 3",
   "language": "python",
   "name": "python3"
  },
  "language_info": {
   "codemirror_mode": {
    "name": "ipython",
    "version": 3
   },
   "file_extension": ".py",
   "mimetype": "text/x-python",
   "name": "python",
   "nbconvert_exporter": "python",
   "pygments_lexer": "ipython3",
   "version": "3.6.8"
  }
 },
 "nbformat": 4,
 "nbformat_minor": 1
}
